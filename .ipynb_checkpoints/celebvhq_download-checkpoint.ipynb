{
 "cells": [
  {
   "cell_type": "code",
   "execution_count": 1,
   "id": "e07b0ac8-3e68-4f41-a46a-868a652330de",
   "metadata": {
    "tags": []
   },
   "outputs": [],
   "source": [
    "import os\n",
    "import json\n",
    "import cv2"
   ]
  },
  {
   "cell_type": "code",
   "execution_count": null,
   "id": "5db5ab8f-280b-49ab-813b-b2d0766bcdb0",
   "metadata": {
    "tags": []
   },
   "outputs": [
    {
     "name": "stdout",
     "output_type": "stream",
     "text": [
      "yt-dlp  -f 'bestvideo[ext=mp4]+bestaudio[ext=m4a]/bestvideo+bestaudio' --skip-unavailable-fragments --merge-output-format mp4 https://www.youtube.com/watch?v=M2Ohb0FAaJU --output ./downloaded_celebvhq/raw/M2Ohb0FAaJU.mp4 --external-downloader aria2c --external-downloader-args \"-x 16 -k 1M\"\n"
     ]
    },
    {
     "name": "stderr",
     "output_type": "stream",
     "text": [
      "WARNING: External Downloader arguments given without specifying name. The arguments will be given to aria2c\n"
     ]
    },
    {
     "name": "stdout",
     "output_type": "stream",
     "text": [
      "[youtube] Extracting URL: https://www.youtube.com/watch?v=M2Ohb0FAaJU\n",
      "[youtube] M2Ohb0FAaJU: Downloading webpage\n",
      "[youtube] M2Ohb0FAaJU: Downloading ios player API JSON\n",
      "[youtube] M2Ohb0FAaJU: Downloading mweb player API JSON\n",
      "[youtube] M2Ohb0FAaJU: Downloading player 4e23410d\n",
      "[youtube] M2Ohb0FAaJU: Downloading m3u8 information\n",
      "[info] M2Ohb0FAaJU: Downloading 1 format(s): 137+140\n",
      "[download] Destination: ./downloaded_celebvhq/raw/M2Ohb0FAaJU.f137.mp4\n",
      "[download]   1.4% of   18.10MiB at    9.21MiB/s ETA 00:01"
     ]
    },
    {
     "name": "stderr",
     "output_type": "stream",
     "text": [
      "WARNING: You have requested merging of multiple formats but ffmpeg is not installed. The formats won't be merged\n"
     ]
    },
    {
     "name": "stdout",
     "output_type": "stream",
     "text": [
      "[download] 100% of   18.10MiB in 00:00:01 at 16.04MiB/s    \n",
      "[download] Destination: ./downloaded_celebvhq/raw/M2Ohb0FAaJU.f140.m4a\n",
      "[download] 100% of    2.07MiB in 00:00:00 at 10.00MiB/s  \n",
      "yt-dlp  -f 'bestvideo[ext=mp4]+bestaudio[ext=m4a]/bestvideo+bestaudio' --skip-unavailable-fragments --merge-output-format mp4 https://www.youtube.com/watch?v=_0tf2n3rlJU --output ./downloaded_celebvhq/raw/_0tf2n3rlJU.mp4 --external-downloader aria2c --external-downloader-args \"-x 16 -k 1M\"\n"
     ]
    },
    {
     "name": "stderr",
     "output_type": "stream",
     "text": [
      "WARNING: External Downloader arguments given without specifying name. The arguments will be given to aria2c\n"
     ]
    },
    {
     "name": "stdout",
     "output_type": "stream",
     "text": [
      "[youtube] Extracting URL: https://www.youtube.com/watch?v=_0tf2n3rlJU\n",
      "[youtube] _0tf2n3rlJU: Downloading webpage\n",
      "[youtube] _0tf2n3rlJU: Downloading ios player API JSON\n",
      "[youtube] _0tf2n3rlJU: Downloading mweb player API JSON\n",
      "[youtube] _0tf2n3rlJU: Downloading m3u8 information\n",
      "[info] _0tf2n3rlJU: Downloading 1 format(s): 137+140\n",
      "[download] Destination: ./downloaded_celebvhq/raw/_0tf2n3rlJU.f137.mp4\n",
      "[download]   1.8% of   54.96MiB at   14.41MiB/s ETA 00:03"
     ]
    },
    {
     "name": "stderr",
     "output_type": "stream",
     "text": [
      "WARNING: You have requested merging of multiple formats but ffmpeg is not installed. The formats won't be merged\n"
     ]
    },
    {
     "name": "stdout",
     "output_type": "stream",
     "text": [
      "[download] 100% of   54.96MiB in 00:00:05 at 10.40MiB/s    \n",
      "[download] Destination: ./downloaded_celebvhq/raw/_0tf2n3rlJU.f140.m4a\n",
      "[download] 100% of    7.52MiB in 00:00:00 at 9.96MiB/s   \n",
      "yt-dlp  -f 'bestvideo[ext=mp4]+bestaudio[ext=m4a]/bestvideo+bestaudio' --skip-unavailable-fragments --merge-output-format mp4 https://www.youtube.com/watch?v=dvbePi1o_Q0 --output ./downloaded_celebvhq/raw/dvbePi1o_Q0.mp4 --external-downloader aria2c --external-downloader-args \"-x 16 -k 1M\"\n",
      "video not found: dvbePi1o_Q0\n",
      "yt-dlp  -f 'bestvideo[ext=mp4]+bestaudio[ext=m4a]/bestvideo+bestaudio' --skip-unavailable-fragments --merge-output-format mp4 https://www.youtube.com/watch?v=ekdWbe1s_d4 --output ./downloaded_celebvhq/raw/ekdWbe1s_d4.mp4 --external-downloader aria2c --external-downloader-args \"-x 16 -k 1M\"\n"
     ]
    },
    {
     "name": "stderr",
     "output_type": "stream",
     "text": [
      "Traceback (most recent call last):\n",
      "  File \"/Users/jessie/anaconda3/bin/yt-dlp\", line 5, in <module>\n",
      "    from yt_dlp import main\n",
      "  File \"/Users/jessie/anaconda3/lib/python3.11/site-packages/yt_dlp/__init__.py\", line 18, in <module>\n",
      "    from .cookies import SUPPORTED_BROWSERS, SUPPORTED_KEYRINGS, CookieLoadError\n",
      "  File \"/Users/jessie/anaconda3/lib/python3.11/site-packages/yt_dlp/cookies.py\", line 8, in <module>\n",
      "    import http.cookiejar\n",
      "  File \"/Users/jessie/anaconda3/lib/python3.11/http/cookiejar.py\", line 36, in <module>\n",
      "    import urllib.parse, urllib.request\n",
      "  File \"/Users/jessie/anaconda3/lib/python3.11/urllib/request.py\", line 88, in <module>\n",
      "    import http.client\n",
      "  File \"/Users/jessie/anaconda3/lib/python3.11/http/client.py\", line 71, in <module>\n",
      "    import email.parser\n",
      "  File \"<frozen importlib._bootstrap>\", line 1176, in _find_and_load\n",
      "  File \"<frozen importlib._bootstrap>\", line 1147, in _find_and_load_unlocked\n",
      "  File \"<frozen importlib._bootstrap>\", line 690, in _load_unlocked\n",
      "  File \"<frozen importlib._bootstrap_external>\", line 936, in exec_module\n",
      "  File \"<frozen importlib._bootstrap_external>\", line 1026, in get_code\n",
      "  File \"<frozen importlib._bootstrap_external>\", line 1148, in path_stats\n",
      "  File \"<frozen importlib._bootstrap_external>\", line 147, in _path_stat\n",
      "KeyboardInterrupt\n",
      "WARNING: External Downloader arguments given without specifying name. The arguments will be given to aria2c\n"
     ]
    },
    {
     "name": "stdout",
     "output_type": "stream",
     "text": [
      "[youtube] Extracting URL: https://www.youtube.com/watch?v=ekdWbe1s_d4\n",
      "[youtube] ekdWbe1s_d4: Downloading webpage\n",
      "[youtube] ekdWbe1s_d4: Downloading ios player API JSON\n",
      "[youtube] ekdWbe1s_d4: Downloading mweb player API JSON\n",
      "[youtube] ekdWbe1s_d4: Downloading m3u8 information\n",
      "[info] ekdWbe1s_d4: Downloading 1 format(s): 137+140\n",
      "[download] Destination: ./downloaded_celebvhq/raw/ekdWbe1s_d4.f137.mp4\n",
      "[download]   1.6% of   31.18MiB at   14.17MiB/s ETA 00:02"
     ]
    },
    {
     "name": "stderr",
     "output_type": "stream",
     "text": [
      "WARNING: You have requested merging of multiple formats but ffmpeg is not installed. The formats won't be merged\n"
     ]
    },
    {
     "name": "stdout",
     "output_type": "stream",
     "text": [
      "[download] 100% of   31.18MiB in 00:00:01 at 17.99MiB/s    \n",
      "[download] Destination: ./downloaded_celebvhq/raw/ekdWbe1s_d4.f140.m4a\n",
      "[download] 100% of    2.03MiB in 00:00:00 at 8.97MiB/s   \n",
      "yt-dlp  -f 'bestvideo[ext=mp4]+bestaudio[ext=m4a]/bestvideo+bestaudio' --skip-unavailable-fragments --merge-output-format mp4 https://www.youtube.com/watch?v=ekdWbe1s_d4 --output ./downloaded_celebvhq/raw/ekdWbe1s_d4.mp4 --external-downloader aria2c --external-downloader-args \"-x 16 -k 1M\"\n"
     ]
    },
    {
     "name": "stderr",
     "output_type": "stream",
     "text": [
      "WARNING: External Downloader arguments given without specifying name. The arguments will be given to aria2c\n"
     ]
    },
    {
     "name": "stdout",
     "output_type": "stream",
     "text": [
      "[youtube] Extracting URL: https://www.youtube.com/watch?v=ekdWbe1s_d4\n",
      "[youtube] ekdWbe1s_d4: Downloading webpage\n",
      "[youtube] ekdWbe1s_d4: Downloading ios player API JSON\n",
      "[youtube] ekdWbe1s_d4: Downloading mweb player API JSON\n",
      "[youtube] ekdWbe1s_d4: Downloading m3u8 information\n",
      "[info] ekdWbe1s_d4: Downloading 1 format(s): 137+140\n",
      "[download] ./downloaded_celebvhq/raw/ekdWbe1s_d4.f137.mp4 has already been downloaded\n",
      "[download] 100% of   31.18MiB\n",
      "[download] ./downloaded_celebvhq/raw/ekdWbe1s_d4.f140.m4a has already been downloaded\n",
      "[download] 100% of    2.03MiB\n",
      "yt-dlp  -f 'bestvideo[ext=mp4]+bestaudio[ext=m4a]/bestvideo+bestaudio' --skip-unavailable-fragments --merge-output-format mp4 https://www.youtube.com/watch?v=HV150LwK8Kc --output ./downloaded_celebvhq/raw/HV150LwK8Kc.mp4 --external-downloader aria2c --external-downloader-args \"-x 16 -k 1M\"\n"
     ]
    },
    {
     "name": "stderr",
     "output_type": "stream",
     "text": [
      "WARNING: You have requested merging of multiple formats but ffmpeg is not installed. The formats won't be merged\n",
      "WARNING: External Downloader arguments given without specifying name. The arguments will be given to aria2c\n"
     ]
    },
    {
     "name": "stdout",
     "output_type": "stream",
     "text": [
      "[youtube] Extracting URL: https://www.youtube.com/watch?v=HV150LwK8Kc\n",
      "[youtube] HV150LwK8Kc: Downloading webpage\n",
      "[youtube] HV150LwK8Kc: Downloading ios player API JSON\n",
      "[youtube] HV150LwK8Kc: Downloading mweb player API JSON\n",
      "[youtube] HV150LwK8Kc: Downloading m3u8 information\n",
      "[info] HV150LwK8Kc: Downloading 1 format(s): 137+140\n",
      "[download] Destination: ./downloaded_celebvhq/raw/HV150LwK8Kc.f137.mp4\n",
      "[download]   0.3% of  292.55MiB at   14.21MiB/s ETA 00:20"
     ]
    },
    {
     "name": "stderr",
     "output_type": "stream",
     "text": [
      "WARNING: You have requested merging of multiple formats but ffmpeg is not installed. The formats won't be merged\n"
     ]
    },
    {
     "name": "stdout",
     "output_type": "stream",
     "text": [
      "[download]  48.1% of  292.55MiB at   11.52MiB/s ETA 00:13  "
     ]
    }
   ],
   "source": [
    "\"\"\"\n",
    "Downloader\n",
    "\"\"\"\n",
    "\n",
    "import os\n",
    "import json\n",
    "import cv2\n",
    "\n",
    "\n",
    "def download(video_path, ytb_id, proxy=None):\n",
    "    \"\"\"\n",
    "    ytb_id: youtube_id\n",
    "    save_folder: save video folder\n",
    "    proxy: proxy url, defalut None\n",
    "    \"\"\"\n",
    "    if proxy is not None:\n",
    "        proxy_cmd = \"--proxy {}\".format(proxy)\n",
    "    else:\n",
    "        proxy_cmd = \"\"\n",
    "    if not os.path.exists(video_path):\n",
    "        down_video = \" \".join([\n",
    "            \"yt-dlp\",\n",
    "            proxy_cmd,\n",
    "            '-f', \"'bestvideo[ext=mp4]+bestaudio[ext=m4a]/bestvideo+bestaudio'\",\n",
    "            '--skip-unavailable-fragments',\n",
    "            '--merge-output-format', 'mp4',\n",
    "            \"https://www.youtube.com/watch?v=\" + ytb_id, \"--output\",\n",
    "            video_path, \"--external-downloader\", \"aria2c\",\n",
    "            \"--external-downloader-args\", '\"-x 16 -k 1M\"'\n",
    "        ])\n",
    "        print(down_video)\n",
    "        status = os.system(down_video)\n",
    "        if status != 0:\n",
    "            print(f\"video not found: {ytb_id}\")\n",
    "\n",
    "\n",
    "def process_ffmpeg(raw_vid_path, save_folder, save_vid_name,\n",
    "                   bbox, time):\n",
    "    \"\"\"\n",
    "    raw_vid_path:\n",
    "    save_folder:\n",
    "    save_vid_name:\n",
    "    bbox: format: top, bottom, left, right. the values are normalized to 0~1\n",
    "    time: begin_sec, end_sec\n",
    "    \"\"\"\n",
    "\n",
    "    def secs_to_timestr(secs):\n",
    "        hrs = secs // (60 * 60)\n",
    "        min = (secs - hrs * 3600) // 60 # thanks @LeeDongYeun for finding & fixing this bug\n",
    "        sec = secs % 60\n",
    "        end = (secs - int(secs)) * 100\n",
    "        return \"{:02d}:{:02d}:{:02d}.{:02d}\".format(int(hrs), int(min),\n",
    "                                                    int(sec), int(end))\n",
    "\n",
    "    def expand(bbox, ratio):\n",
    "        top, bottom = max(bbox[0] - ratio, 0), min(bbox[1] + ratio, 1)\n",
    "        left, right = max(bbox[2] - ratio, 0), min(bbox[3] + ratio, 1)\n",
    "\n",
    "        return top, bottom, left, right\n",
    "\n",
    "    def to_square(bbox):\n",
    "        top, bottom, leftx, right = bbox\n",
    "        h = bottom - top\n",
    "        w = right - leftx\n",
    "        c = min(h, w) // 2\n",
    "        c_h = (top + bottom) / 2\n",
    "        c_w = (leftx + right) / 2\n",
    "\n",
    "        top, bottom = c_h - c, c_h + c\n",
    "        leftx, right = c_w - c, c_w + c\n",
    "        return top, bottom, leftx, right\n",
    "\n",
    "    def denorm(bbox, height, width):\n",
    "        top, bottom, left, right = \\\n",
    "            round(bbox[0] * height), \\\n",
    "            round(bbox[1] * height), \\\n",
    "            round(bbox[2] * width), \\\n",
    "            round(bbox[3] * width)\n",
    "\n",
    "        return top, bottom, left, right\n",
    "\n",
    "    out_path = os.path.join(save_folder, save_vid_name)\n",
    "\n",
    "    cap = cv2.VideoCapture(raw_vid_path)\n",
    "    width = int(cap.get(cv2.CAP_PROP_FRAME_WIDTH))\n",
    "    height = int(cap.get(cv2.CAP_PROP_FRAME_HEIGHT))\n",
    "    top, bottom, left, right = to_square(\n",
    "        denorm(expand(bbox, 0.02), height, width))\n",
    "    start_sec, end_sec = time\n",
    "\n",
    "    cmd = f\"ffmpeg -i {raw_vid_path} -vf crop=w={right-left}:h={bottom-top}:x={left}:y={top} -ss {secs_to_timestr(start_sec)} -to {secs_to_timestr(end_sec)} -loglevel error {out_path}\"\n",
    "    os.system(cmd)\n",
    "    return out_path\n",
    "\n",
    "\n",
    "def load_data(file_path):\n",
    "    with open(file_path) as f:\n",
    "        data_dict = json.load(f)\n",
    "\n",
    "    for key, val in data_dict['clips'].items():\n",
    "        save_name = key+\".mp4\"\n",
    "        ytb_id = val['ytb_id']\n",
    "        time = val['duration']['start_sec'], val['duration']['end_sec']\n",
    "\n",
    "        bbox = [val['bbox']['top'], val['bbox']['bottom'],\n",
    "                val['bbox']['left'], val['bbox']['right']]\n",
    "        yield ytb_id, save_name, time, bbox\n",
    "\n",
    "\n",
    "if __name__ == '__main__':\n",
    "    json_path = 'celebvhq_info.json'  # json file path\n",
    "    raw_vid_root = './downloaded_celebvhq/raw/'  # download raw video path\n",
    "    processed_vid_root = './downloaded_celebvhq/processed/'  # processed video path\n",
    "    proxy = None  # proxy url example, set to None if not use\n",
    "\n",
    "    os.makedirs(raw_vid_root, exist_ok=True)\n",
    "    os.makedirs(processed_vid_root, exist_ok=True)\n",
    "\n",
    "    for vid_id, save_vid_name, time, bbox in load_data(json_path):\n",
    "        raw_vid_path = os.path.join(raw_vid_root, vid_id + \".mp4\")\n",
    "        # Downloading is io bounded and processing is cpu bounded.\n",
    "        # It is better to download all videos firstly and then process them via mutiple cpu cores.\n",
    "        download(raw_vid_path, vid_id, proxy)\n",
    "        # process_ffmpeg(raw_vid_path, processed_vid_root, save_vid_name, bbox, time)\n",
    "\n",
    "    # with open('./ytb_id_errored.log', 'r') as f:\n",
    "    #     lines = f.readlines()\n",
    "    # for line in lines:\n",
    "    #     raw_vid_path = os.path.join(raw_vid_root, line + \".mp4\")\n",
    "    #     download(raw_vid_path, line)"
   ]
  }
 ],
 "metadata": {
  "kernelspec": {
   "display_name": "Python 3 (ipykernel)",
   "language": "python",
   "name": "python3"
  },
  "language_info": {
   "codemirror_mode": {
    "name": "ipython",
    "version": 3
   },
   "file_extension": ".py",
   "mimetype": "text/x-python",
   "name": "python",
   "nbconvert_exporter": "python",
   "pygments_lexer": "ipython3",
   "version": "3.11.5"
  }
 },
 "nbformat": 4,
 "nbformat_minor": 5
}
