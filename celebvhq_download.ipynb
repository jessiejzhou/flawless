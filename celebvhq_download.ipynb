{
 "cells": [
  {
   "cell_type": "code",
   "execution_count": 1,
   "id": "e07b0ac8-3e68-4f41-a46a-868a652330de",
   "metadata": {
    "tags": []
   },
   "outputs": [],
   "source": [
    "import os\n",
    "import json\n",
    "import cv2"
   ]
  },
  {
   "cell_type": "code",
   "execution_count": null,
   "id": "5db5ab8f-280b-49ab-813b-b2d0766bcdb0",
   "metadata": {
    "tags": []
   },
   "outputs": [
    {
     "name": "stdout",
     "output_type": "stream",
     "text": [
      "yt-dlp  -f 'bestvideo[ext=mp4]+bestaudio[ext=m4a]/bestvideo+bestaudio' --skip-unavailable-fragments --merge-output-format mp4 https://www.youtube.com/watch?v=M2Ohb0FAaJU --output ./downloaded_celebvhq/raw/M2Ohb0FAaJU.mp4 --external-downloader aria2c --external-downloader-args \"-x 16 -k 1M\"\n"
     ]
    },
    {
     "name": "stderr",
     "output_type": "stream",
     "text": [
      "WARNING: External Downloader arguments given without specifying name. The arguments will be given to aria2c\n"
     ]
    },
    {
     "name": "stdout",
     "output_type": "stream",
     "text": [
      "[youtube] Extracting URL: https://www.youtube.com/watch?v=M2Ohb0FAaJU\n",
      "[youtube] M2Ohb0FAaJU: Downloading webpage\n",
      "[youtube] M2Ohb0FAaJU: Downloading ios player API JSON\n",
      "[youtube] M2Ohb0FAaJU: Downloading mweb player API JSON\n",
      "[youtube] M2Ohb0FAaJU: Downloading m3u8 information\n",
      "[info] M2Ohb0FAaJU: Downloading 1 format(s): 137+140\n",
      "[download] Destination: ./downloaded_celebvhq/raw/M2Ohb0FAaJU.f137.mp4\n",
      "[download] 100% of   18.10MiB in 00:00:01 at 15.29MiB/s    \n",
      "[download] Destination: ./downloaded_celebvhq/raw/M2Ohb0FAaJU.f140.m4a\n",
      "[download] 100% of    2.07MiB in 00:00:00 at 6.30MiB/s   \n",
      "[Merger] Merging formats into \"./downloaded_celebvhq/raw/M2Ohb0FAaJU.mp4\"\n",
      "Deleting original file ./downloaded_celebvhq/raw/M2Ohb0FAaJU.f140.m4a (pass -k to keep)\n",
      "Deleting original file ./downloaded_celebvhq/raw/M2Ohb0FAaJU.f137.mp4 (pass -k to keep)\n",
      "yt-dlp  -f 'bestvideo[ext=mp4]+bestaudio[ext=m4a]/bestvideo+bestaudio' --skip-unavailable-fragments --merge-output-format mp4 https://www.youtube.com/watch?v=_0tf2n3rlJU --output ./downloaded_celebvhq/raw/_0tf2n3rlJU.mp4 --external-downloader aria2c --external-downloader-args \"-x 16 -k 1M\"\n"
     ]
    },
    {
     "name": "stderr",
     "output_type": "stream",
     "text": [
      "WARNING: External Downloader arguments given without specifying name. The arguments will be given to aria2c\n"
     ]
    },
    {
     "name": "stdout",
     "output_type": "stream",
     "text": [
      "[youtube] Extracting URL: https://www.youtube.com/watch?v=_0tf2n3rlJU\n",
      "[youtube] _0tf2n3rlJU: Downloading webpage\n",
      "[youtube] _0tf2n3rlJU: Downloading ios player API JSON\n",
      "[youtube] _0tf2n3rlJU: Downloading mweb player API JSON\n",
      "[youtube] _0tf2n3rlJU: Downloading m3u8 information\n",
      "[info] _0tf2n3rlJU: Downloading 1 format(s): 137+140\n",
      "[download] Destination: ./downloaded_celebvhq/raw/_0tf2n3rlJU.f137.mp4\n",
      "[download] 100% of   54.96MiB in 00:00:04 at 11.12MiB/s    \n",
      "[download] Destination: ./downloaded_celebvhq/raw/_0tf2n3rlJU.f140.m4a\n",
      "[download] 100% of    7.52MiB in 00:00:01 at 7.03MiB/s   \n",
      "[Merger] Merging formats into \"./downloaded_celebvhq/raw/_0tf2n3rlJU.mp4\"\n",
      "Deleting original file ./downloaded_celebvhq/raw/_0tf2n3rlJU.f137.mp4 (pass -k to keep)\n",
      "Deleting original file ./downloaded_celebvhq/raw/_0tf2n3rlJU.f140.m4a (pass -k to keep)\n",
      "yt-dlp  -f 'bestvideo[ext=mp4]+bestaudio[ext=m4a]/bestvideo+bestaudio' --skip-unavailable-fragments --merge-output-format mp4 https://www.youtube.com/watch?v=dvbePi1o_Q0 --output ./downloaded_celebvhq/raw/dvbePi1o_Q0.mp4 --external-downloader aria2c --external-downloader-args \"-x 16 -k 1M\"\n"
     ]
    },
    {
     "name": "stderr",
     "output_type": "stream",
     "text": [
      "WARNING: External Downloader arguments given without specifying name. The arguments will be given to aria2c\n"
     ]
    },
    {
     "name": "stdout",
     "output_type": "stream",
     "text": [
      "[youtube] Extracting URL: https://www.youtube.com/watch?v=dvbePi1o_Q0\n",
      "[youtube] dvbePi1o_Q0: Downloading webpage\n",
      "[youtube] dvbePi1o_Q0: Downloading ios player API JSON\n",
      "[youtube] dvbePi1o_Q0: Downloading mweb player API JSON\n",
      "[youtube] dvbePi1o_Q0: Downloading m3u8 information\n",
      "[info] dvbePi1o_Q0: Downloading 1 format(s): 137+140\n",
      "[download] Destination: ./downloaded_celebvhq/raw/dvbePi1o_Q0.f137.mp4\n",
      "[download] 100% of   67.70MiB in 00:00:08 at 8.27MiB/s     \n",
      "[download] Destination: ./downloaded_celebvhq/raw/dvbePi1o_Q0.f140.m4a\n",
      "[download] 100% of    9.88MiB in 00:00:01 at 9.53MiB/s     \n",
      "[Merger] Merging formats into \"./downloaded_celebvhq/raw/dvbePi1o_Q0.mp4\"\n",
      "Deleting original file ./downloaded_celebvhq/raw/dvbePi1o_Q0.f137.mp4 (pass -k to keep)\n",
      "Deleting original file ./downloaded_celebvhq/raw/dvbePi1o_Q0.f140.m4a (pass -k to keep)\n",
      "yt-dlp  -f 'bestvideo[ext=mp4]+bestaudio[ext=m4a]/bestvideo+bestaudio' --skip-unavailable-fragments --merge-output-format mp4 https://www.youtube.com/watch?v=ekdWbe1s_d4 --output ./downloaded_celebvhq/raw/ekdWbe1s_d4.mp4 --external-downloader aria2c --external-downloader-args \"-x 16 -k 1M\"\n"
     ]
    },
    {
     "name": "stderr",
     "output_type": "stream",
     "text": [
      "WARNING: External Downloader arguments given without specifying name. The arguments will be given to aria2c\n"
     ]
    },
    {
     "name": "stdout",
     "output_type": "stream",
     "text": [
      "[youtube] Extracting URL: https://www.youtube.com/watch?v=ekdWbe1s_d4\n",
      "[youtube] ekdWbe1s_d4: Downloading webpage\n",
      "[youtube] ekdWbe1s_d4: Downloading ios player API JSON\n",
      "[youtube] ekdWbe1s_d4: Downloading mweb player API JSON\n",
      "[youtube] ekdWbe1s_d4: Downloading m3u8 information\n",
      "[info] ekdWbe1s_d4: Downloading 1 format(s): 137+140\n",
      "[download] Destination: ./downloaded_celebvhq/raw/ekdWbe1s_d4.f137.mp4\n",
      "[download] 100% of   31.18MiB in 00:00:03 at 8.54MiB/s     \n",
      "[download] Destination: ./downloaded_celebvhq/raw/ekdWbe1s_d4.f140.m4a\n",
      "[download] 100% of    2.03MiB in 00:00:00 at 7.01MiB/s   \n",
      "[Merger] Merging formats into \"./downloaded_celebvhq/raw/ekdWbe1s_d4.mp4\"\n",
      "Deleting original file ./downloaded_celebvhq/raw/ekdWbe1s_d4.f140.m4a (pass -k to keep)\n",
      "Deleting original file ./downloaded_celebvhq/raw/ekdWbe1s_d4.f137.mp4 (pass -k to keep)\n",
      "yt-dlp  -f 'bestvideo[ext=mp4]+bestaudio[ext=m4a]/bestvideo+bestaudio' --skip-unavailable-fragments --merge-output-format mp4 https://www.youtube.com/watch?v=HV150LwK8Kc --output ./downloaded_celebvhq/raw/HV150LwK8Kc.mp4 --external-downloader aria2c --external-downloader-args \"-x 16 -k 1M\"\n"
     ]
    },
    {
     "name": "stderr",
     "output_type": "stream",
     "text": [
      "WARNING: External Downloader arguments given without specifying name. The arguments will be given to aria2c\n"
     ]
    },
    {
     "name": "stdout",
     "output_type": "stream",
     "text": [
      "[youtube] Extracting URL: https://www.youtube.com/watch?v=HV150LwK8Kc\n",
      "[youtube] HV150LwK8Kc: Downloading webpage\n",
      "[youtube] HV150LwK8Kc: Downloading ios player API JSON\n",
      "[youtube] HV150LwK8Kc: Downloading mweb player API JSON\n",
      "[youtube] HV150LwK8Kc: Downloading m3u8 information\n",
      "[info] HV150LwK8Kc: Downloading 1 format(s): 137+140\n",
      "[download] Destination: ./downloaded_celebvhq/raw/HV150LwK8Kc.f137.mp4\n",
      "[download] 100% of  292.55MiB in 00:00:31 at 9.41MiB/s     \n",
      "[download] Destination: ./downloaded_celebvhq/raw/HV150LwK8Kc.f140.m4a\n",
      "[download] 100% of   12.78MiB in 00:00:01 at 7.45MiB/s     \n",
      "[Merger] Merging formats into \"./downloaded_celebvhq/raw/HV150LwK8Kc.mp4\"\n",
      "Deleting original file ./downloaded_celebvhq/raw/HV150LwK8Kc.f137.mp4 (pass -k to keep)\n",
      "Deleting original file ./downloaded_celebvhq/raw/HV150LwK8Kc.f140.m4a (pass -k to keep)\n",
      "yt-dlp  -f 'bestvideo[ext=mp4]+bestaudio[ext=m4a]/bestvideo+bestaudio' --skip-unavailable-fragments --merge-output-format mp4 https://www.youtube.com/watch?v=vtznSlhouZc --output ./downloaded_celebvhq/raw/vtznSlhouZc.mp4 --external-downloader aria2c --external-downloader-args \"-x 16 -k 1M\"\n"
     ]
    },
    {
     "name": "stderr",
     "output_type": "stream",
     "text": [
      "WARNING: External Downloader arguments given without specifying name. The arguments will be given to aria2c\n"
     ]
    },
    {
     "name": "stdout",
     "output_type": "stream",
     "text": [
      "[youtube] Extracting URL: https://www.youtube.com/watch?v=vtznSlhouZc\n",
      "[youtube] vtznSlhouZc: Downloading webpage\n",
      "[youtube] vtznSlhouZc: Downloading ios player API JSON\n",
      "[youtube] vtznSlhouZc: Downloading mweb player API JSON\n",
      "[youtube] vtznSlhouZc: Downloading m3u8 information\n",
      "[info] vtznSlhouZc: Downloading 1 format(s): 137+140\n",
      "[download] Destination: ./downloaded_celebvhq/raw/vtznSlhouZc.f137.mp4\n",
      "[download] 100% of   49.32MiB in 00:00:06 at 7.52MiB/s     \n",
      "[download] Destination: ./downloaded_celebvhq/raw/vtznSlhouZc.f140.m4a\n",
      "[download] 100% of    1.84MiB in 00:00:00 at 9.74MiB/s   \n",
      "[Merger] Merging formats into \"./downloaded_celebvhq/raw/vtznSlhouZc.mp4\"\n",
      "Deleting original file ./downloaded_celebvhq/raw/vtznSlhouZc.f140.m4a (pass -k to keep)\n",
      "Deleting original file ./downloaded_celebvhq/raw/vtznSlhouZc.f137.mp4 (pass -k to keep)\n",
      "yt-dlp  -f 'bestvideo[ext=mp4]+bestaudio[ext=m4a]/bestvideo+bestaudio' --skip-unavailable-fragments --merge-output-format mp4 https://www.youtube.com/watch?v=WYIsBYSO0gc --output ./downloaded_celebvhq/raw/WYIsBYSO0gc.mp4 --external-downloader aria2c --external-downloader-args \"-x 16 -k 1M\"\n"
     ]
    },
    {
     "name": "stderr",
     "output_type": "stream",
     "text": [
      "WARNING: External Downloader arguments given without specifying name. The arguments will be given to aria2c\n"
     ]
    },
    {
     "name": "stdout",
     "output_type": "stream",
     "text": [
      "[youtube] Extracting URL: https://www.youtube.com/watch?v=WYIsBYSO0gc\n",
      "[youtube] WYIsBYSO0gc: Downloading webpage\n",
      "[youtube] WYIsBYSO0gc: Downloading ios player API JSON\n",
      "[youtube] WYIsBYSO0gc: Downloading mweb player API JSON\n",
      "[youtube] WYIsBYSO0gc: Downloading m3u8 information\n",
      "[info] WYIsBYSO0gc: Downloading 1 format(s): 137+140\n",
      "[download] Destination: ./downloaded_celebvhq/raw/WYIsBYSO0gc.f137.mp4\n",
      "[download] 100% of  101.81MiB in 00:00:15 at 6.45MiB/s     \n",
      "[download] Destination: ./downloaded_celebvhq/raw/WYIsBYSO0gc.f140.m4a\n",
      "[download] 100% of    7.15MiB in 00:00:05 at 1.19MiB/s   \n",
      "[Merger] Merging formats into \"./downloaded_celebvhq/raw/WYIsBYSO0gc.mp4\"\n",
      "Deleting original file ./downloaded_celebvhq/raw/WYIsBYSO0gc.f137.mp4 (pass -k to keep)\n",
      "Deleting original file ./downloaded_celebvhq/raw/WYIsBYSO0gc.f140.m4a (pass -k to keep)\n",
      "yt-dlp  -f 'bestvideo[ext=mp4]+bestaudio[ext=m4a]/bestvideo+bestaudio' --skip-unavailable-fragments --merge-output-format mp4 https://www.youtube.com/watch?v=I2hf-H8Xumk --output ./downloaded_celebvhq/raw/I2hf-H8Xumk.mp4 --external-downloader aria2c --external-downloader-args \"-x 16 -k 1M\"\n"
     ]
    },
    {
     "name": "stderr",
     "output_type": "stream",
     "text": [
      "WARNING: External Downloader arguments given without specifying name. The arguments will be given to aria2c\n"
     ]
    },
    {
     "name": "stdout",
     "output_type": "stream",
     "text": [
      "[youtube] Extracting URL: https://www.youtube.com/watch?v=I2hf-H8Xumk\n",
      "[youtube] I2hf-H8Xumk: Downloading webpage\n",
      "[youtube] I2hf-H8Xumk: Downloading ios player API JSON\n",
      "[youtube] I2hf-H8Xumk: Downloading mweb player API JSON\n",
      "[youtube] I2hf-H8Xumk: Downloading m3u8 information\n",
      "[info] I2hf-H8Xumk: Downloading 1 format(s): 137+140\n",
      "[download] Destination: ./downloaded_celebvhq/raw/I2hf-H8Xumk.f137.mp4\n",
      "[download] 100% of   65.02MiB in 00:00:06 at 10.43MiB/s    \n",
      "[download] Destination: ./downloaded_celebvhq/raw/I2hf-H8Xumk.f140.m4a\n",
      "[download] 100% of    2.71MiB in 00:00:00 at 9.11MiB/s   \n",
      "[Merger] Merging formats into \"./downloaded_celebvhq/raw/I2hf-H8Xumk.mp4\"\n",
      "Deleting original file ./downloaded_celebvhq/raw/I2hf-H8Xumk.f137.mp4 (pass -k to keep)\n",
      "Deleting original file ./downloaded_celebvhq/raw/I2hf-H8Xumk.f140.m4a (pass -k to keep)\n",
      "yt-dlp  -f 'bestvideo[ext=mp4]+bestaudio[ext=m4a]/bestvideo+bestaudio' --skip-unavailable-fragments --merge-output-format mp4 https://www.youtube.com/watch?v=M52PPU55qRQ --output ./downloaded_celebvhq/raw/M52PPU55qRQ.mp4 --external-downloader aria2c --external-downloader-args \"-x 16 -k 1M\"\n"
     ]
    },
    {
     "name": "stderr",
     "output_type": "stream",
     "text": [
      "WARNING: External Downloader arguments given without specifying name. The arguments will be given to aria2c\n"
     ]
    },
    {
     "name": "stdout",
     "output_type": "stream",
     "text": [
      "[youtube] Extracting URL: https://www.youtube.com/watch?v=M52PPU55qRQ\n",
      "[youtube] M52PPU55qRQ: Downloading webpage\n",
      "[youtube] M52PPU55qRQ: Downloading ios player API JSON\n",
      "[youtube] M52PPU55qRQ: Downloading mweb player API JSON\n",
      "[youtube] M52PPU55qRQ: Downloading m3u8 information\n",
      "[info] M52PPU55qRQ: Downloading 1 format(s): 137+140\n",
      "[download] Destination: ./downloaded_celebvhq/raw/M52PPU55qRQ.f137.mp4\n",
      "[download] 100% of  109.16MiB in 00:00:15 at 7.12MiB/s     \n",
      "[download] Destination: ./downloaded_celebvhq/raw/M52PPU55qRQ.f140.m4a\n",
      "[download] 100% of    3.91MiB in 00:00:00 at 12.19MiB/s  \n",
      "[Merger] Merging formats into \"./downloaded_celebvhq/raw/M52PPU55qRQ.mp4\"\n",
      "Deleting original file ./downloaded_celebvhq/raw/M52PPU55qRQ.f140.m4a (pass -k to keep)\n",
      "Deleting original file ./downloaded_celebvhq/raw/M52PPU55qRQ.f137.mp4 (pass -k to keep)\n",
      "yt-dlp  -f 'bestvideo[ext=mp4]+bestaudio[ext=m4a]/bestvideo+bestaudio' --skip-unavailable-fragments --merge-output-format mp4 https://www.youtube.com/watch?v=mrm31EMpIi8 --output ./downloaded_celebvhq/raw/mrm31EMpIi8.mp4 --external-downloader aria2c --external-downloader-args \"-x 16 -k 1M\"\n"
     ]
    },
    {
     "name": "stderr",
     "output_type": "stream",
     "text": [
      "WARNING: External Downloader arguments given without specifying name. The arguments will be given to aria2c\n"
     ]
    },
    {
     "name": "stdout",
     "output_type": "stream",
     "text": [
      "[youtube] Extracting URL: https://www.youtube.com/watch?v=mrm31EMpIi8\n",
      "[youtube] mrm31EMpIi8: Downloading webpage\n",
      "[youtube] mrm31EMpIi8: Downloading ios player API JSON\n",
      "[youtube] mrm31EMpIi8: Downloading mweb player API JSON\n",
      "[youtube] mrm31EMpIi8: Downloading m3u8 information\n",
      "[info] mrm31EMpIi8: Downloading 1 format(s): 137+140\n",
      "[download] Destination: ./downloaded_celebvhq/raw/mrm31EMpIi8.f137.mp4\n",
      "[download] 100% of  263.56MiB in 00:00:33 at 7.98MiB/s     \n",
      "[download] Destination: ./downloaded_celebvhq/raw/mrm31EMpIi8.f140.m4a\n",
      "[download] 100% of   13.36MiB in 00:00:00 at 17.29MiB/s    \n",
      "[Merger] Merging formats into \"./downloaded_celebvhq/raw/mrm31EMpIi8.mp4\"\n",
      "Deleting original file ./downloaded_celebvhq/raw/mrm31EMpIi8.f137.mp4 (pass -k to keep)\n",
      "Deleting original file ./downloaded_celebvhq/raw/mrm31EMpIi8.f140.m4a (pass -k to keep)\n",
      "yt-dlp  -f 'bestvideo[ext=mp4]+bestaudio[ext=m4a]/bestvideo+bestaudio' --skip-unavailable-fragments --merge-output-format mp4 https://www.youtube.com/watch?v=1id56m17lko --output ./downloaded_celebvhq/raw/1id56m17lko.mp4 --external-downloader aria2c --external-downloader-args \"-x 16 -k 1M\"\n"
     ]
    },
    {
     "name": "stderr",
     "output_type": "stream",
     "text": [
      "WARNING: External Downloader arguments given without specifying name. The arguments will be given to aria2c\n"
     ]
    },
    {
     "name": "stdout",
     "output_type": "stream",
     "text": [
      "[youtube] Extracting URL: https://www.youtube.com/watch?v=1id56m17lko\n",
      "[youtube] 1id56m17lko: Downloading webpage\n",
      "[youtube] 1id56m17lko: Downloading ios player API JSON\n",
      "[youtube] 1id56m17lko: Downloading mweb player API JSON\n",
      "[youtube] 1id56m17lko: Downloading m3u8 information\n",
      "[info] 1id56m17lko: Downloading 1 format(s): 137+140\n",
      "[download] Destination: ./downloaded_celebvhq/raw/1id56m17lko.f137.mp4\n",
      "[download] 100% of   37.46MiB in 00:00:07 at 5.33MiB/s     \n",
      "[download] Destination: ./downloaded_celebvhq/raw/1id56m17lko.f140.m4a\n",
      "[download] 100% of    3.98MiB in 00:00:00 at 4.41MiB/s   \n",
      "[Merger] Merging formats into \"./downloaded_celebvhq/raw/1id56m17lko.mp4\"\n",
      "Deleting original file ./downloaded_celebvhq/raw/1id56m17lko.f137.mp4 (pass -k to keep)\n",
      "Deleting original file ./downloaded_celebvhq/raw/1id56m17lko.f140.m4a (pass -k to keep)\n",
      "yt-dlp  -f 'bestvideo[ext=mp4]+bestaudio[ext=m4a]/bestvideo+bestaudio' --skip-unavailable-fragments --merge-output-format mp4 https://www.youtube.com/watch?v=BQU7_l5pjAk --output ./downloaded_celebvhq/raw/BQU7_l5pjAk.mp4 --external-downloader aria2c --external-downloader-args \"-x 16 -k 1M\"\n"
     ]
    },
    {
     "name": "stderr",
     "output_type": "stream",
     "text": [
      "WARNING: External Downloader arguments given without specifying name. The arguments will be given to aria2c\n"
     ]
    },
    {
     "name": "stdout",
     "output_type": "stream",
     "text": [
      "[youtube] Extracting URL: https://www.youtube.com/watch?v=BQU7_l5pjAk\n",
      "[youtube] BQU7_l5pjAk: Downloading webpage\n",
      "[youtube] BQU7_l5pjAk: Downloading ios player API JSON\n",
      "[youtube] BQU7_l5pjAk: Downloading mweb player API JSON\n",
      "[youtube] BQU7_l5pjAk: Downloading m3u8 information\n",
      "[info] BQU7_l5pjAk: Downloading 1 format(s): 137+140\n",
      "[download] Destination: ./downloaded_celebvhq/raw/BQU7_l5pjAk.f137.mp4\n",
      "[download] 100% of  212.64MiB in 00:00:44 at 4.73MiB/s     \n",
      "[download] Destination: ./downloaded_celebvhq/raw/BQU7_l5pjAk.f140.m4a\n",
      "[download] 100% of   11.30MiB in 00:00:01 at 8.88MiB/s     \n",
      "[Merger] Merging formats into \"./downloaded_celebvhq/raw/BQU7_l5pjAk.mp4\"\n",
      "Deleting original file ./downloaded_celebvhq/raw/BQU7_l5pjAk.f137.mp4 (pass -k to keep)\n",
      "Deleting original file ./downloaded_celebvhq/raw/BQU7_l5pjAk.f140.m4a (pass -k to keep)\n",
      "yt-dlp  -f 'bestvideo[ext=mp4]+bestaudio[ext=m4a]/bestvideo+bestaudio' --skip-unavailable-fragments --merge-output-format mp4 https://www.youtube.com/watch?v=SN8buDY-7LM --output ./downloaded_celebvhq/raw/SN8buDY-7LM.mp4 --external-downloader aria2c --external-downloader-args \"-x 16 -k 1M\"\n"
     ]
    },
    {
     "name": "stderr",
     "output_type": "stream",
     "text": [
      "WARNING: External Downloader arguments given without specifying name. The arguments will be given to aria2c\n"
     ]
    },
    {
     "name": "stdout",
     "output_type": "stream",
     "text": [
      "[youtube] Extracting URL: https://www.youtube.com/watch?v=SN8buDY-7LM\n",
      "[youtube] SN8buDY-7LM: Downloading webpage\n",
      "[youtube] SN8buDY-7LM: Downloading ios player API JSON\n",
      "[youtube] SN8buDY-7LM: Downloading mweb player API JSON\n",
      "[youtube] SN8buDY-7LM: Downloading m3u8 information\n",
      "[info] SN8buDY-7LM: Downloading 1 format(s): 137+140\n",
      "[download] Destination: ./downloaded_celebvhq/raw/SN8buDY-7LM.f137.mp4\n",
      "[download] 100% of   37.72MiB in 00:00:08 at 4.24MiB/s     \n",
      "[download] Destination: ./downloaded_celebvhq/raw/SN8buDY-7LM.f140.m4a\n",
      "[download] 100% of    3.65MiB in 00:00:00 at 12.85MiB/s  \n",
      "[Merger] Merging formats into \"./downloaded_celebvhq/raw/SN8buDY-7LM.mp4\"\n",
      "Deleting original file ./downloaded_celebvhq/raw/SN8buDY-7LM.f140.m4a (pass -k to keep)\n",
      "Deleting original file ./downloaded_celebvhq/raw/SN8buDY-7LM.f137.mp4 (pass -k to keep)\n",
      "yt-dlp  -f 'bestvideo[ext=mp4]+bestaudio[ext=m4a]/bestvideo+bestaudio' --skip-unavailable-fragments --merge-output-format mp4 https://www.youtube.com/watch?v=mq5I7jFZ3Sk --output ./downloaded_celebvhq/raw/mq5I7jFZ3Sk.mp4 --external-downloader aria2c --external-downloader-args \"-x 16 -k 1M\"\n"
     ]
    },
    {
     "name": "stderr",
     "output_type": "stream",
     "text": [
      "WARNING: External Downloader arguments given without specifying name. The arguments will be given to aria2c\n"
     ]
    },
    {
     "name": "stdout",
     "output_type": "stream",
     "text": [
      "[youtube] Extracting URL: https://www.youtube.com/watch?v=mq5I7jFZ3Sk\n",
      "[youtube] mq5I7jFZ3Sk: Downloading webpage\n",
      "[youtube] mq5I7jFZ3Sk: Downloading ios player API JSON\n",
      "[youtube] mq5I7jFZ3Sk: Downloading mweb player API JSON\n",
      "[youtube] mq5I7jFZ3Sk: Downloading m3u8 information\n",
      "[info] mq5I7jFZ3Sk: Downloading 1 format(s): 137+140\n",
      "[download] Destination: ./downloaded_celebvhq/raw/mq5I7jFZ3Sk.f137.mp4\n",
      "[download] 100% of  263.28MiB in 00:00:29 at 9.03MiB/s     \n",
      "[download] Destination: ./downloaded_celebvhq/raw/mq5I7jFZ3Sk.f140.m4a\n",
      "[download] 100% of   16.14MiB in 00:00:01 at 8.29MiB/s     \n",
      "[Merger] Merging formats into \"./downloaded_celebvhq/raw/mq5I7jFZ3Sk.mp4\"\n",
      "Deleting original file ./downloaded_celebvhq/raw/mq5I7jFZ3Sk.f140.m4a (pass -k to keep)\n",
      "Deleting original file ./downloaded_celebvhq/raw/mq5I7jFZ3Sk.f137.mp4 (pass -k to keep)\n",
      "yt-dlp  -f 'bestvideo[ext=mp4]+bestaudio[ext=m4a]/bestvideo+bestaudio' --skip-unavailable-fragments --merge-output-format mp4 https://www.youtube.com/watch?v=IpoReT0HjsQ --output ./downloaded_celebvhq/raw/IpoReT0HjsQ.mp4 --external-downloader aria2c --external-downloader-args \"-x 16 -k 1M\"\n"
     ]
    },
    {
     "name": "stderr",
     "output_type": "stream",
     "text": [
      "WARNING: External Downloader arguments given without specifying name. The arguments will be given to aria2c\n"
     ]
    },
    {
     "name": "stdout",
     "output_type": "stream",
     "text": [
      "[youtube] Extracting URL: https://www.youtube.com/watch?v=IpoReT0HjsQ\n",
      "[youtube] IpoReT0HjsQ: Downloading webpage\n",
      "[youtube] IpoReT0HjsQ: Downloading ios player API JSON\n",
      "[youtube] IpoReT0HjsQ: Downloading mweb player API JSON\n",
      "[youtube] IpoReT0HjsQ: Downloading m3u8 information\n",
      "[info] IpoReT0HjsQ: Downloading 1 format(s): 616+140\n",
      "[hlsnative] Downloading m3u8 manifest\n",
      "[hlsnative] Total fragments: 20\n",
      "[download] Destination: ./downloaded_celebvhq/raw/IpoReT0HjsQ.f616.mp4\n",
      "[download] 100% of   13.44MiB in 00:00:02 at 6.62MiB/s                   \n",
      "[download] Destination: ./downloaded_celebvhq/raw/IpoReT0HjsQ.f140.m4a\n",
      "[download] 100% of    1.55MiB in 00:00:00 at 10.54MiB/s    \n",
      "[Merger] Merging formats into \"./downloaded_celebvhq/raw/IpoReT0HjsQ.mp4\"\n",
      "Deleting original file ./downloaded_celebvhq/raw/IpoReT0HjsQ.f616.mp4 (pass -k to keep)\n",
      "Deleting original file ./downloaded_celebvhq/raw/IpoReT0HjsQ.f140.m4a (pass -k to keep)\n",
      "yt-dlp  -f 'bestvideo[ext=mp4]+bestaudio[ext=m4a]/bestvideo+bestaudio' --skip-unavailable-fragments --merge-output-format mp4 https://www.youtube.com/watch?v=DIdGRrayLCM --output ./downloaded_celebvhq/raw/DIdGRrayLCM.mp4 --external-downloader aria2c --external-downloader-args \"-x 16 -k 1M\"\n"
     ]
    },
    {
     "name": "stderr",
     "output_type": "stream",
     "text": [
      "WARNING: External Downloader arguments given without specifying name. The arguments will be given to aria2c\n"
     ]
    },
    {
     "name": "stdout",
     "output_type": "stream",
     "text": [
      "[youtube] Extracting URL: https://www.youtube.com/watch?v=DIdGRrayLCM\n",
      "[youtube] DIdGRrayLCM: Downloading webpage\n",
      "[youtube] DIdGRrayLCM: Downloading ios player API JSON\n",
      "[youtube] DIdGRrayLCM: Downloading mweb player API JSON\n",
      "[youtube] DIdGRrayLCM: Downloading m3u8 information\n",
      "[info] DIdGRrayLCM: Downloading 1 format(s): 614+140\n",
      "[hlsnative] Downloading m3u8 manifest\n",
      "[hlsnative] Total fragments: 37\n",
      "[download] Destination: ./downloaded_celebvhq/raw/DIdGRrayLCM.f614.mp4\n",
      "[download] 100% of   31.76MiB in 00:00:07 at 4.18MiB/s                  \n",
      "[download] Destination: ./downloaded_celebvhq/raw/DIdGRrayLCM.f140.m4a\n",
      "[download] 100% of    2.99MiB in 00:00:00 at 6.88MiB/s   \n",
      "[Merger] Merging formats into \"./downloaded_celebvhq/raw/DIdGRrayLCM.mp4\"\n",
      "Deleting original file ./downloaded_celebvhq/raw/DIdGRrayLCM.f614.mp4 (pass -k to keep)\n",
      "Deleting original file ./downloaded_celebvhq/raw/DIdGRrayLCM.f140.m4a (pass -k to keep)\n",
      "yt-dlp  -f 'bestvideo[ext=mp4]+bestaudio[ext=m4a]/bestvideo+bestaudio' --skip-unavailable-fragments --merge-output-format mp4 https://www.youtube.com/watch?v=92s-RpM7Tks --output ./downloaded_celebvhq/raw/92s-RpM7Tks.mp4 --external-downloader aria2c --external-downloader-args \"-x 16 -k 1M\"\n"
     ]
    },
    {
     "name": "stderr",
     "output_type": "stream",
     "text": [
      "WARNING: External Downloader arguments given without specifying name. The arguments will be given to aria2c\n"
     ]
    },
    {
     "name": "stdout",
     "output_type": "stream",
     "text": [
      "[youtube] Extracting URL: https://www.youtube.com/watch?v=92s-RpM7Tks\n",
      "[youtube] 92s-RpM7Tks: Downloading webpage\n",
      "[youtube] 92s-RpM7Tks: Downloading ios player API JSON\n",
      "[youtube] 92s-RpM7Tks: Downloading mweb player API JSON\n",
      "[youtube] 92s-RpM7Tks: Downloading m3u8 information\n",
      "[info] 92s-RpM7Tks: Downloading 1 format(s): 137+140\n",
      "[download] Destination: ./downloaded_celebvhq/raw/92s-RpM7Tks.f137.mp4\n",
      "[download] 100% of  106.24MiB in 00:00:10 at 10.28MiB/s    \n",
      "[download] Destination: ./downloaded_celebvhq/raw/92s-RpM7Tks.f140.m4a\n",
      "[download] 100% of   12.24MiB in 00:00:00 at 15.04MiB/s    \n",
      "[Merger] Merging formats into \"./downloaded_celebvhq/raw/92s-RpM7Tks.mp4\"\n",
      "Deleting original file ./downloaded_celebvhq/raw/92s-RpM7Tks.f137.mp4 (pass -k to keep)\n",
      "Deleting original file ./downloaded_celebvhq/raw/92s-RpM7Tks.f140.m4a (pass -k to keep)\n",
      "yt-dlp  -f 'bestvideo[ext=mp4]+bestaudio[ext=m4a]/bestvideo+bestaudio' --skip-unavailable-fragments --merge-output-format mp4 https://www.youtube.com/watch?v=K2qNJ7IzzqE --output ./downloaded_celebvhq/raw/K2qNJ7IzzqE.mp4 --external-downloader aria2c --external-downloader-args \"-x 16 -k 1M\"\n"
     ]
    },
    {
     "name": "stderr",
     "output_type": "stream",
     "text": [
      "WARNING: External Downloader arguments given without specifying name. The arguments will be given to aria2c\n"
     ]
    },
    {
     "name": "stdout",
     "output_type": "stream",
     "text": [
      "[youtube] Extracting URL: https://www.youtube.com/watch?v=K2qNJ7IzzqE\n",
      "[youtube] K2qNJ7IzzqE: Downloading webpage\n",
      "[youtube] K2qNJ7IzzqE: Downloading ios player API JSON\n",
      "[youtube] K2qNJ7IzzqE: Downloading mweb player API JSON\n",
      "[youtube] K2qNJ7IzzqE: Downloading m3u8 information\n",
      "[info] K2qNJ7IzzqE: Downloading 1 format(s): 136+140\n",
      "[download] Destination: ./downloaded_celebvhq/raw/K2qNJ7IzzqE.f136.mp4\n",
      "[download] 100% of   14.61MiB in 00:00:01 at 10.25MiB/s    \n",
      "[download] Destination: ./downloaded_celebvhq/raw/K2qNJ7IzzqE.f140.m4a\n",
      "[download] 100% of    2.14MiB in 00:00:00 at 9.14MiB/s     \n",
      "[Merger] Merging formats into \"./downloaded_celebvhq/raw/K2qNJ7IzzqE.mp4\"\n",
      "Deleting original file ./downloaded_celebvhq/raw/K2qNJ7IzzqE.f136.mp4 (pass -k to keep)\n",
      "Deleting original file ./downloaded_celebvhq/raw/K2qNJ7IzzqE.f140.m4a (pass -k to keep)\n",
      "yt-dlp  -f 'bestvideo[ext=mp4]+bestaudio[ext=m4a]/bestvideo+bestaudio' --skip-unavailable-fragments --merge-output-format mp4 https://www.youtube.com/watch?v=0H8HRSl_90Y --output ./downloaded_celebvhq/raw/0H8HRSl_90Y.mp4 --external-downloader aria2c --external-downloader-args \"-x 16 -k 1M\"\n"
     ]
    },
    {
     "name": "stderr",
     "output_type": "stream",
     "text": [
      "WARNING: External Downloader arguments given without specifying name. The arguments will be given to aria2c\n"
     ]
    },
    {
     "name": "stdout",
     "output_type": "stream",
     "text": [
      "[youtube] Extracting URL: https://www.youtube.com/watch?v=0H8HRSl_90Y\n",
      "[youtube] 0H8HRSl_90Y: Downloading webpage\n",
      "[youtube] 0H8HRSl_90Y: Downloading ios player API JSON\n",
      "[youtube] 0H8HRSl_90Y: Downloading mweb player API JSON\n",
      "[youtube] 0H8HRSl_90Y: Downloading m3u8 information\n",
      "[info] 0H8HRSl_90Y: Downloading 1 format(s): 137+140\n",
      "[download] Destination: ./downloaded_celebvhq/raw/0H8HRSl_90Y.f137.mp4\n",
      "[download] 100% of   93.20MiB in 00:00:08 at 11.23MiB/s    \n",
      "[download] Destination: ./downloaded_celebvhq/raw/0H8HRSl_90Y.f140.m4a\n",
      "[download] 100% of    9.26MiB in 00:00:01 at 5.93MiB/s     \n",
      "[Merger] Merging formats into \"./downloaded_celebvhq/raw/0H8HRSl_90Y.mp4\"\n",
      "Deleting original file ./downloaded_celebvhq/raw/0H8HRSl_90Y.f137.mp4 (pass -k to keep)\n",
      "Deleting original file ./downloaded_celebvhq/raw/0H8HRSl_90Y.f140.m4a (pass -k to keep)\n",
      "yt-dlp  -f 'bestvideo[ext=mp4]+bestaudio[ext=m4a]/bestvideo+bestaudio' --skip-unavailable-fragments --merge-output-format mp4 https://www.youtube.com/watch?v=iSdJMGSbyJc --output ./downloaded_celebvhq/raw/iSdJMGSbyJc.mp4 --external-downloader aria2c --external-downloader-args \"-x 16 -k 1M\"\n"
     ]
    },
    {
     "name": "stderr",
     "output_type": "stream",
     "text": [
      "WARNING: External Downloader arguments given without specifying name. The arguments will be given to aria2c\n"
     ]
    },
    {
     "name": "stdout",
     "output_type": "stream",
     "text": [
      "[youtube] Extracting URL: https://www.youtube.com/watch?v=iSdJMGSbyJc\n",
      "[youtube] iSdJMGSbyJc: Downloading webpage\n",
      "[youtube] iSdJMGSbyJc: Downloading ios player API JSON\n",
      "[youtube] iSdJMGSbyJc: Downloading mweb player API JSON\n",
      "[youtube] iSdJMGSbyJc: Downloading m3u8 information\n",
      "[info] iSdJMGSbyJc: Downloading 1 format(s): 137+140\n",
      "[download] Destination: ./downloaded_celebvhq/raw/iSdJMGSbyJc.f137.mp4\n",
      "[download] 100% of  216.60MiB in 00:00:29 at 7.23MiB/s     \n",
      "[download] Destination: ./downloaded_celebvhq/raw/iSdJMGSbyJc.f140.m4a\n",
      "[download] 100% of   10.72MiB in 00:00:04 at 2.34MiB/s     \n",
      "[Merger] Merging formats into \"./downloaded_celebvhq/raw/iSdJMGSbyJc.mp4\"\n",
      "Deleting original file ./downloaded_celebvhq/raw/iSdJMGSbyJc.f140.m4a (pass -k to keep)\n",
      "Deleting original file ./downloaded_celebvhq/raw/iSdJMGSbyJc.f137.mp4 (pass -k to keep)\n",
      "yt-dlp  -f 'bestvideo[ext=mp4]+bestaudio[ext=m4a]/bestvideo+bestaudio' --skip-unavailable-fragments --merge-output-format mp4 https://www.youtube.com/watch?v=0s1UUn9aSSw --output ./downloaded_celebvhq/raw/0s1UUn9aSSw.mp4 --external-downloader aria2c --external-downloader-args \"-x 16 -k 1M\"\n"
     ]
    },
    {
     "name": "stderr",
     "output_type": "stream",
     "text": [
      "WARNING: External Downloader arguments given without specifying name. The arguments will be given to aria2c\n"
     ]
    },
    {
     "name": "stdout",
     "output_type": "stream",
     "text": [
      "[youtube] Extracting URL: https://www.youtube.com/watch?v=0s1UUn9aSSw\n",
      "[youtube] 0s1UUn9aSSw: Downloading webpage\n",
      "[youtube] 0s1UUn9aSSw: Downloading ios player API JSON\n",
      "[youtube] 0s1UUn9aSSw: Downloading mweb player API JSON\n",
      "[youtube] 0s1UUn9aSSw: Downloading m3u8 information\n",
      "[info] 0s1UUn9aSSw: Downloading 1 format(s): 614+140\n",
      "[hlsnative] Downloading m3u8 manifest\n",
      "[hlsnative] Total fragments: 41\n",
      "[download] Destination: ./downloaded_celebvhq/raw/0s1UUn9aSSw.f614.mp4\n",
      "[download] 100% of   25.43MiB in 00:00:05 at 4.33MiB/s                  \n",
      "[download] Destination: ./downloaded_celebvhq/raw/0s1UUn9aSSw.f140.m4a\n",
      "[download] 100% of    3.11MiB in 00:00:00 at 11.27MiB/s    \n",
      "[Merger] Merging formats into \"./downloaded_celebvhq/raw/0s1UUn9aSSw.mp4\"\n",
      "Deleting original file ./downloaded_celebvhq/raw/0s1UUn9aSSw.f614.mp4 (pass -k to keep)\n",
      "Deleting original file ./downloaded_celebvhq/raw/0s1UUn9aSSw.f140.m4a (pass -k to keep)\n",
      "yt-dlp  -f 'bestvideo[ext=mp4]+bestaudio[ext=m4a]/bestvideo+bestaudio' --skip-unavailable-fragments --merge-output-format mp4 https://www.youtube.com/watch?v=tCkXVK58bIg --output ./downloaded_celebvhq/raw/tCkXVK58bIg.mp4 --external-downloader aria2c --external-downloader-args \"-x 16 -k 1M\"\n"
     ]
    },
    {
     "name": "stderr",
     "output_type": "stream",
     "text": [
      "WARNING: External Downloader arguments given without specifying name. The arguments will be given to aria2c\n"
     ]
    },
    {
     "name": "stdout",
     "output_type": "stream",
     "text": [
      "[youtube] Extracting URL: https://www.youtube.com/watch?v=tCkXVK58bIg\n",
      "[youtube] tCkXVK58bIg: Downloading webpage\n",
      "[youtube] tCkXVK58bIg: Downloading ios player API JSON\n",
      "[youtube] tCkXVK58bIg: Downloading mweb player API JSON\n",
      "[youtube] tCkXVK58bIg: Downloading m3u8 information\n",
      "[info] tCkXVK58bIg: Downloading 1 format(s): 137+140\n",
      "[download] Destination: ./downloaded_celebvhq/raw/tCkXVK58bIg.f137.mp4\n",
      "[download] 100% of   33.97MiB in 00:00:10 at 3.27MiB/s     \n",
      "[download] Destination: ./downloaded_celebvhq/raw/tCkXVK58bIg.f140.m4a\n",
      "[download] 100% of    2.84MiB in 00:00:00 at 7.90MiB/s   \n",
      "[Merger] Merging formats into \"./downloaded_celebvhq/raw/tCkXVK58bIg.mp4\"\n",
      "Deleting original file ./downloaded_celebvhq/raw/tCkXVK58bIg.f137.mp4 (pass -k to keep)\n",
      "Deleting original file ./downloaded_celebvhq/raw/tCkXVK58bIg.f140.m4a (pass -k to keep)\n",
      "yt-dlp  -f 'bestvideo[ext=mp4]+bestaudio[ext=m4a]/bestvideo+bestaudio' --skip-unavailable-fragments --merge-output-format mp4 https://www.youtube.com/watch?v=O_E3v2IuYM0 --output ./downloaded_celebvhq/raw/O_E3v2IuYM0.mp4 --external-downloader aria2c --external-downloader-args \"-x 16 -k 1M\"\n"
     ]
    },
    {
     "name": "stderr",
     "output_type": "stream",
     "text": [
      "WARNING: External Downloader arguments given without specifying name. The arguments will be given to aria2c\n"
     ]
    },
    {
     "name": "stdout",
     "output_type": "stream",
     "text": [
      "[youtube] Extracting URL: https://www.youtube.com/watch?v=O_E3v2IuYM0\n",
      "[youtube] O_E3v2IuYM0: Downloading webpage\n",
      "[youtube] O_E3v2IuYM0: Downloading ios player API JSON\n",
      "[youtube] O_E3v2IuYM0: Downloading mweb player API JSON\n",
      "[youtube] O_E3v2IuYM0: Downloading m3u8 information\n",
      "[info] O_E3v2IuYM0: Downloading 1 format(s): 137+140\n",
      "[download] Destination: ./downloaded_celebvhq/raw/O_E3v2IuYM0.f137.mp4\n",
      "[download] 100% of  159.27MiB in 00:00:22 at 6.93MiB/s     \n",
      "[download] Destination: ./downloaded_celebvhq/raw/O_E3v2IuYM0.f140.m4a\n",
      "[download] 100% of   17.39MiB in 00:00:01 at 10.75MiB/s    \n",
      "[Merger] Merging formats into \"./downloaded_celebvhq/raw/O_E3v2IuYM0.mp4\"\n",
      "Deleting original file ./downloaded_celebvhq/raw/O_E3v2IuYM0.f140.m4a (pass -k to keep)\n",
      "Deleting original file ./downloaded_celebvhq/raw/O_E3v2IuYM0.f137.mp4 (pass -k to keep)\n",
      "yt-dlp  -f 'bestvideo[ext=mp4]+bestaudio[ext=m4a]/bestvideo+bestaudio' --skip-unavailable-fragments --merge-output-format mp4 https://www.youtube.com/watch?v=oH3u2QHoR2A --output ./downloaded_celebvhq/raw/oH3u2QHoR2A.mp4 --external-downloader aria2c --external-downloader-args \"-x 16 -k 1M\"\n"
     ]
    },
    {
     "name": "stderr",
     "output_type": "stream",
     "text": [
      "WARNING: External Downloader arguments given without specifying name. The arguments will be given to aria2c\n"
     ]
    },
    {
     "name": "stdout",
     "output_type": "stream",
     "text": [
      "[youtube] Extracting URL: https://www.youtube.com/watch?v=oH3u2QHoR2A\n",
      "[youtube] oH3u2QHoR2A: Downloading webpage\n",
      "[youtube] oH3u2QHoR2A: Downloading ios player API JSON\n",
      "[youtube] oH3u2QHoR2A: Downloading mweb player API JSON\n",
      "[youtube] oH3u2QHoR2A: Downloading m3u8 information\n",
      "[info] oH3u2QHoR2A: Downloading 1 format(s): 137+140\n",
      "[download] Destination: ./downloaded_celebvhq/raw/oH3u2QHoR2A.f137.mp4\n",
      "[download] 100% of  158.77MiB in 00:00:21 at 7.45MiB/s     \n",
      "[download] Destination: ./downloaded_celebvhq/raw/oH3u2QHoR2A.f140.m4a\n",
      "[download] 100% of   15.59MiB in 00:00:01 at 10.52MiB/s  \n",
      "[Merger] Merging formats into \"./downloaded_celebvhq/raw/oH3u2QHoR2A.mp4\"\n",
      "Deleting original file ./downloaded_celebvhq/raw/oH3u2QHoR2A.f137.mp4 (pass -k to keep)\n",
      "Deleting original file ./downloaded_celebvhq/raw/oH3u2QHoR2A.f140.m4a (pass -k to keep)\n",
      "yt-dlp  -f 'bestvideo[ext=mp4]+bestaudio[ext=m4a]/bestvideo+bestaudio' --skip-unavailable-fragments --merge-output-format mp4 https://www.youtube.com/watch?v=W2p3HK_KxKs --output ./downloaded_celebvhq/raw/W2p3HK_KxKs.mp4 --external-downloader aria2c --external-downloader-args \"-x 16 -k 1M\"\n"
     ]
    },
    {
     "name": "stderr",
     "output_type": "stream",
     "text": [
      "WARNING: External Downloader arguments given without specifying name. The arguments will be given to aria2c\n"
     ]
    },
    {
     "name": "stdout",
     "output_type": "stream",
     "text": [
      "[youtube] Extracting URL: https://www.youtube.com/watch?v=W2p3HK_KxKs\n",
      "[youtube] W2p3HK_KxKs: Downloading webpage\n",
      "[youtube] W2p3HK_KxKs: Downloading ios player API JSON\n",
      "[youtube] W2p3HK_KxKs: Downloading mweb player API JSON\n",
      "[youtube] W2p3HK_KxKs: Downloading m3u8 information\n",
      "[info] W2p3HK_KxKs: Downloading 1 format(s): 137+140\n",
      "[download] Destination: ./downloaded_celebvhq/raw/W2p3HK_KxKs.f137.mp4\n",
      "[download] 100% of   89.88MiB in 00:00:11 at 7.50MiB/s     \n",
      "[download] Destination: ./downloaded_celebvhq/raw/W2p3HK_KxKs.f140.m4a\n",
      "[download] 100% of    4.65MiB in 00:00:01 at 4.08MiB/s   \n",
      "[Merger] Merging formats into \"./downloaded_celebvhq/raw/W2p3HK_KxKs.mp4\"\n",
      "Deleting original file ./downloaded_celebvhq/raw/W2p3HK_KxKs.f140.m4a (pass -k to keep)\n",
      "Deleting original file ./downloaded_celebvhq/raw/W2p3HK_KxKs.f137.mp4 (pass -k to keep)\n",
      "yt-dlp  -f 'bestvideo[ext=mp4]+bestaudio[ext=m4a]/bestvideo+bestaudio' --skip-unavailable-fragments --merge-output-format mp4 https://www.youtube.com/watch?v=o9DsswQ0FhY --output ./downloaded_celebvhq/raw/o9DsswQ0FhY.mp4 --external-downloader aria2c --external-downloader-args \"-x 16 -k 1M\"\n"
     ]
    },
    {
     "name": "stderr",
     "output_type": "stream",
     "text": [
      "WARNING: External Downloader arguments given without specifying name. The arguments will be given to aria2c\n"
     ]
    },
    {
     "name": "stdout",
     "output_type": "stream",
     "text": [
      "[youtube] Extracting URL: https://www.youtube.com/watch?v=o9DsswQ0FhY\n",
      "[youtube] o9DsswQ0FhY: Downloading webpage\n",
      "[youtube] o9DsswQ0FhY: Downloading ios player API JSON\n",
      "[youtube] o9DsswQ0FhY: Downloading mweb player API JSON\n",
      "[youtube] o9DsswQ0FhY: Downloading m3u8 information\n",
      "[info] o9DsswQ0FhY: Downloading 1 format(s): 137+140\n",
      "[download] Destination: ./downloaded_celebvhq/raw/o9DsswQ0FhY.f137.mp4\n",
      "[download] 100% of   60.75MiB in 00:00:15 at 3.92MiB/s     \n",
      "[download] Destination: ./downloaded_celebvhq/raw/o9DsswQ0FhY.f140.m4a\n",
      "[download] 100% of    3.15MiB in 00:00:00 at 6.30MiB/s   \n",
      "[Merger] Merging formats into \"./downloaded_celebvhq/raw/o9DsswQ0FhY.mp4\"\n",
      "Deleting original file ./downloaded_celebvhq/raw/o9DsswQ0FhY.f137.mp4 (pass -k to keep)\n",
      "Deleting original file ./downloaded_celebvhq/raw/o9DsswQ0FhY.f140.m4a (pass -k to keep)\n",
      "yt-dlp  -f 'bestvideo[ext=mp4]+bestaudio[ext=m4a]/bestvideo+bestaudio' --skip-unavailable-fragments --merge-output-format mp4 https://www.youtube.com/watch?v=h9nMqiqfbyY --output ./downloaded_celebvhq/raw/h9nMqiqfbyY.mp4 --external-downloader aria2c --external-downloader-args \"-x 16 -k 1M\"\n"
     ]
    },
    {
     "name": "stderr",
     "output_type": "stream",
     "text": [
      "WARNING: External Downloader arguments given without specifying name. The arguments will be given to aria2c\n"
     ]
    },
    {
     "name": "stdout",
     "output_type": "stream",
     "text": [
      "[youtube] Extracting URL: https://www.youtube.com/watch?v=h9nMqiqfbyY\n",
      "[youtube] h9nMqiqfbyY: Downloading webpage\n",
      "[youtube] h9nMqiqfbyY: Downloading ios player API JSON\n",
      "[youtube] h9nMqiqfbyY: Downloading mweb player API JSON\n",
      "[youtube] h9nMqiqfbyY: Downloading m3u8 information\n",
      "[info] h9nMqiqfbyY: Downloading 1 format(s): 137+140\n",
      "[download] Destination: ./downloaded_celebvhq/raw/h9nMqiqfbyY.f137.mp4\n",
      "[download] 100% of   33.49MiB in 00:00:03 at 10.97MiB/s    \n",
      "[download] Destination: ./downloaded_celebvhq/raw/h9nMqiqfbyY.f140.m4a\n",
      "[download] 100% of    1.86MiB in 00:00:00 at 7.80MiB/s   \n",
      "[Merger] Merging formats into \"./downloaded_celebvhq/raw/h9nMqiqfbyY.mp4\"\n",
      "Deleting original file ./downloaded_celebvhq/raw/h9nMqiqfbyY.f140.m4a (pass -k to keep)\n",
      "Deleting original file ./downloaded_celebvhq/raw/h9nMqiqfbyY.f137.mp4 (pass -k to keep)\n",
      "yt-dlp  -f 'bestvideo[ext=mp4]+bestaudio[ext=m4a]/bestvideo+bestaudio' --skip-unavailable-fragments --merge-output-format mp4 https://www.youtube.com/watch?v=QyOM1rQ7iT8 --output ./downloaded_celebvhq/raw/QyOM1rQ7iT8.mp4 --external-downloader aria2c --external-downloader-args \"-x 16 -k 1M\"\n"
     ]
    },
    {
     "name": "stderr",
     "output_type": "stream",
     "text": [
      "WARNING: External Downloader arguments given without specifying name. The arguments will be given to aria2c\n"
     ]
    },
    {
     "name": "stdout",
     "output_type": "stream",
     "text": [
      "[youtube] Extracting URL: https://www.youtube.com/watch?v=QyOM1rQ7iT8\n",
      "[youtube] QyOM1rQ7iT8: Downloading webpage\n",
      "[youtube] QyOM1rQ7iT8: Downloading ios player API JSON\n",
      "[youtube] QyOM1rQ7iT8: Downloading mweb player API JSON\n",
      "[youtube] QyOM1rQ7iT8: Downloading m3u8 information\n",
      "[info] QyOM1rQ7iT8: Downloading 1 format(s): 137+140\n",
      "[download] Destination: ./downloaded_celebvhq/raw/QyOM1rQ7iT8.f137.mp4\n",
      "[download] 100% of   13.29MiB in 00:00:01 at 9.61MiB/s     \n",
      "[download] Destination: ./downloaded_celebvhq/raw/QyOM1rQ7iT8.f140.m4a\n",
      "[download] 100% of    2.61MiB in 00:00:00 at 4.09MiB/s   \n",
      "[Merger] Merging formats into \"./downloaded_celebvhq/raw/QyOM1rQ7iT8.mp4\"\n",
      "Deleting original file ./downloaded_celebvhq/raw/QyOM1rQ7iT8.f137.mp4 (pass -k to keep)\n",
      "Deleting original file ./downloaded_celebvhq/raw/QyOM1rQ7iT8.f140.m4a (pass -k to keep)\n",
      "yt-dlp  -f 'bestvideo[ext=mp4]+bestaudio[ext=m4a]/bestvideo+bestaudio' --skip-unavailable-fragments --merge-output-format mp4 https://www.youtube.com/watch?v=7aXBcMlaxX0 --output ./downloaded_celebvhq/raw/7aXBcMlaxX0.mp4 --external-downloader aria2c --external-downloader-args \"-x 16 -k 1M\"\n"
     ]
    },
    {
     "name": "stderr",
     "output_type": "stream",
     "text": [
      "WARNING: External Downloader arguments given without specifying name. The arguments will be given to aria2c\n"
     ]
    },
    {
     "name": "stdout",
     "output_type": "stream",
     "text": [
      "[youtube] Extracting URL: https://www.youtube.com/watch?v=7aXBcMlaxX0\n",
      "[youtube] 7aXBcMlaxX0: Downloading webpage\n",
      "[youtube] 7aXBcMlaxX0: Downloading ios player API JSON\n",
      "[youtube] 7aXBcMlaxX0: Downloading mweb player API JSON\n",
      "[youtube] 7aXBcMlaxX0: Downloading m3u8 information\n",
      "[info] 7aXBcMlaxX0: Downloading 1 format(s): 137+140\n",
      "[download] Destination: ./downloaded_celebvhq/raw/7aXBcMlaxX0.f137.mp4\n",
      "[download] 100% of   83.56MiB in 00:00:13 at 6.19MiB/s     \n",
      "[download] Destination: ./downloaded_celebvhq/raw/7aXBcMlaxX0.f140.m4a\n",
      "[download] 100% of   10.65MiB in 00:00:01 at 6.56MiB/s     \n",
      "[Merger] Merging formats into \"./downloaded_celebvhq/raw/7aXBcMlaxX0.mp4\"\n",
      "Deleting original file ./downloaded_celebvhq/raw/7aXBcMlaxX0.f140.m4a (pass -k to keep)\n",
      "Deleting original file ./downloaded_celebvhq/raw/7aXBcMlaxX0.f137.mp4 (pass -k to keep)\n",
      "yt-dlp  -f 'bestvideo[ext=mp4]+bestaudio[ext=m4a]/bestvideo+bestaudio' --skip-unavailable-fragments --merge-output-format mp4 https://www.youtube.com/watch?v=JVqR-wAWZsQ --output ./downloaded_celebvhq/raw/JVqR-wAWZsQ.mp4 --external-downloader aria2c --external-downloader-args \"-x 16 -k 1M\"\n"
     ]
    },
    {
     "name": "stderr",
     "output_type": "stream",
     "text": [
      "WARNING: External Downloader arguments given without specifying name. The arguments will be given to aria2c\n"
     ]
    },
    {
     "name": "stdout",
     "output_type": "stream",
     "text": [
      "[youtube] Extracting URL: https://www.youtube.com/watch?v=JVqR-wAWZsQ\n",
      "[youtube] JVqR-wAWZsQ: Downloading webpage\n",
      "[youtube] JVqR-wAWZsQ: Downloading ios player API JSON\n",
      "[youtube] JVqR-wAWZsQ: Downloading mweb player API JSON\n",
      "[youtube] JVqR-wAWZsQ: Downloading m3u8 information\n",
      "[info] JVqR-wAWZsQ: Downloading 1 format(s): 137+140\n",
      "[download] Destination: ./downloaded_celebvhq/raw/JVqR-wAWZsQ.f137.mp4\n",
      "[download] 100% of  205.88MiB in 00:00:30 at 6.79MiB/s     \n",
      "[download] Destination: ./downloaded_celebvhq/raw/JVqR-wAWZsQ.f140.m4a\n",
      "[download] 100% of   14.84MiB in 00:00:02 at 6.62MiB/s   \n",
      "[Merger] Merging formats into \"./downloaded_celebvhq/raw/JVqR-wAWZsQ.mp4\"\n",
      "Deleting original file ./downloaded_celebvhq/raw/JVqR-wAWZsQ.f140.m4a (pass -k to keep)\n",
      "Deleting original file ./downloaded_celebvhq/raw/JVqR-wAWZsQ.f137.mp4 (pass -k to keep)\n",
      "yt-dlp  -f 'bestvideo[ext=mp4]+bestaudio[ext=m4a]/bestvideo+bestaudio' --skip-unavailable-fragments --merge-output-format mp4 https://www.youtube.com/watch?v=dg0XTzG1v98 --output ./downloaded_celebvhq/raw/dg0XTzG1v98.mp4 --external-downloader aria2c --external-downloader-args \"-x 16 -k 1M\"\n"
     ]
    },
    {
     "name": "stderr",
     "output_type": "stream",
     "text": [
      "WARNING: External Downloader arguments given without specifying name. The arguments will be given to aria2c\n"
     ]
    },
    {
     "name": "stdout",
     "output_type": "stream",
     "text": [
      "[youtube] Extracting URL: https://www.youtube.com/watch?v=dg0XTzG1v98\n",
      "[youtube] dg0XTzG1v98: Downloading webpage\n",
      "[youtube] dg0XTzG1v98: Downloading ios player API JSON\n",
      "[youtube] dg0XTzG1v98: Downloading mweb player API JSON\n",
      "[youtube] dg0XTzG1v98: Downloading m3u8 information\n",
      "[info] dg0XTzG1v98: Downloading 1 format(s): 137+140\n",
      "[download] Destination: ./downloaded_celebvhq/raw/dg0XTzG1v98.f137.mp4\n",
      "[download] 100% of  107.54MiB in 00:00:11 at 9.60MiB/s     \n",
      "[download] Destination: ./downloaded_celebvhq/raw/dg0XTzG1v98.f140.m4a\n",
      "[download] 100% of    8.51MiB in 00:00:00 at 9.88MiB/s   \n",
      "[Merger] Merging formats into \"./downloaded_celebvhq/raw/dg0XTzG1v98.mp4\"\n",
      "Deleting original file ./downloaded_celebvhq/raw/dg0XTzG1v98.f140.m4a (pass -k to keep)\n",
      "Deleting original file ./downloaded_celebvhq/raw/dg0XTzG1v98.f137.mp4 (pass -k to keep)\n",
      "yt-dlp  -f 'bestvideo[ext=mp4]+bestaudio[ext=m4a]/bestvideo+bestaudio' --skip-unavailable-fragments --merge-output-format mp4 https://www.youtube.com/watch?v=BFTqHJw_Nmg --output ./downloaded_celebvhq/raw/BFTqHJw_Nmg.mp4 --external-downloader aria2c --external-downloader-args \"-x 16 -k 1M\"\n"
     ]
    },
    {
     "name": "stderr",
     "output_type": "stream",
     "text": [
      "WARNING: External Downloader arguments given without specifying name. The arguments will be given to aria2c\n"
     ]
    },
    {
     "name": "stdout",
     "output_type": "stream",
     "text": [
      "[youtube] Extracting URL: https://www.youtube.com/watch?v=BFTqHJw_Nmg\n",
      "[youtube] BFTqHJw_Nmg: Downloading webpage\n",
      "[youtube] BFTqHJw_Nmg: Downloading ios player API JSON\n",
      "[youtube] BFTqHJw_Nmg: Downloading mweb player API JSON\n",
      "[youtube] BFTqHJw_Nmg: Downloading m3u8 information\n",
      "[info] BFTqHJw_Nmg: Downloading 1 format(s): 136+140\n",
      "[download] Destination: ./downloaded_celebvhq/raw/BFTqHJw_Nmg.f136.mp4\n",
      "[download] 100% of    5.30MiB in 00:00:00 at 5.92MiB/s   \n",
      "[download] Destination: ./downloaded_celebvhq/raw/BFTqHJw_Nmg.f140.m4a\n",
      "[download] 100% of    1.33MiB in 00:00:00 at 5.35MiB/s   \n",
      "[Merger] Merging formats into \"./downloaded_celebvhq/raw/BFTqHJw_Nmg.mp4\"\n",
      "Deleting original file ./downloaded_celebvhq/raw/BFTqHJw_Nmg.f140.m4a (pass -k to keep)\n",
      "Deleting original file ./downloaded_celebvhq/raw/BFTqHJw_Nmg.f136.mp4 (pass -k to keep)\n",
      "yt-dlp  -f 'bestvideo[ext=mp4]+bestaudio[ext=m4a]/bestvideo+bestaudio' --skip-unavailable-fragments --merge-output-format mp4 https://www.youtube.com/watch?v=1pzV9GoSuys --output ./downloaded_celebvhq/raw/1pzV9GoSuys.mp4 --external-downloader aria2c --external-downloader-args \"-x 16 -k 1M\"\n"
     ]
    },
    {
     "name": "stderr",
     "output_type": "stream",
     "text": [
      "WARNING: External Downloader arguments given without specifying name. The arguments will be given to aria2c\n"
     ]
    },
    {
     "name": "stdout",
     "output_type": "stream",
     "text": [
      "[youtube] Extracting URL: https://www.youtube.com/watch?v=1pzV9GoSuys\n",
      "[youtube] 1pzV9GoSuys: Downloading webpage\n",
      "[youtube] 1pzV9GoSuys: Downloading ios player API JSON\n",
      "[youtube] 1pzV9GoSuys: Downloading mweb player API JSON\n",
      "[youtube] 1pzV9GoSuys: Downloading m3u8 information\n",
      "[info] 1pzV9GoSuys: Downloading 1 format(s): 614+140\n",
      "[hlsnative] Downloading m3u8 manifest\n",
      "[hlsnative] Total fragments: 13\n",
      "[download] Destination: ./downloaded_celebvhq/raw/1pzV9GoSuys.f614.mp4\n",
      "[download] 100% of    6.03MiB in 00:00:01 at 4.15MiB/s                  \n",
      "[download] Destination: ./downloaded_celebvhq/raw/1pzV9GoSuys.f140.m4a\n",
      "[download] 100% of    1.14MiB in 00:00:00 at 6.73MiB/s     \n",
      "[Merger] Merging formats into \"./downloaded_celebvhq/raw/1pzV9GoSuys.mp4\"\n",
      "Deleting original file ./downloaded_celebvhq/raw/1pzV9GoSuys.f614.mp4 (pass -k to keep)\n",
      "Deleting original file ./downloaded_celebvhq/raw/1pzV9GoSuys.f140.m4a (pass -k to keep)\n",
      "yt-dlp  -f 'bestvideo[ext=mp4]+bestaudio[ext=m4a]/bestvideo+bestaudio' --skip-unavailable-fragments --merge-output-format mp4 https://www.youtube.com/watch?v=-yPwW5V4mhI --output ./downloaded_celebvhq/raw/-yPwW5V4mhI.mp4 --external-downloader aria2c --external-downloader-args \"-x 16 -k 1M\"\n"
     ]
    },
    {
     "name": "stderr",
     "output_type": "stream",
     "text": [
      "WARNING: External Downloader arguments given without specifying name. The arguments will be given to aria2c\n"
     ]
    },
    {
     "name": "stdout",
     "output_type": "stream",
     "text": [
      "[youtube] Extracting URL: https://www.youtube.com/watch?v=-yPwW5V4mhI\n",
      "[youtube] -yPwW5V4mhI: Downloading webpage\n",
      "[youtube] -yPwW5V4mhI: Downloading ios player API JSON\n",
      "[youtube] -yPwW5V4mhI: Downloading mweb player API JSON\n",
      "[youtube] -yPwW5V4mhI: Downloading m3u8 information\n",
      "[info] -yPwW5V4mhI: Downloading 1 format(s): 614+140\n",
      "[hlsnative] Downloading m3u8 manifest\n",
      "[hlsnative] Total fragments: 25\n",
      "[download] Destination: ./downloaded_celebvhq/raw/-yPwW5V4mhI.f614.mp4\n",
      "[download] 100% of   18.14MiB in 00:00:05 at 3.19MiB/s                  \n",
      "[download] Destination: ./downloaded_celebvhq/raw/-yPwW5V4mhI.f140.m4a\n",
      "[download] 100% of    2.02MiB in 00:00:00 at 4.36MiB/s   \n",
      "[Merger] Merging formats into \"./downloaded_celebvhq/raw/-yPwW5V4mhI.mp4\"\n",
      "Deleting original file ./downloaded_celebvhq/raw/-yPwW5V4mhI.f614.mp4 (pass -k to keep)\n",
      "Deleting original file ./downloaded_celebvhq/raw/-yPwW5V4mhI.f140.m4a (pass -k to keep)\n",
      "yt-dlp  -f 'bestvideo[ext=mp4]+bestaudio[ext=m4a]/bestvideo+bestaudio' --skip-unavailable-fragments --merge-output-format mp4 https://www.youtube.com/watch?v=ZZ3fBpZE1Z8 --output ./downloaded_celebvhq/raw/ZZ3fBpZE1Z8.mp4 --external-downloader aria2c --external-downloader-args \"-x 16 -k 1M\"\n"
     ]
    },
    {
     "name": "stderr",
     "output_type": "stream",
     "text": [
      "WARNING: External Downloader arguments given without specifying name. The arguments will be given to aria2c\n"
     ]
    },
    {
     "name": "stdout",
     "output_type": "stream",
     "text": [
      "[youtube] Extracting URL: https://www.youtube.com/watch?v=ZZ3fBpZE1Z8\n",
      "[youtube] ZZ3fBpZE1Z8: Downloading webpage\n",
      "[youtube] ZZ3fBpZE1Z8: Downloading ios player API JSON\n",
      "[youtube] ZZ3fBpZE1Z8: Downloading mweb player API JSON\n",
      "[youtube] ZZ3fBpZE1Z8: Downloading m3u8 information\n",
      "[info] ZZ3fBpZE1Z8: Downloading 1 format(s): 614+140\n",
      "[hlsnative] Downloading m3u8 manifest\n",
      "[hlsnative] Total fragments: 97\n",
      "[download] Destination: ./downloaded_celebvhq/raw/ZZ3fBpZE1Z8.f614.mp4\n",
      "[download] 100% of  114.67MiB in 00:00:29 at 3.93MiB/s                  \n",
      "[download] Destination: ./downloaded_celebvhq/raw/ZZ3fBpZE1Z8.f140.m4a\n",
      "[download] 100% of    7.79MiB in 00:00:07 at 1.00MiB/s     \n",
      "[Merger] Merging formats into \"./downloaded_celebvhq/raw/ZZ3fBpZE1Z8.mp4\"\n",
      "Deleting original file ./downloaded_celebvhq/raw/ZZ3fBpZE1Z8.f140.m4a (pass -k to keep)\n",
      "Deleting original file ./downloaded_celebvhq/raw/ZZ3fBpZE1Z8.f614.mp4 (pass -k to keep)\n",
      "yt-dlp  -f 'bestvideo[ext=mp4]+bestaudio[ext=m4a]/bestvideo+bestaudio' --skip-unavailable-fragments --merge-output-format mp4 https://www.youtube.com/watch?v=pQ7uUQVHPV4 --output ./downloaded_celebvhq/raw/pQ7uUQVHPV4.mp4 --external-downloader aria2c --external-downloader-args \"-x 16 -k 1M\"\n"
     ]
    },
    {
     "name": "stderr",
     "output_type": "stream",
     "text": [
      "WARNING: External Downloader arguments given without specifying name. The arguments will be given to aria2c\n"
     ]
    },
    {
     "name": "stdout",
     "output_type": "stream",
     "text": [
      "[youtube] Extracting URL: https://www.youtube.com/watch?v=pQ7uUQVHPV4\n",
      "[youtube] pQ7uUQVHPV4: Downloading webpage\n",
      "[youtube] pQ7uUQVHPV4: Downloading ios player API JSON\n",
      "[youtube] pQ7uUQVHPV4: Downloading mweb player API JSON\n",
      "[youtube] pQ7uUQVHPV4: Downloading m3u8 information\n",
      "[info] pQ7uUQVHPV4: Downloading 1 format(s): 137+140\n",
      "[download] Destination: ./downloaded_celebvhq/raw/pQ7uUQVHPV4.f137.mp4\n",
      "[download] 100% of   36.37MiB in 00:00:05 at 6.93MiB/s     \n",
      "[download] Destination: ./downloaded_celebvhq/raw/pQ7uUQVHPV4.f140.m4a\n",
      "[download] 100% of    2.43MiB in 00:00:00 at 2.52MiB/s   \n",
      "[Merger] Merging formats into \"./downloaded_celebvhq/raw/pQ7uUQVHPV4.mp4\"\n",
      "Deleting original file ./downloaded_celebvhq/raw/pQ7uUQVHPV4.f137.mp4 (pass -k to keep)\n",
      "Deleting original file ./downloaded_celebvhq/raw/pQ7uUQVHPV4.f140.m4a (pass -k to keep)\n",
      "yt-dlp  -f 'bestvideo[ext=mp4]+bestaudio[ext=m4a]/bestvideo+bestaudio' --skip-unavailable-fragments --merge-output-format mp4 https://www.youtube.com/watch?v=xlAwSNbAY8E --output ./downloaded_celebvhq/raw/xlAwSNbAY8E.mp4 --external-downloader aria2c --external-downloader-args \"-x 16 -k 1M\"\n"
     ]
    },
    {
     "name": "stderr",
     "output_type": "stream",
     "text": [
      "WARNING: External Downloader arguments given without specifying name. The arguments will be given to aria2c\n"
     ]
    },
    {
     "name": "stdout",
     "output_type": "stream",
     "text": [
      "[youtube] Extracting URL: https://www.youtube.com/watch?v=xlAwSNbAY8E\n",
      "[youtube] xlAwSNbAY8E: Downloading webpage\n",
      "[youtube] xlAwSNbAY8E: Downloading ios player API JSON\n",
      "[youtube] xlAwSNbAY8E: Downloading mweb player API JSON\n",
      "[youtube] xlAwSNbAY8E: Downloading m3u8 information\n",
      "[info] xlAwSNbAY8E: Downloading 1 format(s): 614+140\n",
      "[hlsnative] Downloading m3u8 manifest\n",
      "[hlsnative] Total fragments: 42\n",
      "[download] Destination: ./downloaded_celebvhq/raw/xlAwSNbAY8E.f614.mp4\n",
      "[download] 100% of   15.98MiB in 00:00:04 at 3.36MiB/s                  \n",
      "[download] Destination: ./downloaded_celebvhq/raw/xlAwSNbAY8E.f140.m4a\n",
      "[download] 100% of    3.30MiB in 00:00:00 at 9.13MiB/s   \n",
      "[Merger] Merging formats into \"./downloaded_celebvhq/raw/xlAwSNbAY8E.mp4\"\n",
      "Deleting original file ./downloaded_celebvhq/raw/xlAwSNbAY8E.f614.mp4 (pass -k to keep)\n",
      "Deleting original file ./downloaded_celebvhq/raw/xlAwSNbAY8E.f140.m4a (pass -k to keep)\n",
      "yt-dlp  -f 'bestvideo[ext=mp4]+bestaudio[ext=m4a]/bestvideo+bestaudio' --skip-unavailable-fragments --merge-output-format mp4 https://www.youtube.com/watch?v=7uVYfHYj-ag --output ./downloaded_celebvhq/raw/7uVYfHYj-ag.mp4 --external-downloader aria2c --external-downloader-args \"-x 16 -k 1M\"\n"
     ]
    },
    {
     "name": "stderr",
     "output_type": "stream",
     "text": [
      "WARNING: External Downloader arguments given without specifying name. The arguments will be given to aria2c\n"
     ]
    },
    {
     "name": "stdout",
     "output_type": "stream",
     "text": [
      "[youtube] Extracting URL: https://www.youtube.com/watch?v=7uVYfHYj-ag\n",
      "[youtube] 7uVYfHYj-ag: Downloading webpage\n",
      "[youtube] 7uVYfHYj-ag: Downloading ios player API JSON\n",
      "[youtube] 7uVYfHYj-ag: Downloading mweb player API JSON\n",
      "[youtube] 7uVYfHYj-ag: Downloading m3u8 information\n",
      "[info] 7uVYfHYj-ag: Downloading 1 format(s): 137+140\n",
      "[download] Destination: ./downloaded_celebvhq/raw/7uVYfHYj-ag.f137.mp4\n",
      "[download] 100% of  188.59MiB in 00:00:20 at 9.29MiB/s     \n",
      "[download] Destination: ./downloaded_celebvhq/raw/7uVYfHYj-ag.f140.m4a\n",
      "[download] 100% of    8.86MiB in 00:00:01 at 8.75MiB/s   \n",
      "[Merger] Merging formats into \"./downloaded_celebvhq/raw/7uVYfHYj-ag.mp4\"\n",
      "Deleting original file ./downloaded_celebvhq/raw/7uVYfHYj-ag.f137.mp4 (pass -k to keep)\n",
      "Deleting original file ./downloaded_celebvhq/raw/7uVYfHYj-ag.f140.m4a (pass -k to keep)\n",
      "yt-dlp  -f 'bestvideo[ext=mp4]+bestaudio[ext=m4a]/bestvideo+bestaudio' --skip-unavailable-fragments --merge-output-format mp4 https://www.youtube.com/watch?v=Jef3s6vFby4 --output ./downloaded_celebvhq/raw/Jef3s6vFby4.mp4 --external-downloader aria2c --external-downloader-args \"-x 16 -k 1M\"\n"
     ]
    },
    {
     "name": "stderr",
     "output_type": "stream",
     "text": [
      "WARNING: External Downloader arguments given without specifying name. The arguments will be given to aria2c\n"
     ]
    },
    {
     "name": "stdout",
     "output_type": "stream",
     "text": [
      "[youtube] Extracting URL: https://www.youtube.com/watch?v=Jef3s6vFby4\n",
      "[youtube] Jef3s6vFby4: Downloading webpage\n",
      "[youtube] Jef3s6vFby4: Downloading ios player API JSON\n",
      "[youtube] Jef3s6vFby4: Downloading mweb player API JSON\n",
      "[youtube] Jef3s6vFby4: Downloading m3u8 information\n",
      "[info] Jef3s6vFby4: Downloading 1 format(s): 137+140\n",
      "[download] Destination: ./downloaded_celebvhq/raw/Jef3s6vFby4.f137.mp4\n",
      "[download] 100% of  116.30MiB in 00:00:10 at 11.00MiB/s    \n",
      "[download] Destination: ./downloaded_celebvhq/raw/Jef3s6vFby4.f140.m4a\n",
      "[download] 100% of    9.87MiB in 00:00:01 at 6.25MiB/s     \n",
      "[Merger] Merging formats into \"./downloaded_celebvhq/raw/Jef3s6vFby4.mp4\"\n",
      "Deleting original file ./downloaded_celebvhq/raw/Jef3s6vFby4.f137.mp4 (pass -k to keep)\n",
      "Deleting original file ./downloaded_celebvhq/raw/Jef3s6vFby4.f140.m4a (pass -k to keep)\n",
      "yt-dlp  -f 'bestvideo[ext=mp4]+bestaudio[ext=m4a]/bestvideo+bestaudio' --skip-unavailable-fragments --merge-output-format mp4 https://www.youtube.com/watch?v=_613foTYfrQ --output ./downloaded_celebvhq/raw/_613foTYfrQ.mp4 --external-downloader aria2c --external-downloader-args \"-x 16 -k 1M\"\n"
     ]
    },
    {
     "name": "stderr",
     "output_type": "stream",
     "text": [
      "WARNING: External Downloader arguments given without specifying name. The arguments will be given to aria2c\n"
     ]
    },
    {
     "name": "stdout",
     "output_type": "stream",
     "text": [
      "[youtube] Extracting URL: https://www.youtube.com/watch?v=_613foTYfrQ\n",
      "[youtube] _613foTYfrQ: Downloading webpage\n",
      "[youtube] _613foTYfrQ: Downloading ios player API JSON\n",
      "[youtube] _613foTYfrQ: Downloading mweb player API JSON\n",
      "[youtube] _613foTYfrQ: Downloading m3u8 information\n",
      "[info] _613foTYfrQ: Downloading 1 format(s): 137+140\n",
      "[download] Destination: ./downloaded_celebvhq/raw/_613foTYfrQ.f137.mp4\n",
      "[download] 100% of   75.37MiB in 00:00:07 at 10.32MiB/s    \n",
      "[download] Destination: ./downloaded_celebvhq/raw/_613foTYfrQ.f140.m4a\n",
      "[download] 100% of    6.71MiB in 00:00:00 at 11.22MiB/s  \n",
      "[Merger] Merging formats into \"./downloaded_celebvhq/raw/_613foTYfrQ.mp4\"\n",
      "Deleting original file ./downloaded_celebvhq/raw/_613foTYfrQ.f137.mp4 (pass -k to keep)\n",
      "Deleting original file ./downloaded_celebvhq/raw/_613foTYfrQ.f140.m4a (pass -k to keep)\n",
      "yt-dlp  -f 'bestvideo[ext=mp4]+bestaudio[ext=m4a]/bestvideo+bestaudio' --skip-unavailable-fragments --merge-output-format mp4 https://www.youtube.com/watch?v=BC3ln4oOhkk --output ./downloaded_celebvhq/raw/BC3ln4oOhkk.mp4 --external-downloader aria2c --external-downloader-args \"-x 16 -k 1M\"\n"
     ]
    },
    {
     "name": "stderr",
     "output_type": "stream",
     "text": [
      "WARNING: External Downloader arguments given without specifying name. The arguments will be given to aria2c\n"
     ]
    },
    {
     "name": "stdout",
     "output_type": "stream",
     "text": [
      "[youtube] Extracting URL: https://www.youtube.com/watch?v=BC3ln4oOhkk\n",
      "[youtube] BC3ln4oOhkk: Downloading webpage\n",
      "[youtube] BC3ln4oOhkk: Downloading ios player API JSON\n",
      "[youtube] BC3ln4oOhkk: Downloading mweb player API JSON\n",
      "[youtube] BC3ln4oOhkk: Downloading m3u8 information\n",
      "[info] BC3ln4oOhkk: Downloading 1 format(s): 137+140\n",
      "[download] Destination: ./downloaded_celebvhq/raw/BC3ln4oOhkk.f137.mp4\n",
      "[download] 100% of  123.04MiB in 00:00:14 at 8.29MiB/s     \n",
      "[download] Destination: ./downloaded_celebvhq/raw/BC3ln4oOhkk.f140.m4a\n",
      "[download] 100% of    9.50MiB in 00:00:01 at 9.49MiB/s   \n",
      "[Merger] Merging formats into \"./downloaded_celebvhq/raw/BC3ln4oOhkk.mp4\"\n",
      "Deleting original file ./downloaded_celebvhq/raw/BC3ln4oOhkk.f137.mp4 (pass -k to keep)\n",
      "Deleting original file ./downloaded_celebvhq/raw/BC3ln4oOhkk.f140.m4a (pass -k to keep)\n",
      "yt-dlp  -f 'bestvideo[ext=mp4]+bestaudio[ext=m4a]/bestvideo+bestaudio' --skip-unavailable-fragments --merge-output-format mp4 https://www.youtube.com/watch?v=mCAHxQLjDBY --output ./downloaded_celebvhq/raw/mCAHxQLjDBY.mp4 --external-downloader aria2c --external-downloader-args \"-x 16 -k 1M\"\n"
     ]
    },
    {
     "name": "stderr",
     "output_type": "stream",
     "text": [
      "WARNING: External Downloader arguments given without specifying name. The arguments will be given to aria2c\n"
     ]
    },
    {
     "name": "stdout",
     "output_type": "stream",
     "text": [
      "[youtube] Extracting URL: https://www.youtube.com/watch?v=mCAHxQLjDBY\n",
      "[youtube] mCAHxQLjDBY: Downloading webpage\n",
      "[youtube] mCAHxQLjDBY: Downloading ios player API JSON\n",
      "[youtube] mCAHxQLjDBY: Downloading mweb player API JSON\n",
      "[youtube] mCAHxQLjDBY: Downloading m3u8 information\n",
      "[info] mCAHxQLjDBY: Downloading 1 format(s): 614+140\n",
      "[hlsnative] Downloading m3u8 manifest\n",
      "[hlsnative] Total fragments: 30\n",
      "[download] Destination: ./downloaded_celebvhq/raw/mCAHxQLjDBY.f614.mp4\n",
      "[download] 100% of   43.45MiB in 00:00:09 at 4.42MiB/s                  \n",
      "[download] Destination: ./downloaded_celebvhq/raw/mCAHxQLjDBY.f140.m4a\n",
      "[download] 100% of    2.38MiB in 00:00:00 at 4.90MiB/s   \n",
      "[Merger] Merging formats into \"./downloaded_celebvhq/raw/mCAHxQLjDBY.mp4\"\n",
      "Deleting original file ./downloaded_celebvhq/raw/mCAHxQLjDBY.f614.mp4 (pass -k to keep)\n",
      "Deleting original file ./downloaded_celebvhq/raw/mCAHxQLjDBY.f140.m4a (pass -k to keep)\n",
      "yt-dlp  -f 'bestvideo[ext=mp4]+bestaudio[ext=m4a]/bestvideo+bestaudio' --skip-unavailable-fragments --merge-output-format mp4 https://www.youtube.com/watch?v=FIP5U38WjDc --output ./downloaded_celebvhq/raw/FIP5U38WjDc.mp4 --external-downloader aria2c --external-downloader-args \"-x 16 -k 1M\"\n"
     ]
    },
    {
     "name": "stderr",
     "output_type": "stream",
     "text": [
      "WARNING: External Downloader arguments given without specifying name. The arguments will be given to aria2c\n"
     ]
    },
    {
     "name": "stdout",
     "output_type": "stream",
     "text": [
      "[youtube] Extracting URL: https://www.youtube.com/watch?v=FIP5U38WjDc\n",
      "[youtube] FIP5U38WjDc: Downloading webpage\n",
      "[youtube] FIP5U38WjDc: Downloading ios player API JSON\n",
      "[youtube] FIP5U38WjDc: Downloading mweb player API JSON\n",
      "[youtube] FIP5U38WjDc: Downloading m3u8 information\n",
      "[info] FIP5U38WjDc: Downloading 1 format(s): 137+140\n",
      "[download] Destination: ./downloaded_celebvhq/raw/FIP5U38WjDc.f137.mp4\n",
      "[download] 100% of  154.17MiB in 00:00:27 at 5.52MiB/s     \n",
      "[download] Destination: ./downloaded_celebvhq/raw/FIP5U38WjDc.f140.m4a\n",
      "[download] 100% of    8.29MiB in 00:00:00 at 12.73MiB/s  \n",
      "[Merger] Merging formats into \"./downloaded_celebvhq/raw/FIP5U38WjDc.mp4\"\n",
      "Deleting original file ./downloaded_celebvhq/raw/FIP5U38WjDc.f137.mp4 (pass -k to keep)\n",
      "Deleting original file ./downloaded_celebvhq/raw/FIP5U38WjDc.f140.m4a (pass -k to keep)\n",
      "yt-dlp  -f 'bestvideo[ext=mp4]+bestaudio[ext=m4a]/bestvideo+bestaudio' --skip-unavailable-fragments --merge-output-format mp4 https://www.youtube.com/watch?v=oguh6oCm9uE --output ./downloaded_celebvhq/raw/oguh6oCm9uE.mp4 --external-downloader aria2c --external-downloader-args \"-x 16 -k 1M\"\n"
     ]
    },
    {
     "name": "stderr",
     "output_type": "stream",
     "text": [
      "WARNING: External Downloader arguments given without specifying name. The arguments will be given to aria2c\n"
     ]
    },
    {
     "name": "stdout",
     "output_type": "stream",
     "text": [
      "[youtube] Extracting URL: https://www.youtube.com/watch?v=oguh6oCm9uE\n",
      "[youtube] oguh6oCm9uE: Downloading webpage\n",
      "[youtube] oguh6oCm9uE: Downloading ios player API JSON\n",
      "[youtube] oguh6oCm9uE: Downloading mweb player API JSON\n",
      "[youtube] oguh6oCm9uE: Downloading m3u8 information\n",
      "[info] oguh6oCm9uE: Downloading 1 format(s): 614+140\n",
      "[hlsnative] Downloading m3u8 manifest\n",
      "[hlsnative] Total fragments: 39\n",
      "[download] Destination: ./downloaded_celebvhq/raw/oguh6oCm9uE.f614.mp4\n",
      "[download] 100% of   55.69MiB in 00:00:19 at 2.80MiB/s                  \n",
      "[download] Destination: ./downloaded_celebvhq/raw/oguh6oCm9uE.f140.m4a\n",
      "[download] 100% of    3.15MiB in 00:00:00 at 8.79MiB/s   \n",
      "[Merger] Merging formats into \"./downloaded_celebvhq/raw/oguh6oCm9uE.mp4\"\n",
      "Deleting original file ./downloaded_celebvhq/raw/oguh6oCm9uE.f140.m4a (pass -k to keep)\n",
      "Deleting original file ./downloaded_celebvhq/raw/oguh6oCm9uE.f614.mp4 (pass -k to keep)\n",
      "yt-dlp  -f 'bestvideo[ext=mp4]+bestaudio[ext=m4a]/bestvideo+bestaudio' --skip-unavailable-fragments --merge-output-format mp4 https://www.youtube.com/watch?v=OTL1qtHEoJc --output ./downloaded_celebvhq/raw/OTL1qtHEoJc.mp4 --external-downloader aria2c --external-downloader-args \"-x 16 -k 1M\"\n"
     ]
    },
    {
     "name": "stderr",
     "output_type": "stream",
     "text": [
      "WARNING: External Downloader arguments given without specifying name. The arguments will be given to aria2c\n"
     ]
    },
    {
     "name": "stdout",
     "output_type": "stream",
     "text": [
      "[youtube] Extracting URL: https://www.youtube.com/watch?v=OTL1qtHEoJc\n",
      "[youtube] OTL1qtHEoJc: Downloading webpage\n",
      "[youtube] OTL1qtHEoJc: Downloading ios player API JSON\n",
      "[youtube] OTL1qtHEoJc: Downloading mweb player API JSON\n",
      "[youtube] OTL1qtHEoJc: Downloading m3u8 information\n",
      "[info] OTL1qtHEoJc: Downloading 1 format(s): 137+140\n",
      "[download] Destination: ./downloaded_celebvhq/raw/OTL1qtHEoJc.f137.mp4\n",
      "[download] 100% of   44.55MiB in 00:00:06 at 7.06MiB/s     \n",
      "[download] Destination: ./downloaded_celebvhq/raw/OTL1qtHEoJc.f140.m4a\n",
      "[download] 100% of    3.58MiB in 00:00:00 at 5.54MiB/s   \n",
      "[Merger] Merging formats into \"./downloaded_celebvhq/raw/OTL1qtHEoJc.mp4\"\n",
      "Deleting original file ./downloaded_celebvhq/raw/OTL1qtHEoJc.f137.mp4 (pass -k to keep)\n",
      "Deleting original file ./downloaded_celebvhq/raw/OTL1qtHEoJc.f140.m4a (pass -k to keep)\n",
      "yt-dlp  -f 'bestvideo[ext=mp4]+bestaudio[ext=m4a]/bestvideo+bestaudio' --skip-unavailable-fragments --merge-output-format mp4 https://www.youtube.com/watch?v=0H5fm71cs4A --output ./downloaded_celebvhq/raw/0H5fm71cs4A.mp4 --external-downloader aria2c --external-downloader-args \"-x 16 -k 1M\"\n"
     ]
    },
    {
     "name": "stderr",
     "output_type": "stream",
     "text": [
      "WARNING: External Downloader arguments given without specifying name. The arguments will be given to aria2c\n"
     ]
    },
    {
     "name": "stdout",
     "output_type": "stream",
     "text": [
      "[youtube] Extracting URL: https://www.youtube.com/watch?v=0H5fm71cs4A\n",
      "[youtube] 0H5fm71cs4A: Downloading webpage\n",
      "[youtube] 0H5fm71cs4A: Downloading ios player API JSON\n",
      "[youtube] 0H5fm71cs4A: Downloading mweb player API JSON\n",
      "[youtube] 0H5fm71cs4A: Downloading m3u8 information\n",
      "[info] 0H5fm71cs4A: Downloading 1 format(s): 137+140\n",
      "[download] Destination: ./downloaded_celebvhq/raw/0H5fm71cs4A.f137.mp4\n",
      "[download] 100% of  297.14MiB in 00:00:35 at 8.45MiB/s     \n",
      "[download] Destination: ./downloaded_celebvhq/raw/0H5fm71cs4A.f140.m4a\n",
      "[download] 100% of   16.53MiB in 00:00:02 at 6.15MiB/s     \n",
      "[Merger] Merging formats into \"./downloaded_celebvhq/raw/0H5fm71cs4A.mp4\"\n",
      "Deleting original file ./downloaded_celebvhq/raw/0H5fm71cs4A.f137.mp4 (pass -k to keep)\n",
      "Deleting original file ./downloaded_celebvhq/raw/0H5fm71cs4A.f140.m4a (pass -k to keep)\n",
      "yt-dlp  -f 'bestvideo[ext=mp4]+bestaudio[ext=m4a]/bestvideo+bestaudio' --skip-unavailable-fragments --merge-output-format mp4 https://www.youtube.com/watch?v=uXp4e4DWq2c --output ./downloaded_celebvhq/raw/uXp4e4DWq2c.mp4 --external-downloader aria2c --external-downloader-args \"-x 16 -k 1M\"\n"
     ]
    },
    {
     "name": "stderr",
     "output_type": "stream",
     "text": [
      "WARNING: External Downloader arguments given without specifying name. The arguments will be given to aria2c\n"
     ]
    },
    {
     "name": "stdout",
     "output_type": "stream",
     "text": [
      "[youtube] Extracting URL: https://www.youtube.com/watch?v=uXp4e4DWq2c\n",
      "[youtube] uXp4e4DWq2c: Downloading webpage\n",
      "[youtube] uXp4e4DWq2c: Downloading ios player API JSON\n",
      "[youtube] uXp4e4DWq2c: Downloading mweb player API JSON\n",
      "[youtube] uXp4e4DWq2c: Downloading m3u8 information\n",
      "[info] uXp4e4DWq2c: Downloading 1 format(s): 137+140\n",
      "[download] Destination: ./downloaded_celebvhq/raw/uXp4e4DWq2c.f137.mp4\n",
      "[download] 100% of   58.40MiB in 00:00:13 at 4.36MiB/s     \n",
      "[download] Destination: ./downloaded_celebvhq/raw/uXp4e4DWq2c.f140.m4a\n",
      "[download] 100% of    5.04MiB in 00:00:00 at 5.70MiB/s   \n",
      "[Merger] Merging formats into \"./downloaded_celebvhq/raw/uXp4e4DWq2c.mp4\"\n",
      "Deleting original file ./downloaded_celebvhq/raw/uXp4e4DWq2c.f137.mp4 (pass -k to keep)\n",
      "Deleting original file ./downloaded_celebvhq/raw/uXp4e4DWq2c.f140.m4a (pass -k to keep)\n",
      "yt-dlp  -f 'bestvideo[ext=mp4]+bestaudio[ext=m4a]/bestvideo+bestaudio' --skip-unavailable-fragments --merge-output-format mp4 https://www.youtube.com/watch?v=PVEIr4MGaT8 --output ./downloaded_celebvhq/raw/PVEIr4MGaT8.mp4 --external-downloader aria2c --external-downloader-args \"-x 16 -k 1M\"\n"
     ]
    },
    {
     "name": "stderr",
     "output_type": "stream",
     "text": [
      "WARNING: External Downloader arguments given without specifying name. The arguments will be given to aria2c\n"
     ]
    },
    {
     "name": "stdout",
     "output_type": "stream",
     "text": [
      "[youtube] Extracting URL: https://www.youtube.com/watch?v=PVEIr4MGaT8\n",
      "[youtube] PVEIr4MGaT8: Downloading webpage\n",
      "[youtube] PVEIr4MGaT8: Downloading ios player API JSON\n",
      "[youtube] PVEIr4MGaT8: Downloading mweb player API JSON\n",
      "[youtube] PVEIr4MGaT8: Downloading m3u8 information\n",
      "[info] PVEIr4MGaT8: Downloading 1 format(s): 616+140\n",
      "[hlsnative] Downloading m3u8 manifest\n",
      "[hlsnative] Total fragments: 38\n",
      "[download] Destination: ./downloaded_celebvhq/raw/PVEIr4MGaT8.f616.mp4\n",
      "[download] 100% of   62.77MiB in 00:00:09 at 6.58MiB/s                  \n",
      "[download] Destination: ./downloaded_celebvhq/raw/PVEIr4MGaT8.f140.m4a\n",
      "[download] 100% of    3.28MiB in 00:00:01 at 2.59MiB/s   \n",
      "[Merger] Merging formats into \"./downloaded_celebvhq/raw/PVEIr4MGaT8.mp4\"\n",
      "Deleting original file ./downloaded_celebvhq/raw/PVEIr4MGaT8.f140.m4a (pass -k to keep)\n",
      "Deleting original file ./downloaded_celebvhq/raw/PVEIr4MGaT8.f616.mp4 (pass -k to keep)\n",
      "yt-dlp  -f 'bestvideo[ext=mp4]+bestaudio[ext=m4a]/bestvideo+bestaudio' --skip-unavailable-fragments --merge-output-format mp4 https://www.youtube.com/watch?v=xK-_tIjjIY4 --output ./downloaded_celebvhq/raw/xK-_tIjjIY4.mp4 --external-downloader aria2c --external-downloader-args \"-x 16 -k 1M\"\n"
     ]
    },
    {
     "name": "stderr",
     "output_type": "stream",
     "text": [
      "WARNING: External Downloader arguments given without specifying name. The arguments will be given to aria2c\n"
     ]
    },
    {
     "name": "stdout",
     "output_type": "stream",
     "text": [
      "[youtube] Extracting URL: https://www.youtube.com/watch?v=xK-_tIjjIY4\n",
      "[youtube] xK-_tIjjIY4: Downloading webpage\n",
      "[youtube] xK-_tIjjIY4: Downloading ios player API JSON\n",
      "[youtube] xK-_tIjjIY4: Downloading mweb player API JSON\n",
      "[youtube] xK-_tIjjIY4: Downloading m3u8 information\n",
      "[info] xK-_tIjjIY4: Downloading 1 format(s): 137+140\n",
      "[download] Destination: ./downloaded_celebvhq/raw/xK-_tIjjIY4.f137.mp4\n",
      "[download] 100% of  388.73MiB in 00:00:48 at 8.05MiB/s     \n",
      "[download] Destination: ./downloaded_celebvhq/raw/xK-_tIjjIY4.f140.m4a\n",
      "[download] 100% of   32.19MiB in 00:00:03 at 10.31MiB/s    \n",
      "[Merger] Merging formats into \"./downloaded_celebvhq/raw/xK-_tIjjIY4.mp4\"\n",
      "Deleting original file ./downloaded_celebvhq/raw/xK-_tIjjIY4.f140.m4a (pass -k to keep)\n",
      "Deleting original file ./downloaded_celebvhq/raw/xK-_tIjjIY4.f137.mp4 (pass -k to keep)\n",
      "yt-dlp  -f 'bestvideo[ext=mp4]+bestaudio[ext=m4a]/bestvideo+bestaudio' --skip-unavailable-fragments --merge-output-format mp4 https://www.youtube.com/watch?v=fiseGWVIDL4 --output ./downloaded_celebvhq/raw/fiseGWVIDL4.mp4 --external-downloader aria2c --external-downloader-args \"-x 16 -k 1M\"\n"
     ]
    },
    {
     "name": "stderr",
     "output_type": "stream",
     "text": [
      "WARNING: External Downloader arguments given without specifying name. The arguments will be given to aria2c\n"
     ]
    },
    {
     "name": "stdout",
     "output_type": "stream",
     "text": [
      "[youtube] Extracting URL: https://www.youtube.com/watch?v=fiseGWVIDL4\n",
      "[youtube] fiseGWVIDL4: Downloading webpage\n",
      "[youtube] fiseGWVIDL4: Downloading ios player API JSON\n",
      "[youtube] fiseGWVIDL4: Downloading mweb player API JSON\n",
      "[youtube] fiseGWVIDL4: Downloading m3u8 information\n",
      "[info] fiseGWVIDL4: Downloading 1 format(s): 137+140\n",
      "[download] Destination: ./downloaded_celebvhq/raw/fiseGWVIDL4.f137.mp4\n",
      "[download] 100% of   51.69MiB in 00:00:07 at 6.55MiB/s      \n",
      "[download] Destination: ./downloaded_celebvhq/raw/fiseGWVIDL4.f140.m4a\n",
      "[download] 100% of    2.89MiB in 00:00:00 at 7.70MiB/s   \n",
      "[Merger] Merging formats into \"./downloaded_celebvhq/raw/fiseGWVIDL4.mp4\"\n",
      "Deleting original file ./downloaded_celebvhq/raw/fiseGWVIDL4.f137.mp4 (pass -k to keep)\n",
      "Deleting original file ./downloaded_celebvhq/raw/fiseGWVIDL4.f140.m4a (pass -k to keep)\n",
      "yt-dlp  -f 'bestvideo[ext=mp4]+bestaudio[ext=m4a]/bestvideo+bestaudio' --skip-unavailable-fragments --merge-output-format mp4 https://www.youtube.com/watch?v=RrDdgbo_NaE --output ./downloaded_celebvhq/raw/RrDdgbo_NaE.mp4 --external-downloader aria2c --external-downloader-args \"-x 16 -k 1M\"\n"
     ]
    },
    {
     "name": "stderr",
     "output_type": "stream",
     "text": [
      "WARNING: External Downloader arguments given without specifying name. The arguments will be given to aria2c\n"
     ]
    },
    {
     "name": "stdout",
     "output_type": "stream",
     "text": [
      "[youtube] Extracting URL: https://www.youtube.com/watch?v=RrDdgbo_NaE\n",
      "[youtube] RrDdgbo_NaE: Downloading webpage\n",
      "[youtube] RrDdgbo_NaE: Downloading ios player API JSON\n",
      "[youtube] RrDdgbo_NaE: Downloading mweb player API JSON\n",
      "[youtube] RrDdgbo_NaE: Downloading m3u8 information\n",
      "[info] RrDdgbo_NaE: Downloading 1 format(s): 614+140\n",
      "[hlsnative] Downloading m3u8 manifest\n",
      "[hlsnative] Total fragments: 37\n",
      "[download] Destination: ./downloaded_celebvhq/raw/RrDdgbo_NaE.f614.mp4\n",
      "[download] 100% of   22.69MiB in 00:00:05 at 4.35MiB/s                   \n",
      "[download] Destination: ./downloaded_celebvhq/raw/RrDdgbo_NaE.f140.m4a\n",
      "[download] 100% of    2.81MiB in 00:00:00 at 5.99MiB/s   \n",
      "[Merger] Merging formats into \"./downloaded_celebvhq/raw/RrDdgbo_NaE.mp4\"\n",
      "Deleting original file ./downloaded_celebvhq/raw/RrDdgbo_NaE.f140.m4a (pass -k to keep)\n",
      "Deleting original file ./downloaded_celebvhq/raw/RrDdgbo_NaE.f614.mp4 (pass -k to keep)\n",
      "yt-dlp  -f 'bestvideo[ext=mp4]+bestaudio[ext=m4a]/bestvideo+bestaudio' --skip-unavailable-fragments --merge-output-format mp4 https://www.youtube.com/watch?v=W9Ixi2hP3Y4 --output ./downloaded_celebvhq/raw/W9Ixi2hP3Y4.mp4 --external-downloader aria2c --external-downloader-args \"-x 16 -k 1M\"\n"
     ]
    },
    {
     "name": "stderr",
     "output_type": "stream",
     "text": [
      "WARNING: External Downloader arguments given without specifying name. The arguments will be given to aria2c\n"
     ]
    },
    {
     "name": "stdout",
     "output_type": "stream",
     "text": [
      "[youtube] Extracting URL: https://www.youtube.com/watch?v=W9Ixi2hP3Y4\n",
      "[youtube] W9Ixi2hP3Y4: Downloading webpage\n",
      "[youtube] W9Ixi2hP3Y4: Downloading ios player API JSON\n",
      "[youtube] W9Ixi2hP3Y4: Downloading mweb player API JSON\n",
      "[youtube] W9Ixi2hP3Y4: Downloading m3u8 information\n",
      "[info] W9Ixi2hP3Y4: Downloading 1 format(s): 137+140\n",
      "[download] Destination: ./downloaded_celebvhq/raw/W9Ixi2hP3Y4.f137.mp4\n",
      "[download] 100% of  128.05MiB in 00:00:18 at 6.78MiB/s     \n",
      "[download] Destination: ./downloaded_celebvhq/raw/W9Ixi2hP3Y4.f140.m4a\n",
      "[download] 100% of    5.99MiB in 00:00:03 at 1.65MiB/s   \n",
      "[Merger] Merging formats into \"./downloaded_celebvhq/raw/W9Ixi2hP3Y4.mp4\"\n",
      "Deleting original file ./downloaded_celebvhq/raw/W9Ixi2hP3Y4.f137.mp4 (pass -k to keep)\n",
      "Deleting original file ./downloaded_celebvhq/raw/W9Ixi2hP3Y4.f140.m4a (pass -k to keep)\n",
      "yt-dlp  -f 'bestvideo[ext=mp4]+bestaudio[ext=m4a]/bestvideo+bestaudio' --skip-unavailable-fragments --merge-output-format mp4 https://www.youtube.com/watch?v=hJE5Xsnkgcc --output ./downloaded_celebvhq/raw/hJE5Xsnkgcc.mp4 --external-downloader aria2c --external-downloader-args \"-x 16 -k 1M\"\n"
     ]
    },
    {
     "name": "stderr",
     "output_type": "stream",
     "text": [
      "WARNING: External Downloader arguments given without specifying name. The arguments will be given to aria2c\n"
     ]
    },
    {
     "name": "stdout",
     "output_type": "stream",
     "text": [
      "[youtube] Extracting URL: https://www.youtube.com/watch?v=hJE5Xsnkgcc\n",
      "[youtube] hJE5Xsnkgcc: Downloading webpage\n",
      "[youtube] hJE5Xsnkgcc: Downloading ios player API JSON\n",
      "[youtube] hJE5Xsnkgcc: Downloading mweb player API JSON\n",
      "[youtube] hJE5Xsnkgcc: Downloading m3u8 information\n",
      "[info] hJE5Xsnkgcc: Downloading 1 format(s): 137+140\n",
      "[download] Destination: ./downloaded_celebvhq/raw/hJE5Xsnkgcc.f137.mp4\n",
      "[download] 100% of  166.79MiB in 00:00:20 at 8.13MiB/s     \n",
      "[download] Destination: ./downloaded_celebvhq/raw/hJE5Xsnkgcc.f140.m4a\n",
      "[download] 100% of   11.94MiB in 00:00:01 at 7.21MiB/s     \n",
      "[Merger] Merging formats into \"./downloaded_celebvhq/raw/hJE5Xsnkgcc.mp4\"\n",
      "Deleting original file ./downloaded_celebvhq/raw/hJE5Xsnkgcc.f137.mp4 (pass -k to keep)\n",
      "Deleting original file ./downloaded_celebvhq/raw/hJE5Xsnkgcc.f140.m4a (pass -k to keep)\n",
      "yt-dlp  -f 'bestvideo[ext=mp4]+bestaudio[ext=m4a]/bestvideo+bestaudio' --skip-unavailable-fragments --merge-output-format mp4 https://www.youtube.com/watch?v=biwaF_yRdHM --output ./downloaded_celebvhq/raw/biwaF_yRdHM.mp4 --external-downloader aria2c --external-downloader-args \"-x 16 -k 1M\"\n"
     ]
    },
    {
     "name": "stderr",
     "output_type": "stream",
     "text": [
      "WARNING: External Downloader arguments given without specifying name. The arguments will be given to aria2c\n"
     ]
    },
    {
     "name": "stdout",
     "output_type": "stream",
     "text": [
      "[youtube] Extracting URL: https://www.youtube.com/watch?v=biwaF_yRdHM\n",
      "[youtube] biwaF_yRdHM: Downloading webpage\n",
      "[youtube] biwaF_yRdHM: Downloading ios player API JSON\n",
      "[youtube] biwaF_yRdHM: Downloading mweb player API JSON\n",
      "[youtube] biwaF_yRdHM: Downloading m3u8 information\n",
      "[info] biwaF_yRdHM: Downloading 1 format(s): 137+140\n",
      "[download] Destination: ./downloaded_celebvhq/raw/biwaF_yRdHM.f137.mp4\n",
      "[download] 100% of   43.20MiB in 00:00:04 at 9.01MiB/s     \n",
      "[download] Destination: ./downloaded_celebvhq/raw/biwaF_yRdHM.f140.m4a\n",
      "[download] 100% of    2.24MiB in 00:00:00 at 8.77MiB/s   \n",
      "[Merger] Merging formats into \"./downloaded_celebvhq/raw/biwaF_yRdHM.mp4\"\n",
      "Deleting original file ./downloaded_celebvhq/raw/biwaF_yRdHM.f140.m4a (pass -k to keep)\n",
      "Deleting original file ./downloaded_celebvhq/raw/biwaF_yRdHM.f137.mp4 (pass -k to keep)\n",
      "yt-dlp  -f 'bestvideo[ext=mp4]+bestaudio[ext=m4a]/bestvideo+bestaudio' --skip-unavailable-fragments --merge-output-format mp4 https://www.youtube.com/watch?v=anqpWbtiyIM --output ./downloaded_celebvhq/raw/anqpWbtiyIM.mp4 --external-downloader aria2c --external-downloader-args \"-x 16 -k 1M\"\n"
     ]
    },
    {
     "name": "stderr",
     "output_type": "stream",
     "text": [
      "WARNING: External Downloader arguments given without specifying name. The arguments will be given to aria2c\n"
     ]
    },
    {
     "name": "stdout",
     "output_type": "stream",
     "text": [
      "[youtube] Extracting URL: https://www.youtube.com/watch?v=anqpWbtiyIM\n",
      "[youtube] anqpWbtiyIM: Downloading webpage\n",
      "[youtube] anqpWbtiyIM: Downloading ios player API JSON\n",
      "[youtube] anqpWbtiyIM: Downloading mweb player API JSON\n",
      "[youtube] anqpWbtiyIM: Downloading m3u8 information\n",
      "[info] anqpWbtiyIM: Downloading 1 format(s): 137+140\n",
      "[download] Destination: ./downloaded_celebvhq/raw/anqpWbtiyIM.f137.mp4\n",
      "[download] 100% of   69.50MiB in 00:00:08 at 8.29MiB/s     \n",
      "[download] Destination: ./downloaded_celebvhq/raw/anqpWbtiyIM.f140.m4a\n",
      "[download] 100% of    6.70MiB in 00:00:00 at 7.30MiB/s   \n",
      "[Merger] Merging formats into \"./downloaded_celebvhq/raw/anqpWbtiyIM.mp4\"\n",
      "Deleting original file ./downloaded_celebvhq/raw/anqpWbtiyIM.f140.m4a (pass -k to keep)\n",
      "Deleting original file ./downloaded_celebvhq/raw/anqpWbtiyIM.f137.mp4 (pass -k to keep)\n",
      "yt-dlp  -f 'bestvideo[ext=mp4]+bestaudio[ext=m4a]/bestvideo+bestaudio' --skip-unavailable-fragments --merge-output-format mp4 https://www.youtube.com/watch?v=juNQcMYkfBM --output ./downloaded_celebvhq/raw/juNQcMYkfBM.mp4 --external-downloader aria2c --external-downloader-args \"-x 16 -k 1M\"\n"
     ]
    },
    {
     "name": "stderr",
     "output_type": "stream",
     "text": [
      "WARNING: External Downloader arguments given without specifying name. The arguments will be given to aria2c\n"
     ]
    },
    {
     "name": "stdout",
     "output_type": "stream",
     "text": [
      "[youtube] Extracting URL: https://www.youtube.com/watch?v=juNQcMYkfBM\n",
      "[youtube] juNQcMYkfBM: Downloading webpage\n",
      "[youtube] juNQcMYkfBM: Downloading ios player API JSON\n",
      "[youtube] juNQcMYkfBM: Downloading mweb player API JSON\n",
      "[youtube] juNQcMYkfBM: Downloading m3u8 information\n",
      "[info] juNQcMYkfBM: Downloading 1 format(s): 137+140\n",
      "[download] Destination: ./downloaded_celebvhq/raw/juNQcMYkfBM.f137.mp4\n",
      "[download] 100% of   87.82MiB in 00:00:14 at 6.17MiB/s     \n",
      "[download] Destination: ./downloaded_celebvhq/raw/juNQcMYkfBM.f140.m4a\n",
      "[download] 100% of    3.96MiB in 00:00:01 at 3.42MiB/s   \n",
      "[Merger] Merging formats into \"./downloaded_celebvhq/raw/juNQcMYkfBM.mp4\"\n",
      "Deleting original file ./downloaded_celebvhq/raw/juNQcMYkfBM.f140.m4a (pass -k to keep)\n",
      "Deleting original file ./downloaded_celebvhq/raw/juNQcMYkfBM.f137.mp4 (pass -k to keep)\n",
      "yt-dlp  -f 'bestvideo[ext=mp4]+bestaudio[ext=m4a]/bestvideo+bestaudio' --skip-unavailable-fragments --merge-output-format mp4 https://www.youtube.com/watch?v=RZJL_x0j0Kc --output ./downloaded_celebvhq/raw/RZJL_x0j0Kc.mp4 --external-downloader aria2c --external-downloader-args \"-x 16 -k 1M\"\n"
     ]
    },
    {
     "name": "stderr",
     "output_type": "stream",
     "text": [
      "WARNING: External Downloader arguments given without specifying name. The arguments will be given to aria2c\n"
     ]
    },
    {
     "name": "stdout",
     "output_type": "stream",
     "text": [
      "[youtube] Extracting URL: https://www.youtube.com/watch?v=RZJL_x0j0Kc\n",
      "[youtube] RZJL_x0j0Kc: Downloading webpage\n",
      "[youtube] RZJL_x0j0Kc: Downloading ios player API JSON\n",
      "[youtube] RZJL_x0j0Kc: Downloading mweb player API JSON\n",
      "[youtube] RZJL_x0j0Kc: Downloading m3u8 information\n",
      "[info] RZJL_x0j0Kc: Downloading 1 format(s): 137+140\n",
      "[download] Destination: ./downloaded_celebvhq/raw/RZJL_x0j0Kc.f137.mp4\n",
      "[download] 100% of   31.60MiB in 00:00:03 at 9.12MiB/s     \n",
      "[download] Destination: ./downloaded_celebvhq/raw/RZJL_x0j0Kc.f140.m4a\n",
      "[download] 100% of    4.19MiB in 00:00:00 at 9.07MiB/s   \n",
      "[Merger] Merging formats into \"./downloaded_celebvhq/raw/RZJL_x0j0Kc.mp4\"\n",
      "Deleting original file ./downloaded_celebvhq/raw/RZJL_x0j0Kc.f140.m4a (pass -k to keep)\n",
      "Deleting original file ./downloaded_celebvhq/raw/RZJL_x0j0Kc.f137.mp4 (pass -k to keep)\n",
      "yt-dlp  -f 'bestvideo[ext=mp4]+bestaudio[ext=m4a]/bestvideo+bestaudio' --skip-unavailable-fragments --merge-output-format mp4 https://www.youtube.com/watch?v=S035inzk-uA --output ./downloaded_celebvhq/raw/S035inzk-uA.mp4 --external-downloader aria2c --external-downloader-args \"-x 16 -k 1M\"\n"
     ]
    },
    {
     "name": "stderr",
     "output_type": "stream",
     "text": [
      "WARNING: External Downloader arguments given without specifying name. The arguments will be given to aria2c\n"
     ]
    },
    {
     "name": "stdout",
     "output_type": "stream",
     "text": [
      "[youtube] Extracting URL: https://www.youtube.com/watch?v=S035inzk-uA\n",
      "[youtube] S035inzk-uA: Downloading webpage\n",
      "[youtube] S035inzk-uA: Downloading ios player API JSON\n",
      "[youtube] S035inzk-uA: Downloading mweb player API JSON\n",
      "[youtube] S035inzk-uA: Downloading m3u8 information\n",
      "[info] S035inzk-uA: Downloading 1 format(s): 137+140\n",
      "[download] Destination: ./downloaded_celebvhq/raw/S035inzk-uA.f137.mp4\n",
      "[download] 100% of  318.48MiB in 00:00:30 at 10.38MiB/s    \n",
      "[download] Destination: ./downloaded_celebvhq/raw/S035inzk-uA.f140.m4a\n",
      "[download] 100% of   16.54MiB in 00:00:04 at 4.09MiB/s     \n",
      "[Merger] Merging formats into \"./downloaded_celebvhq/raw/S035inzk-uA.mp4\"\n",
      "Deleting original file ./downloaded_celebvhq/raw/S035inzk-uA.f140.m4a (pass -k to keep)\n",
      "Deleting original file ./downloaded_celebvhq/raw/S035inzk-uA.f137.mp4 (pass -k to keep)\n",
      "yt-dlp  -f 'bestvideo[ext=mp4]+bestaudio[ext=m4a]/bestvideo+bestaudio' --skip-unavailable-fragments --merge-output-format mp4 https://www.youtube.com/watch?v=0JySMxojs7g --output ./downloaded_celebvhq/raw/0JySMxojs7g.mp4 --external-downloader aria2c --external-downloader-args \"-x 16 -k 1M\"\n"
     ]
    },
    {
     "name": "stderr",
     "output_type": "stream",
     "text": [
      "WARNING: External Downloader arguments given without specifying name. The arguments will be given to aria2c\n"
     ]
    },
    {
     "name": "stdout",
     "output_type": "stream",
     "text": [
      "[youtube] Extracting URL: https://www.youtube.com/watch?v=0JySMxojs7g\n",
      "[youtube] 0JySMxojs7g: Downloading webpage\n",
      "[youtube] 0JySMxojs7g: Downloading ios player API JSON\n",
      "[youtube] 0JySMxojs7g: Downloading mweb player API JSON\n",
      "[youtube] 0JySMxojs7g: Downloading m3u8 information\n",
      "[info] 0JySMxojs7g: Downloading 1 format(s): 137+140\n",
      "[download] Destination: ./downloaded_celebvhq/raw/0JySMxojs7g.f137.mp4\n",
      "[download] 100% of   44.69MiB in 00:00:05 at 8.16MiB/s     \n",
      "[download] Destination: ./downloaded_celebvhq/raw/0JySMxojs7g.f140.m4a\n",
      "[download] 100% of    5.49MiB in 00:00:00 at 10.89MiB/s  \n",
      "[Merger] Merging formats into \"./downloaded_celebvhq/raw/0JySMxojs7g.mp4\"\n",
      "Deleting original file ./downloaded_celebvhq/raw/0JySMxojs7g.f140.m4a (pass -k to keep)\n",
      "Deleting original file ./downloaded_celebvhq/raw/0JySMxojs7g.f137.mp4 (pass -k to keep)\n",
      "yt-dlp  -f 'bestvideo[ext=mp4]+bestaudio[ext=m4a]/bestvideo+bestaudio' --skip-unavailable-fragments --merge-output-format mp4 https://www.youtube.com/watch?v=CkZNIduzcVo --output ./downloaded_celebvhq/raw/CkZNIduzcVo.mp4 --external-downloader aria2c --external-downloader-args \"-x 16 -k 1M\"\n"
     ]
    },
    {
     "name": "stderr",
     "output_type": "stream",
     "text": [
      "WARNING: External Downloader arguments given without specifying name. The arguments will be given to aria2c\n"
     ]
    },
    {
     "name": "stdout",
     "output_type": "stream",
     "text": [
      "[youtube] Extracting URL: https://www.youtube.com/watch?v=CkZNIduzcVo\n",
      "[youtube] CkZNIduzcVo: Downloading webpage\n",
      "[youtube] CkZNIduzcVo: Downloading ios player API JSON\n",
      "[youtube] CkZNIduzcVo: Downloading mweb player API JSON\n",
      "[youtube] CkZNIduzcVo: Downloading m3u8 information\n",
      "[info] CkZNIduzcVo: Downloading 1 format(s): 137+140\n",
      "[download] Destination: ./downloaded_celebvhq/raw/CkZNIduzcVo.f137.mp4\n",
      "[download] 100% of   47.62MiB in 00:00:04 at 10.10MiB/s    \n",
      "[download] Destination: ./downloaded_celebvhq/raw/CkZNIduzcVo.f140.m4a\n",
      "[download] 100% of    3.41MiB in 00:00:00 at 9.54MiB/s   \n",
      "[Merger] Merging formats into \"./downloaded_celebvhq/raw/CkZNIduzcVo.mp4\"\n",
      "Deleting original file ./downloaded_celebvhq/raw/CkZNIduzcVo.f137.mp4 (pass -k to keep)\n",
      "Deleting original file ./downloaded_celebvhq/raw/CkZNIduzcVo.f140.m4a (pass -k to keep)\n",
      "yt-dlp  -f 'bestvideo[ext=mp4]+bestaudio[ext=m4a]/bestvideo+bestaudio' --skip-unavailable-fragments --merge-output-format mp4 https://www.youtube.com/watch?v=-M4uxt8uDI0 --output ./downloaded_celebvhq/raw/-M4uxt8uDI0.mp4 --external-downloader aria2c --external-downloader-args \"-x 16 -k 1M\"\n"
     ]
    },
    {
     "name": "stderr",
     "output_type": "stream",
     "text": [
      "WARNING: External Downloader arguments given without specifying name. The arguments will be given to aria2c\n"
     ]
    },
    {
     "name": "stdout",
     "output_type": "stream",
     "text": [
      "[youtube] Extracting URL: https://www.youtube.com/watch?v=-M4uxt8uDI0\n",
      "[youtube] -M4uxt8uDI0: Downloading webpage\n",
      "[youtube] -M4uxt8uDI0: Downloading ios player API JSON\n",
      "[youtube] -M4uxt8uDI0: Downloading mweb player API JSON\n",
      "[youtube] -M4uxt8uDI0: Downloading m3u8 information\n",
      "[info] -M4uxt8uDI0: Downloading 1 format(s): 137+140\n",
      "[download] Destination: ./downloaded_celebvhq/raw/-M4uxt8uDI0.f137.mp4\n",
      "[download] 100% of  239.41MiB in 00:00:33 at 7.10MiB/s      \n",
      "[download] Destination: ./downloaded_celebvhq/raw/-M4uxt8uDI0.f140.m4a\n",
      "[download] 100% of   14.98MiB in 00:00:01 at 10.13MiB/s    \n",
      "[Merger] Merging formats into \"./downloaded_celebvhq/raw/-M4uxt8uDI0.mp4\"\n",
      "Deleting original file ./downloaded_celebvhq/raw/-M4uxt8uDI0.f137.mp4 (pass -k to keep)\n",
      "Deleting original file ./downloaded_celebvhq/raw/-M4uxt8uDI0.f140.m4a (pass -k to keep)\n",
      "yt-dlp  -f 'bestvideo[ext=mp4]+bestaudio[ext=m4a]/bestvideo+bestaudio' --skip-unavailable-fragments --merge-output-format mp4 https://www.youtube.com/watch?v=jA-BCSOaa4Q --output ./downloaded_celebvhq/raw/jA-BCSOaa4Q.mp4 --external-downloader aria2c --external-downloader-args \"-x 16 -k 1M\"\n"
     ]
    },
    {
     "name": "stderr",
     "output_type": "stream",
     "text": [
      "WARNING: External Downloader arguments given without specifying name. The arguments will be given to aria2c\n"
     ]
    },
    {
     "name": "stdout",
     "output_type": "stream",
     "text": [
      "[youtube] Extracting URL: https://www.youtube.com/watch?v=jA-BCSOaa4Q\n",
      "[youtube] jA-BCSOaa4Q: Downloading webpage\n",
      "[youtube] jA-BCSOaa4Q: Downloading ios player API JSON\n",
      "[youtube] jA-BCSOaa4Q: Downloading mweb player API JSON\n",
      "[youtube] jA-BCSOaa4Q: Downloading m3u8 information\n",
      "[info] jA-BCSOaa4Q: Downloading 1 format(s): 609+140\n",
      "[hlsnative] Downloading m3u8 manifest\n",
      "[hlsnative] Total fragments: 32\n",
      "[download] Destination: ./downloaded_celebvhq/raw/jA-BCSOaa4Q.f609.mp4\n",
      "[download] 100% of   10.44MiB in 00:00:01 at 6.44MiB/s                   \n",
      "[download] Destination: ./downloaded_celebvhq/raw/jA-BCSOaa4Q.f140.m4a\n",
      "[download] 100% of    2.51MiB in 00:00:00 at 10.03MiB/s  \n",
      "[Merger] Merging formats into \"./downloaded_celebvhq/raw/jA-BCSOaa4Q.mp4\"\n",
      "Deleting original file ./downloaded_celebvhq/raw/jA-BCSOaa4Q.f609.mp4 (pass -k to keep)\n",
      "Deleting original file ./downloaded_celebvhq/raw/jA-BCSOaa4Q.f140.m4a (pass -k to keep)\n",
      "yt-dlp  -f 'bestvideo[ext=mp4]+bestaudio[ext=m4a]/bestvideo+bestaudio' --skip-unavailable-fragments --merge-output-format mp4 https://www.youtube.com/watch?v=AfFmhCfnqqE --output ./downloaded_celebvhq/raw/AfFmhCfnqqE.mp4 --external-downloader aria2c --external-downloader-args \"-x 16 -k 1M\"\n"
     ]
    },
    {
     "name": "stderr",
     "output_type": "stream",
     "text": [
      "WARNING: External Downloader arguments given without specifying name. The arguments will be given to aria2c\n"
     ]
    },
    {
     "name": "stdout",
     "output_type": "stream",
     "text": [
      "[youtube] Extracting URL: https://www.youtube.com/watch?v=AfFmhCfnqqE\n",
      "[youtube] AfFmhCfnqqE: Downloading webpage\n",
      "[youtube] AfFmhCfnqqE: Downloading ios player API JSON\n",
      "[youtube] AfFmhCfnqqE: Downloading mweb player API JSON\n",
      "[youtube] AfFmhCfnqqE: Downloading m3u8 information\n",
      "[info] AfFmhCfnqqE: Downloading 1 format(s): 137+140\n",
      "[download] Destination: ./downloaded_celebvhq/raw/AfFmhCfnqqE.f137.mp4\n",
      "[download] 100% of  136.14MiB in 00:00:19 at 7.09MiB/s     \n",
      "[download] Destination: ./downloaded_celebvhq/raw/AfFmhCfnqqE.f140.m4a\n",
      "[download] 100% of    6.90MiB in 00:00:02 at 2.41MiB/s   \n",
      "[Merger] Merging formats into \"./downloaded_celebvhq/raw/AfFmhCfnqqE.mp4\"\n",
      "Deleting original file ./downloaded_celebvhq/raw/AfFmhCfnqqE.f137.mp4 (pass -k to keep)\n",
      "Deleting original file ./downloaded_celebvhq/raw/AfFmhCfnqqE.f140.m4a (pass -k to keep)\n",
      "yt-dlp  -f 'bestvideo[ext=mp4]+bestaudio[ext=m4a]/bestvideo+bestaudio' --skip-unavailable-fragments --merge-output-format mp4 https://www.youtube.com/watch?v=xhDRJsa2LUk --output ./downloaded_celebvhq/raw/xhDRJsa2LUk.mp4 --external-downloader aria2c --external-downloader-args \"-x 16 -k 1M\"\n"
     ]
    },
    {
     "name": "stderr",
     "output_type": "stream",
     "text": [
      "WARNING: External Downloader arguments given without specifying name. The arguments will be given to aria2c\n"
     ]
    },
    {
     "name": "stdout",
     "output_type": "stream",
     "text": [
      "[youtube] Extracting URL: https://www.youtube.com/watch?v=xhDRJsa2LUk\n",
      "[youtube] xhDRJsa2LUk: Downloading webpage\n",
      "[youtube] xhDRJsa2LUk: Downloading ios player API JSON\n",
      "[youtube] xhDRJsa2LUk: Downloading mweb player API JSON\n",
      "[youtube] xhDRJsa2LUk: Downloading m3u8 information\n",
      "[info] xhDRJsa2LUk: Downloading 1 format(s): 137+140\n",
      "[download] Destination: ./downloaded_celebvhq/raw/xhDRJsa2LUk.f137.mp4\n",
      "[download] 100% of  133.00MiB in 00:00:14 at 9.37MiB/s     \n",
      "[download] Destination: ./downloaded_celebvhq/raw/xhDRJsa2LUk.f140.m4a\n",
      "[download] 100% of    5.18MiB in 00:00:00 at 11.07MiB/s  \n",
      "[Merger] Merging formats into \"./downloaded_celebvhq/raw/xhDRJsa2LUk.mp4\"\n",
      "Deleting original file ./downloaded_celebvhq/raw/xhDRJsa2LUk.f137.mp4 (pass -k to keep)\n",
      "Deleting original file ./downloaded_celebvhq/raw/xhDRJsa2LUk.f140.m4a (pass -k to keep)\n",
      "yt-dlp  -f 'bestvideo[ext=mp4]+bestaudio[ext=m4a]/bestvideo+bestaudio' --skip-unavailable-fragments --merge-output-format mp4 https://www.youtube.com/watch?v=s2eUj69OEqs --output ./downloaded_celebvhq/raw/s2eUj69OEqs.mp4 --external-downloader aria2c --external-downloader-args \"-x 16 -k 1M\"\n"
     ]
    },
    {
     "name": "stderr",
     "output_type": "stream",
     "text": [
      "WARNING: External Downloader arguments given without specifying name. The arguments will be given to aria2c\n"
     ]
    },
    {
     "name": "stdout",
     "output_type": "stream",
     "text": [
      "[youtube] Extracting URL: https://www.youtube.com/watch?v=s2eUj69OEqs\n",
      "[youtube] s2eUj69OEqs: Downloading webpage\n",
      "[youtube] s2eUj69OEqs: Downloading ios player API JSON\n",
      "[youtube] s2eUj69OEqs: Downloading mweb player API JSON\n",
      "[youtube] s2eUj69OEqs: Downloading m3u8 information\n",
      "[info] s2eUj69OEqs: Downloading 1 format(s): 137+140\n",
      "[download] Destination: ./downloaded_celebvhq/raw/s2eUj69OEqs.f137.mp4\n",
      "[download] 100% of   25.86MiB in 00:00:04 at 6.08MiB/s     \n",
      "[download] Destination: ./downloaded_celebvhq/raw/s2eUj69OEqs.f140.m4a\n",
      "[download] 100% of    3.64MiB in 00:00:00 at 9.55MiB/s   \n",
      "[Merger] Merging formats into \"./downloaded_celebvhq/raw/s2eUj69OEqs.mp4\"\n",
      "Deleting original file ./downloaded_celebvhq/raw/s2eUj69OEqs.f140.m4a (pass -k to keep)\n",
      "Deleting original file ./downloaded_celebvhq/raw/s2eUj69OEqs.f137.mp4 (pass -k to keep)\n",
      "yt-dlp  -f 'bestvideo[ext=mp4]+bestaudio[ext=m4a]/bestvideo+bestaudio' --skip-unavailable-fragments --merge-output-format mp4 https://www.youtube.com/watch?v=bp_PPhy2-Jc --output ./downloaded_celebvhq/raw/bp_PPhy2-Jc.mp4 --external-downloader aria2c --external-downloader-args \"-x 16 -k 1M\"\n"
     ]
    },
    {
     "name": "stderr",
     "output_type": "stream",
     "text": [
      "WARNING: External Downloader arguments given without specifying name. The arguments will be given to aria2c\n"
     ]
    },
    {
     "name": "stdout",
     "output_type": "stream",
     "text": [
      "[youtube] Extracting URL: https://www.youtube.com/watch?v=bp_PPhy2-Jc\n",
      "[youtube] bp_PPhy2-Jc: Downloading webpage\n",
      "[youtube] bp_PPhy2-Jc: Downloading ios player API JSON\n",
      "[youtube] bp_PPhy2-Jc: Downloading mweb player API JSON\n",
      "[youtube] bp_PPhy2-Jc: Downloading m3u8 information\n",
      "[info] bp_PPhy2-Jc: Downloading 1 format(s): 137+140\n",
      "[download] Destination: ./downloaded_celebvhq/raw/bp_PPhy2-Jc.f137.mp4\n",
      "[download] 100% of  101.85MiB in 00:00:13 at 7.61MiB/s     \n",
      "[download] Destination: ./downloaded_celebvhq/raw/bp_PPhy2-Jc.f140.m4a\n",
      "[download] 100% of   10.03MiB in 00:00:00 at 10.16MiB/s    \n",
      "[Merger] Merging formats into \"./downloaded_celebvhq/raw/bp_PPhy2-Jc.mp4\"\n",
      "Deleting original file ./downloaded_celebvhq/raw/bp_PPhy2-Jc.f137.mp4 (pass -k to keep)\n",
      "Deleting original file ./downloaded_celebvhq/raw/bp_PPhy2-Jc.f140.m4a (pass -k to keep)\n",
      "yt-dlp  -f 'bestvideo[ext=mp4]+bestaudio[ext=m4a]/bestvideo+bestaudio' --skip-unavailable-fragments --merge-output-format mp4 https://www.youtube.com/watch?v=-Qs3c_L4r9o --output ./downloaded_celebvhq/raw/-Qs3c_L4r9o.mp4 --external-downloader aria2c --external-downloader-args \"-x 16 -k 1M\"\n"
     ]
    },
    {
     "name": "stderr",
     "output_type": "stream",
     "text": [
      "WARNING: External Downloader arguments given without specifying name. The arguments will be given to aria2c\n"
     ]
    },
    {
     "name": "stdout",
     "output_type": "stream",
     "text": [
      "[youtube] Extracting URL: https://www.youtube.com/watch?v=-Qs3c_L4r9o\n",
      "[youtube] -Qs3c_L4r9o: Downloading webpage\n",
      "[youtube] -Qs3c_L4r9o: Downloading ios player API JSON\n",
      "[youtube] -Qs3c_L4r9o: Downloading mweb player API JSON\n",
      "[youtube] -Qs3c_L4r9o: Downloading m3u8 information\n",
      "[info] -Qs3c_L4r9o: Downloading 1 format(s): 137+140\n",
      "[download] Destination: ./downloaded_celebvhq/raw/-Qs3c_L4r9o.f137.mp4\n",
      "[download] 100% of  162.53MiB in 00:00:26 at 6.06MiB/s     \n",
      "[download] Destination: ./downloaded_celebvhq/raw/-Qs3c_L4r9o.f140.m4a\n",
      "[download] 100% of    9.34MiB in 00:00:01 at 5.21MiB/s   \n",
      "[Merger] Merging formats into \"./downloaded_celebvhq/raw/-Qs3c_L4r9o.mp4\"\n",
      "Deleting original file ./downloaded_celebvhq/raw/-Qs3c_L4r9o.f140.m4a (pass -k to keep)\n",
      "Deleting original file ./downloaded_celebvhq/raw/-Qs3c_L4r9o.f137.mp4 (pass -k to keep)\n",
      "yt-dlp  -f 'bestvideo[ext=mp4]+bestaudio[ext=m4a]/bestvideo+bestaudio' --skip-unavailable-fragments --merge-output-format mp4 https://www.youtube.com/watch?v=OaBb6-Bv0Tc --output ./downloaded_celebvhq/raw/OaBb6-Bv0Tc.mp4 --external-downloader aria2c --external-downloader-args \"-x 16 -k 1M\"\n"
     ]
    },
    {
     "name": "stderr",
     "output_type": "stream",
     "text": [
      "WARNING: External Downloader arguments given without specifying name. The arguments will be given to aria2c\n"
     ]
    },
    {
     "name": "stdout",
     "output_type": "stream",
     "text": [
      "[youtube] Extracting URL: https://www.youtube.com/watch?v=OaBb6-Bv0Tc\n",
      "[youtube] OaBb6-Bv0Tc: Downloading webpage\n",
      "[youtube] OaBb6-Bv0Tc: Downloading ios player API JSON\n",
      "[youtube] OaBb6-Bv0Tc: Downloading mweb player API JSON\n",
      "[youtube] OaBb6-Bv0Tc: Downloading m3u8 information\n",
      "[info] OaBb6-Bv0Tc: Downloading 1 format(s): 137+140\n",
      "[download] Destination: ./downloaded_celebvhq/raw/OaBb6-Bv0Tc.f137.mp4\n",
      "[download] 100% of   17.83MiB in 00:00:02 at 6.57MiB/s     \n",
      "[download] Destination: ./downloaded_celebvhq/raw/OaBb6-Bv0Tc.f140.m4a\n",
      "[download] 100% of    1.18MiB in 00:00:00 at 2.40MiB/s   \n",
      "[Merger] Merging formats into \"./downloaded_celebvhq/raw/OaBb6-Bv0Tc.mp4\"\n",
      "Deleting original file ./downloaded_celebvhq/raw/OaBb6-Bv0Tc.f137.mp4 (pass -k to keep)\n",
      "Deleting original file ./downloaded_celebvhq/raw/OaBb6-Bv0Tc.f140.m4a (pass -k to keep)\n",
      "yt-dlp  -f 'bestvideo[ext=mp4]+bestaudio[ext=m4a]/bestvideo+bestaudio' --skip-unavailable-fragments --merge-output-format mp4 https://www.youtube.com/watch?v=WiQ09XUO_NY --output ./downloaded_celebvhq/raw/WiQ09XUO_NY.mp4 --external-downloader aria2c --external-downloader-args \"-x 16 -k 1M\"\n"
     ]
    },
    {
     "name": "stderr",
     "output_type": "stream",
     "text": [
      "WARNING: External Downloader arguments given without specifying name. The arguments will be given to aria2c\n"
     ]
    },
    {
     "name": "stdout",
     "output_type": "stream",
     "text": [
      "[youtube] Extracting URL: https://www.youtube.com/watch?v=WiQ09XUO_NY\n",
      "[youtube] WiQ09XUO_NY: Downloading webpage\n",
      "[youtube] WiQ09XUO_NY: Downloading ios player API JSON\n",
      "[youtube] WiQ09XUO_NY: Downloading mweb player API JSON\n",
      "[youtube] WiQ09XUO_NY: Downloading m3u8 information\n",
      "[info] WiQ09XUO_NY: Downloading 1 format(s): 137+140\n",
      "[download] Destination: ./downloaded_celebvhq/raw/WiQ09XUO_NY.f137.mp4\n",
      "[download] 100% of   41.26MiB in 00:00:12 at 3.26MiB/s     \n",
      "[download] Destination: ./downloaded_celebvhq/raw/WiQ09XUO_NY.f140.m4a\n",
      "[download] 100% of    5.39MiB in 00:00:00 at 9.93MiB/s   \n",
      "[Merger] Merging formats into \"./downloaded_celebvhq/raw/WiQ09XUO_NY.mp4\"\n",
      "Deleting original file ./downloaded_celebvhq/raw/WiQ09XUO_NY.f137.mp4 (pass -k to keep)\n",
      "Deleting original file ./downloaded_celebvhq/raw/WiQ09XUO_NY.f140.m4a (pass -k to keep)\n",
      "yt-dlp  -f 'bestvideo[ext=mp4]+bestaudio[ext=m4a]/bestvideo+bestaudio' --skip-unavailable-fragments --merge-output-format mp4 https://www.youtube.com/watch?v=iJROOxmADv8 --output ./downloaded_celebvhq/raw/iJROOxmADv8.mp4 --external-downloader aria2c --external-downloader-args \"-x 16 -k 1M\"\n"
     ]
    },
    {
     "name": "stderr",
     "output_type": "stream",
     "text": [
      "WARNING: External Downloader arguments given without specifying name. The arguments will be given to aria2c\n"
     ]
    },
    {
     "name": "stdout",
     "output_type": "stream",
     "text": [
      "[youtube] Extracting URL: https://www.youtube.com/watch?v=iJROOxmADv8\n",
      "[youtube] iJROOxmADv8: Downloading webpage\n",
      "[youtube] iJROOxmADv8: Downloading ios player API JSON\n",
      "[youtube] iJROOxmADv8: Downloading mweb player API JSON\n",
      "[youtube] iJROOxmADv8: Downloading m3u8 information\n",
      "[info] iJROOxmADv8: Downloading 1 format(s): 137+140\n",
      "[download] Destination: ./downloaded_celebvhq/raw/iJROOxmADv8.f137.mp4\n",
      "[download] 100% of   44.67MiB in 00:00:04 at 9.49MiB/s     \n",
      "[download] Destination: ./downloaded_celebvhq/raw/iJROOxmADv8.f140.m4a\n",
      "[download] 100% of    3.61MiB in 00:00:00 at 11.44MiB/s  \n",
      "[Merger] Merging formats into \"./downloaded_celebvhq/raw/iJROOxmADv8.mp4\"\n",
      "Deleting original file ./downloaded_celebvhq/raw/iJROOxmADv8.f140.m4a (pass -k to keep)\n",
      "Deleting original file ./downloaded_celebvhq/raw/iJROOxmADv8.f137.mp4 (pass -k to keep)\n",
      "yt-dlp  -f 'bestvideo[ext=mp4]+bestaudio[ext=m4a]/bestvideo+bestaudio' --skip-unavailable-fragments --merge-output-format mp4 https://www.youtube.com/watch?v=ttNnaGxlBMo --output ./downloaded_celebvhq/raw/ttNnaGxlBMo.mp4 --external-downloader aria2c --external-downloader-args \"-x 16 -k 1M\"\n"
     ]
    },
    {
     "name": "stderr",
     "output_type": "stream",
     "text": [
      "WARNING: External Downloader arguments given without specifying name. The arguments will be given to aria2c\n"
     ]
    },
    {
     "name": "stdout",
     "output_type": "stream",
     "text": [
      "[youtube] Extracting URL: https://www.youtube.com/watch?v=ttNnaGxlBMo\n",
      "[youtube] ttNnaGxlBMo: Downloading webpage\n",
      "[youtube] ttNnaGxlBMo: Downloading ios player API JSON\n",
      "[youtube] ttNnaGxlBMo: Downloading mweb player API JSON\n",
      "[youtube] ttNnaGxlBMo: Downloading m3u8 information\n",
      "[info] ttNnaGxlBMo: Downloading 1 format(s): 137+140\n",
      "[download] Destination: ./downloaded_celebvhq/raw/ttNnaGxlBMo.f137.mp4\n",
      "[download] 100% of   40.60MiB in 00:00:04 at 8.50MiB/s     \n",
      "[download] Destination: ./downloaded_celebvhq/raw/ttNnaGxlBMo.f140.m4a\n",
      "[download] 100% of    3.19MiB in 00:00:00 at 9.69MiB/s   \n",
      "[Merger] Merging formats into \"./downloaded_celebvhq/raw/ttNnaGxlBMo.mp4\"\n",
      "Deleting original file ./downloaded_celebvhq/raw/ttNnaGxlBMo.f140.m4a (pass -k to keep)\n",
      "Deleting original file ./downloaded_celebvhq/raw/ttNnaGxlBMo.f137.mp4 (pass -k to keep)\n",
      "yt-dlp  -f 'bestvideo[ext=mp4]+bestaudio[ext=m4a]/bestvideo+bestaudio' --skip-unavailable-fragments --merge-output-format mp4 https://www.youtube.com/watch?v=rUfgJRFKX48 --output ./downloaded_celebvhq/raw/rUfgJRFKX48.mp4 --external-downloader aria2c --external-downloader-args \"-x 16 -k 1M\"\n"
     ]
    },
    {
     "name": "stderr",
     "output_type": "stream",
     "text": [
      "WARNING: External Downloader arguments given without specifying name. The arguments will be given to aria2c\n"
     ]
    },
    {
     "name": "stdout",
     "output_type": "stream",
     "text": [
      "[youtube] Extracting URL: https://www.youtube.com/watch?v=rUfgJRFKX48\n",
      "[youtube] rUfgJRFKX48: Downloading webpage\n",
      "[youtube] rUfgJRFKX48: Downloading ios player API JSON\n",
      "[youtube] rUfgJRFKX48: Downloading mweb player API JSON\n",
      "[youtube] rUfgJRFKX48: Downloading m3u8 information\n",
      "[info] rUfgJRFKX48: Downloading 1 format(s): 137+140\n",
      "[download] Destination: ./downloaded_celebvhq/raw/rUfgJRFKX48.f137.mp4\n",
      "[download] 100% of  175.31MiB in 00:00:20 at 8.52MiB/s     \n",
      "[download] Destination: ./downloaded_celebvhq/raw/rUfgJRFKX48.f140.m4a\n",
      "[download] 100% of    8.79MiB in 00:00:02 at 3.79MiB/s   \n",
      "[Merger] Merging formats into \"./downloaded_celebvhq/raw/rUfgJRFKX48.mp4\"\n",
      "Deleting original file ./downloaded_celebvhq/raw/rUfgJRFKX48.f140.m4a (pass -k to keep)\n",
      "Deleting original file ./downloaded_celebvhq/raw/rUfgJRFKX48.f137.mp4 (pass -k to keep)\n",
      "yt-dlp  -f 'bestvideo[ext=mp4]+bestaudio[ext=m4a]/bestvideo+bestaudio' --skip-unavailable-fragments --merge-output-format mp4 https://www.youtube.com/watch?v=19gJJ7_I8H0 --output ./downloaded_celebvhq/raw/19gJJ7_I8H0.mp4 --external-downloader aria2c --external-downloader-args \"-x 16 -k 1M\"\n"
     ]
    },
    {
     "name": "stderr",
     "output_type": "stream",
     "text": [
      "WARNING: External Downloader arguments given without specifying name. The arguments will be given to aria2c\n"
     ]
    },
    {
     "name": "stdout",
     "output_type": "stream",
     "text": [
      "[youtube] Extracting URL: https://www.youtube.com/watch?v=19gJJ7_I8H0\n",
      "[youtube] 19gJJ7_I8H0: Downloading webpage\n",
      "[youtube] 19gJJ7_I8H0: Downloading ios player API JSON\n",
      "[youtube] 19gJJ7_I8H0: Downloading mweb player API JSON\n",
      "[youtube] 19gJJ7_I8H0: Downloading m3u8 information\n",
      "[info] 19gJJ7_I8H0: Downloading 1 format(s): 137+140\n",
      "[download] Destination: ./downloaded_celebvhq/raw/19gJJ7_I8H0.f137.mp4\n",
      "[download] 100% of   58.72MiB in 00:00:08 at 6.91MiB/s     \n",
      "[download] Destination: ./downloaded_celebvhq/raw/19gJJ7_I8H0.f140.m4a\n",
      "[download] 100% of    4.23MiB in 00:00:00 at 12.41MiB/s  \n",
      "[Merger] Merging formats into \"./downloaded_celebvhq/raw/19gJJ7_I8H0.mp4\"\n",
      "Deleting original file ./downloaded_celebvhq/raw/19gJJ7_I8H0.f140.m4a (pass -k to keep)\n",
      "Deleting original file ./downloaded_celebvhq/raw/19gJJ7_I8H0.f137.mp4 (pass -k to keep)\n",
      "yt-dlp  -f 'bestvideo[ext=mp4]+bestaudio[ext=m4a]/bestvideo+bestaudio' --skip-unavailable-fragments --merge-output-format mp4 https://www.youtube.com/watch?v=jbATk5N5Ai8 --output ./downloaded_celebvhq/raw/jbATk5N5Ai8.mp4 --external-downloader aria2c --external-downloader-args \"-x 16 -k 1M\"\n"
     ]
    },
    {
     "name": "stderr",
     "output_type": "stream",
     "text": [
      "WARNING: External Downloader arguments given without specifying name. The arguments will be given to aria2c\n"
     ]
    },
    {
     "name": "stdout",
     "output_type": "stream",
     "text": [
      "[youtube] Extracting URL: https://www.youtube.com/watch?v=jbATk5N5Ai8\n",
      "[youtube] jbATk5N5Ai8: Downloading webpage\n",
      "[youtube] jbATk5N5Ai8: Downloading ios player API JSON\n",
      "[youtube] jbATk5N5Ai8: Downloading mweb player API JSON\n",
      "[youtube] jbATk5N5Ai8: Downloading m3u8 information\n",
      "[info] jbATk5N5Ai8: Downloading 1 format(s): 137+140\n",
      "[download] Destination: ./downloaded_celebvhq/raw/jbATk5N5Ai8.f137.mp4\n",
      "[download] 100% of  173.23MiB in 00:00:23 at 7.43MiB/s     \n",
      "[download] Destination: ./downloaded_celebvhq/raw/jbATk5N5Ai8.f140.m4a\n",
      "[download] 100% of   14.21MiB in 00:00:02 at 5.28MiB/s     \n",
      "[Merger] Merging formats into \"./downloaded_celebvhq/raw/jbATk5N5Ai8.mp4\"\n",
      "Deleting original file ./downloaded_celebvhq/raw/jbATk5N5Ai8.f140.m4a (pass -k to keep)\n",
      "Deleting original file ./downloaded_celebvhq/raw/jbATk5N5Ai8.f137.mp4 (pass -k to keep)\n",
      "yt-dlp  -f 'bestvideo[ext=mp4]+bestaudio[ext=m4a]/bestvideo+bestaudio' --skip-unavailable-fragments --merge-output-format mp4 https://www.youtube.com/watch?v=8aq0iSyFTrI --output ./downloaded_celebvhq/raw/8aq0iSyFTrI.mp4 --external-downloader aria2c --external-downloader-args \"-x 16 -k 1M\"\n"
     ]
    },
    {
     "name": "stderr",
     "output_type": "stream",
     "text": [
      "WARNING: External Downloader arguments given without specifying name. The arguments will be given to aria2c\n"
     ]
    },
    {
     "name": "stdout",
     "output_type": "stream",
     "text": [
      "[youtube] Extracting URL: https://www.youtube.com/watch?v=8aq0iSyFTrI\n",
      "[youtube] 8aq0iSyFTrI: Downloading webpage\n",
      "[youtube] 8aq0iSyFTrI: Downloading ios player API JSON\n",
      "[youtube] 8aq0iSyFTrI: Downloading mweb player API JSON\n",
      "[youtube] 8aq0iSyFTrI: Downloading m3u8 information\n",
      "[info] 8aq0iSyFTrI: Downloading 1 format(s): 137+140\n",
      "[download] Destination: ./downloaded_celebvhq/raw/8aq0iSyFTrI.f137.mp4\n",
      "[download] 100% of   88.77MiB in 00:00:11 at 7.65MiB/s     \n",
      "[download] Destination: ./downloaded_celebvhq/raw/8aq0iSyFTrI.f140.m4a\n",
      "[download] 100% of    4.72MiB in 00:00:00 at 5.01MiB/s   \n",
      "[Merger] Merging formats into \"./downloaded_celebvhq/raw/8aq0iSyFTrI.mp4\"\n",
      "Deleting original file ./downloaded_celebvhq/raw/8aq0iSyFTrI.f140.m4a (pass -k to keep)\n",
      "Deleting original file ./downloaded_celebvhq/raw/8aq0iSyFTrI.f137.mp4 (pass -k to keep)\n",
      "yt-dlp  -f 'bestvideo[ext=mp4]+bestaudio[ext=m4a]/bestvideo+bestaudio' --skip-unavailable-fragments --merge-output-format mp4 https://www.youtube.com/watch?v=qAjTLMMcIQ8 --output ./downloaded_celebvhq/raw/qAjTLMMcIQ8.mp4 --external-downloader aria2c --external-downloader-args \"-x 16 -k 1M\"\n"
     ]
    },
    {
     "name": "stderr",
     "output_type": "stream",
     "text": [
      "WARNING: External Downloader arguments given without specifying name. The arguments will be given to aria2c\n"
     ]
    },
    {
     "name": "stdout",
     "output_type": "stream",
     "text": [
      "[youtube] Extracting URL: https://www.youtube.com/watch?v=qAjTLMMcIQ8\n",
      "[youtube] qAjTLMMcIQ8: Downloading webpage\n",
      "[youtube] qAjTLMMcIQ8: Downloading ios player API JSON\n",
      "[youtube] qAjTLMMcIQ8: Downloading mweb player API JSON\n",
      "[youtube] qAjTLMMcIQ8: Downloading m3u8 information\n",
      "[youtube] qAjTLMMcIQ8: Downloading MPD manifest\n",
      "[info] qAjTLMMcIQ8: Downloading 1 format(s): 137+140\n",
      "[download] Destination: ./downloaded_celebvhq/raw/qAjTLMMcIQ8.f137.mp4\n",
      "[download] 100% of   28.30MiB in 00:00:04 at 6.37MiB/s     \n",
      "[download] Destination: ./downloaded_celebvhq/raw/qAjTLMMcIQ8.f140.m4a\n",
      "[download] 100% of    2.17MiB in 00:00:00 at 7.95MiB/s   \n",
      "[Merger] Merging formats into \"./downloaded_celebvhq/raw/qAjTLMMcIQ8.mp4\"\n",
      "Deleting original file ./downloaded_celebvhq/raw/qAjTLMMcIQ8.f140.m4a (pass -k to keep)\n",
      "Deleting original file ./downloaded_celebvhq/raw/qAjTLMMcIQ8.f137.mp4 (pass -k to keep)\n",
      "yt-dlp  -f 'bestvideo[ext=mp4]+bestaudio[ext=m4a]/bestvideo+bestaudio' --skip-unavailable-fragments --merge-output-format mp4 https://www.youtube.com/watch?v=aWsc5Zc9kyw --output ./downloaded_celebvhq/raw/aWsc5Zc9kyw.mp4 --external-downloader aria2c --external-downloader-args \"-x 16 -k 1M\"\n"
     ]
    },
    {
     "name": "stderr",
     "output_type": "stream",
     "text": [
      "WARNING: External Downloader arguments given without specifying name. The arguments will be given to aria2c\n"
     ]
    },
    {
     "name": "stdout",
     "output_type": "stream",
     "text": [
      "[youtube] Extracting URL: https://www.youtube.com/watch?v=aWsc5Zc9kyw\n",
      "[youtube] aWsc5Zc9kyw: Downloading webpage\n",
      "[youtube] aWsc5Zc9kyw: Downloading ios player API JSON\n",
      "[youtube] aWsc5Zc9kyw: Downloading mweb player API JSON\n",
      "[youtube] aWsc5Zc9kyw: Downloading m3u8 information\n",
      "[info] aWsc5Zc9kyw: Downloading 1 format(s): 137+140\n",
      "[download] Destination: ./downloaded_celebvhq/raw/aWsc5Zc9kyw.f137.mp4\n",
      "[download] 100% of  270.43MiB in 00:00:28 at 9.54MiB/s     \n",
      "[download] Destination: ./downloaded_celebvhq/raw/aWsc5Zc9kyw.f140.m4a\n",
      "[download] 100% of   13.98MiB in 00:00:02 at 5.39MiB/s   \n",
      "[Merger] Merging formats into \"./downloaded_celebvhq/raw/aWsc5Zc9kyw.mp4\"\n",
      "Deleting original file ./downloaded_celebvhq/raw/aWsc5Zc9kyw.f137.mp4 (pass -k to keep)\n",
      "Deleting original file ./downloaded_celebvhq/raw/aWsc5Zc9kyw.f140.m4a (pass -k to keep)\n",
      "yt-dlp  -f 'bestvideo[ext=mp4]+bestaudio[ext=m4a]/bestvideo+bestaudio' --skip-unavailable-fragments --merge-output-format mp4 https://www.youtube.com/watch?v=I44NZgYW6_4 --output ./downloaded_celebvhq/raw/I44NZgYW6_4.mp4 --external-downloader aria2c --external-downloader-args \"-x 16 -k 1M\"\n"
     ]
    },
    {
     "name": "stderr",
     "output_type": "stream",
     "text": [
      "WARNING: External Downloader arguments given without specifying name. The arguments will be given to aria2c\n"
     ]
    },
    {
     "name": "stdout",
     "output_type": "stream",
     "text": [
      "[youtube] Extracting URL: https://www.youtube.com/watch?v=I44NZgYW6_4\n",
      "[youtube] I44NZgYW6_4: Downloading webpage\n",
      "[youtube] I44NZgYW6_4: Downloading ios player API JSON\n",
      "[youtube] I44NZgYW6_4: Downloading mweb player API JSON\n",
      "[youtube] I44NZgYW6_4: Downloading m3u8 information\n",
      "[info] I44NZgYW6_4: Downloading 1 format(s): 614+140\n",
      "[hlsnative] Downloading m3u8 manifest\n",
      "[hlsnative] Total fragments: 37\n",
      "[download] Destination: ./downloaded_celebvhq/raw/I44NZgYW6_4.f614.mp4\n",
      "[download] 100% of    9.55MiB in 00:00:03 at 2.99MiB/s                   \n",
      "[download] Destination: ./downloaded_celebvhq/raw/I44NZgYW6_4.f140.m4a\n",
      "[download] 100% of    2.91MiB in 00:00:00 at 7.96MiB/s   \n",
      "[Merger] Merging formats into \"./downloaded_celebvhq/raw/I44NZgYW6_4.mp4\"\n",
      "Deleting original file ./downloaded_celebvhq/raw/I44NZgYW6_4.f614.mp4 (pass -k to keep)\n",
      "Deleting original file ./downloaded_celebvhq/raw/I44NZgYW6_4.f140.m4a (pass -k to keep)\n",
      "yt-dlp  -f 'bestvideo[ext=mp4]+bestaudio[ext=m4a]/bestvideo+bestaudio' --skip-unavailable-fragments --merge-output-format mp4 https://www.youtube.com/watch?v=rwXiWnAOeG8 --output ./downloaded_celebvhq/raw/rwXiWnAOeG8.mp4 --external-downloader aria2c --external-downloader-args \"-x 16 -k 1M\"\n"
     ]
    },
    {
     "name": "stderr",
     "output_type": "stream",
     "text": [
      "WARNING: External Downloader arguments given without specifying name. The arguments will be given to aria2c\n"
     ]
    },
    {
     "name": "stdout",
     "output_type": "stream",
     "text": [
      "[youtube] Extracting URL: https://www.youtube.com/watch?v=rwXiWnAOeG8\n",
      "[youtube] rwXiWnAOeG8: Downloading webpage\n",
      "[youtube] rwXiWnAOeG8: Downloading ios player API JSON\n",
      "[youtube] rwXiWnAOeG8: Downloading mweb player API JSON\n",
      "[youtube] rwXiWnAOeG8: Downloading m3u8 information\n",
      "[info] rwXiWnAOeG8: Downloading 1 format(s): 137+140\n",
      "[download] Destination: ./downloaded_celebvhq/raw/rwXiWnAOeG8.f137.mp4\n",
      "[download] 100% of   32.20MiB in 00:00:04 at 6.61MiB/s     \n",
      "[download] Destination: ./downloaded_celebvhq/raw/rwXiWnAOeG8.f140.m4a\n",
      "[download] 100% of    3.35MiB in 00:00:00 at 4.69MiB/s   \n",
      "[Merger] Merging formats into \"./downloaded_celebvhq/raw/rwXiWnAOeG8.mp4\"\n",
      "Deleting original file ./downloaded_celebvhq/raw/rwXiWnAOeG8.f137.mp4 (pass -k to keep)\n",
      "Deleting original file ./downloaded_celebvhq/raw/rwXiWnAOeG8.f140.m4a (pass -k to keep)\n",
      "yt-dlp  -f 'bestvideo[ext=mp4]+bestaudio[ext=m4a]/bestvideo+bestaudio' --skip-unavailable-fragments --merge-output-format mp4 https://www.youtube.com/watch?v=piUE0qHtA40 --output ./downloaded_celebvhq/raw/piUE0qHtA40.mp4 --external-downloader aria2c --external-downloader-args \"-x 16 -k 1M\"\n"
     ]
    },
    {
     "name": "stderr",
     "output_type": "stream",
     "text": [
      "WARNING: External Downloader arguments given without specifying name. The arguments will be given to aria2c\n"
     ]
    },
    {
     "name": "stdout",
     "output_type": "stream",
     "text": [
      "[youtube] Extracting URL: https://www.youtube.com/watch?v=piUE0qHtA40\n",
      "[youtube] piUE0qHtA40: Downloading webpage\n",
      "[youtube] piUE0qHtA40: Downloading ios player API JSON\n",
      "[youtube] piUE0qHtA40: Downloading mweb player API JSON\n",
      "[youtube] piUE0qHtA40: Downloading m3u8 information\n",
      "[info] piUE0qHtA40: Downloading 1 format(s): 137+140\n",
      "[download] Destination: ./downloaded_celebvhq/raw/piUE0qHtA40.f137.mp4\n",
      "[download] 100% of   45.52MiB in 00:00:04 at 9.43MiB/s     \n",
      "[download] Destination: ./downloaded_celebvhq/raw/piUE0qHtA40.f140.m4a\n",
      "[download] 100% of    2.11MiB in 00:00:00 at 7.49MiB/s   \n",
      "[Merger] Merging formats into \"./downloaded_celebvhq/raw/piUE0qHtA40.mp4\"\n",
      "Deleting original file ./downloaded_celebvhq/raw/piUE0qHtA40.f137.mp4 (pass -k to keep)\n",
      "Deleting original file ./downloaded_celebvhq/raw/piUE0qHtA40.f140.m4a (pass -k to keep)\n",
      "yt-dlp  -f 'bestvideo[ext=mp4]+bestaudio[ext=m4a]/bestvideo+bestaudio' --skip-unavailable-fragments --merge-output-format mp4 https://www.youtube.com/watch?v=Jkwajyl6cHA --output ./downloaded_celebvhq/raw/Jkwajyl6cHA.mp4 --external-downloader aria2c --external-downloader-args \"-x 16 -k 1M\"\n"
     ]
    },
    {
     "name": "stderr",
     "output_type": "stream",
     "text": [
      "WARNING: External Downloader arguments given without specifying name. The arguments will be given to aria2c\n"
     ]
    },
    {
     "name": "stdout",
     "output_type": "stream",
     "text": [
      "[youtube] Extracting URL: https://www.youtube.com/watch?v=Jkwajyl6cHA\n",
      "[youtube] Jkwajyl6cHA: Downloading webpage\n",
      "[youtube] Jkwajyl6cHA: Downloading ios player API JSON\n",
      "[youtube] Jkwajyl6cHA: Downloading mweb player API JSON\n",
      "[youtube] Jkwajyl6cHA: Downloading m3u8 information\n",
      "[info] Jkwajyl6cHA: Downloading 1 format(s): 137+140\n",
      "[download] Destination: ./downloaded_celebvhq/raw/Jkwajyl6cHA.f137.mp4\n",
      "[download] 100% of   12.68MiB in 00:00:01 at 6.46MiB/s     \n",
      "[download] Destination: ./downloaded_celebvhq/raw/Jkwajyl6cHA.f140.m4a\n",
      "[download] 100% of    2.36MiB in 00:00:00 at 5.56MiB/s   \n",
      "[Merger] Merging formats into \"./downloaded_celebvhq/raw/Jkwajyl6cHA.mp4\"\n",
      "Deleting original file ./downloaded_celebvhq/raw/Jkwajyl6cHA.f137.mp4 (pass -k to keep)\n",
      "Deleting original file ./downloaded_celebvhq/raw/Jkwajyl6cHA.f140.m4a (pass -k to keep)\n",
      "yt-dlp  -f 'bestvideo[ext=mp4]+bestaudio[ext=m4a]/bestvideo+bestaudio' --skip-unavailable-fragments --merge-output-format mp4 https://www.youtube.com/watch?v=6Bet906AgNE --output ./downloaded_celebvhq/raw/6Bet906AgNE.mp4 --external-downloader aria2c --external-downloader-args \"-x 16 -k 1M\"\n"
     ]
    },
    {
     "name": "stderr",
     "output_type": "stream",
     "text": [
      "WARNING: External Downloader arguments given without specifying name. The arguments will be given to aria2c\n"
     ]
    },
    {
     "name": "stdout",
     "output_type": "stream",
     "text": [
      "[youtube] Extracting URL: https://www.youtube.com/watch?v=6Bet906AgNE\n",
      "[youtube] 6Bet906AgNE: Downloading webpage\n",
      "[youtube] 6Bet906AgNE: Downloading ios player API JSON\n",
      "[youtube] 6Bet906AgNE: Downloading mweb player API JSON\n",
      "[youtube] 6Bet906AgNE: Downloading m3u8 information\n",
      "[info] 6Bet906AgNE: Downloading 1 format(s): 137+140\n",
      "[download] Destination: ./downloaded_celebvhq/raw/6Bet906AgNE.f137.mp4\n",
      "[download] 100% of   58.53MiB in 00:00:06 at 8.51MiB/s     \n",
      "[download] Destination: ./downloaded_celebvhq/raw/6Bet906AgNE.f140.m4a\n",
      "[download] 100% of    6.28MiB in 00:00:00 at 15.93MiB/s  \n",
      "[Merger] Merging formats into \"./downloaded_celebvhq/raw/6Bet906AgNE.mp4\"\n",
      "Deleting original file ./downloaded_celebvhq/raw/6Bet906AgNE.f137.mp4 (pass -k to keep)\n",
      "Deleting original file ./downloaded_celebvhq/raw/6Bet906AgNE.f140.m4a (pass -k to keep)\n",
      "yt-dlp  -f 'bestvideo[ext=mp4]+bestaudio[ext=m4a]/bestvideo+bestaudio' --skip-unavailable-fragments --merge-output-format mp4 https://www.youtube.com/watch?v=6nVboqirClU --output ./downloaded_celebvhq/raw/6nVboqirClU.mp4 --external-downloader aria2c --external-downloader-args \"-x 16 -k 1M\"\n"
     ]
    },
    {
     "name": "stderr",
     "output_type": "stream",
     "text": [
      "WARNING: External Downloader arguments given without specifying name. The arguments will be given to aria2c\n"
     ]
    },
    {
     "name": "stdout",
     "output_type": "stream",
     "text": [
      "[youtube] Extracting URL: https://www.youtube.com/watch?v=6nVboqirClU\n",
      "[youtube] 6nVboqirClU: Downloading webpage\n",
      "[youtube] 6nVboqirClU: Downloading ios player API JSON\n",
      "[youtube] 6nVboqirClU: Downloading mweb player API JSON\n",
      "[youtube] 6nVboqirClU: Downloading m3u8 information\n",
      "[info] 6nVboqirClU: Downloading 1 format(s): 137+140\n",
      "[download] Destination: ./downloaded_celebvhq/raw/6nVboqirClU.f137.mp4\n",
      "[download] 100% of  230.97MiB in 00:00:24 at 9.51MiB/s     \n",
      "[download] Destination: ./downloaded_celebvhq/raw/6nVboqirClU.f140.m4a\n",
      "[download] 100% of   13.57MiB in 00:00:01 at 12.16MiB/s    \n",
      "[Merger] Merging formats into \"./downloaded_celebvhq/raw/6nVboqirClU.mp4\"\n",
      "Deleting original file ./downloaded_celebvhq/raw/6nVboqirClU.f140.m4a (pass -k to keep)\n",
      "Deleting original file ./downloaded_celebvhq/raw/6nVboqirClU.f137.mp4 (pass -k to keep)\n",
      "yt-dlp  -f 'bestvideo[ext=mp4]+bestaudio[ext=m4a]/bestvideo+bestaudio' --skip-unavailable-fragments --merge-output-format mp4 https://www.youtube.com/watch?v=cZKYcRqPh-o --output ./downloaded_celebvhq/raw/cZKYcRqPh-o.mp4 --external-downloader aria2c --external-downloader-args \"-x 16 -k 1M\"\n"
     ]
    },
    {
     "name": "stderr",
     "output_type": "stream",
     "text": [
      "WARNING: External Downloader arguments given without specifying name. The arguments will be given to aria2c\n"
     ]
    },
    {
     "name": "stdout",
     "output_type": "stream",
     "text": [
      "[youtube] Extracting URL: https://www.youtube.com/watch?v=cZKYcRqPh-o\n",
      "[youtube] cZKYcRqPh-o: Downloading webpage\n",
      "[youtube] cZKYcRqPh-o: Downloading ios player API JSON\n",
      "[youtube] cZKYcRqPh-o: Downloading mweb player API JSON\n",
      "[youtube] cZKYcRqPh-o: Downloading m3u8 information\n",
      "[info] cZKYcRqPh-o: Downloading 1 format(s): 614+140\n",
      "[hlsnative] Downloading m3u8 manifest\n",
      "[hlsnative] Total fragments: 41\n",
      "[download] Destination: ./downloaded_celebvhq/raw/cZKYcRqPh-o.f614.mp4\n",
      "[download] 100% of   11.46MiB in 00:00:03 at 3.06MiB/s                   \n",
      "[download] Destination: ./downloaded_celebvhq/raw/cZKYcRqPh-o.f140.m4a\n",
      "[download] 100% of    3.18MiB in 00:00:01 at 2.11MiB/s     \n",
      "[Merger] Merging formats into \"./downloaded_celebvhq/raw/cZKYcRqPh-o.mp4\"\n",
      "Deleting original file ./downloaded_celebvhq/raw/cZKYcRqPh-o.f614.mp4 (pass -k to keep)\n",
      "Deleting original file ./downloaded_celebvhq/raw/cZKYcRqPh-o.f140.m4a (pass -k to keep)\n",
      "yt-dlp  -f 'bestvideo[ext=mp4]+bestaudio[ext=m4a]/bestvideo+bestaudio' --skip-unavailable-fragments --merge-output-format mp4 https://www.youtube.com/watch?v=N8pmtAfSroc --output ./downloaded_celebvhq/raw/N8pmtAfSroc.mp4 --external-downloader aria2c --external-downloader-args \"-x 16 -k 1M\"\n"
     ]
    },
    {
     "name": "stderr",
     "output_type": "stream",
     "text": [
      "WARNING: External Downloader arguments given without specifying name. The arguments will be given to aria2c\n"
     ]
    },
    {
     "name": "stdout",
     "output_type": "stream",
     "text": [
      "[youtube] Extracting URL: https://www.youtube.com/watch?v=N8pmtAfSroc\n",
      "[youtube] N8pmtAfSroc: Downloading webpage\n",
      "[youtube] N8pmtAfSroc: Downloading ios player API JSON\n",
      "[youtube] N8pmtAfSroc: Downloading mweb player API JSON\n",
      "[youtube] N8pmtAfSroc: Downloading m3u8 information\n",
      "[info] N8pmtAfSroc: Downloading 1 format(s): 137+140\n",
      "[download] Destination: ./downloaded_celebvhq/raw/N8pmtAfSroc.f137.mp4\n",
      "[download] 100% of  133.16MiB in 00:00:16 at 7.96MiB/s     \n",
      "[download] Destination: ./downloaded_celebvhq/raw/N8pmtAfSroc.f140.m4a\n",
      "[download] 100% of    9.96MiB in 00:00:00 at 11.96MiB/s    \n",
      "[Merger] Merging formats into \"./downloaded_celebvhq/raw/N8pmtAfSroc.mp4\"\n",
      "Deleting original file ./downloaded_celebvhq/raw/N8pmtAfSroc.f140.m4a (pass -k to keep)\n",
      "Deleting original file ./downloaded_celebvhq/raw/N8pmtAfSroc.f137.mp4 (pass -k to keep)\n",
      "yt-dlp  -f 'bestvideo[ext=mp4]+bestaudio[ext=m4a]/bestvideo+bestaudio' --skip-unavailable-fragments --merge-output-format mp4 https://www.youtube.com/watch?v=OjXAtcnyDLs --output ./downloaded_celebvhq/raw/OjXAtcnyDLs.mp4 --external-downloader aria2c --external-downloader-args \"-x 16 -k 1M\"\n"
     ]
    },
    {
     "name": "stderr",
     "output_type": "stream",
     "text": [
      "WARNING: External Downloader arguments given without specifying name. The arguments will be given to aria2c\n"
     ]
    },
    {
     "name": "stdout",
     "output_type": "stream",
     "text": [
      "[youtube] Extracting URL: https://www.youtube.com/watch?v=OjXAtcnyDLs\n",
      "[youtube] OjXAtcnyDLs: Downloading webpage\n",
      "[youtube] OjXAtcnyDLs: Downloading ios player API JSON\n",
      "[youtube] OjXAtcnyDLs: Downloading mweb player API JSON\n",
      "[youtube] OjXAtcnyDLs: Downloading m3u8 information\n",
      "[info] OjXAtcnyDLs: Downloading 1 format(s): 137+140\n",
      "[download] Destination: ./downloaded_celebvhq/raw/OjXAtcnyDLs.f137.mp4\n",
      "[download] 100% of   98.27MiB in 00:00:09 at 9.91MiB/s     \n",
      "[download] Destination: ./downloaded_celebvhq/raw/OjXAtcnyDLs.f140.m4a\n",
      "[download] 100% of    4.99MiB in 00:00:02 at 2.18MiB/s   \n",
      "[Merger] Merging formats into \"./downloaded_celebvhq/raw/OjXAtcnyDLs.mp4\"\n",
      "Deleting original file ./downloaded_celebvhq/raw/OjXAtcnyDLs.f137.mp4 (pass -k to keep)\n",
      "Deleting original file ./downloaded_celebvhq/raw/OjXAtcnyDLs.f140.m4a (pass -k to keep)\n",
      "yt-dlp  -f 'bestvideo[ext=mp4]+bestaudio[ext=m4a]/bestvideo+bestaudio' --skip-unavailable-fragments --merge-output-format mp4 https://www.youtube.com/watch?v=nv-JuAZPF3Y --output ./downloaded_celebvhq/raw/nv-JuAZPF3Y.mp4 --external-downloader aria2c --external-downloader-args \"-x 16 -k 1M\"\n"
     ]
    },
    {
     "name": "stderr",
     "output_type": "stream",
     "text": [
      "WARNING: External Downloader arguments given without specifying name. The arguments will be given to aria2c\n"
     ]
    },
    {
     "name": "stdout",
     "output_type": "stream",
     "text": [
      "[youtube] Extracting URL: https://www.youtube.com/watch?v=nv-JuAZPF3Y\n",
      "[youtube] nv-JuAZPF3Y: Downloading webpage\n",
      "[youtube] nv-JuAZPF3Y: Downloading ios player API JSON\n",
      "[youtube] nv-JuAZPF3Y: Downloading mweb player API JSON\n",
      "[youtube] nv-JuAZPF3Y: Downloading m3u8 information\n",
      "[info] nv-JuAZPF3Y: Downloading 1 format(s): 137+140\n",
      "[download] Destination: ./downloaded_celebvhq/raw/nv-JuAZPF3Y.f137.mp4\n",
      "[download] 100% of   98.93MiB in 00:00:11 at 8.66MiB/s     \n",
      "[download] Destination: ./downloaded_celebvhq/raw/nv-JuAZPF3Y.f140.m4a\n",
      "[download] 100% of    8.46MiB in 00:00:00 at 12.43MiB/s  \n",
      "[Merger] Merging formats into \"./downloaded_celebvhq/raw/nv-JuAZPF3Y.mp4\"\n",
      "Deleting original file ./downloaded_celebvhq/raw/nv-JuAZPF3Y.f137.mp4 (pass -k to keep)\n",
      "Deleting original file ./downloaded_celebvhq/raw/nv-JuAZPF3Y.f140.m4a (pass -k to keep)\n",
      "yt-dlp  -f 'bestvideo[ext=mp4]+bestaudio[ext=m4a]/bestvideo+bestaudio' --skip-unavailable-fragments --merge-output-format mp4 https://www.youtube.com/watch?v=Gp1PyNQNz5Q --output ./downloaded_celebvhq/raw/Gp1PyNQNz5Q.mp4 --external-downloader aria2c --external-downloader-args \"-x 16 -k 1M\"\n"
     ]
    },
    {
     "name": "stderr",
     "output_type": "stream",
     "text": [
      "WARNING: External Downloader arguments given without specifying name. The arguments will be given to aria2c\n"
     ]
    },
    {
     "name": "stdout",
     "output_type": "stream",
     "text": [
      "[youtube] Extracting URL: https://www.youtube.com/watch?v=Gp1PyNQNz5Q\n",
      "[youtube] Gp1PyNQNz5Q: Downloading webpage\n",
      "[youtube] Gp1PyNQNz5Q: Downloading ios player API JSON\n",
      "[youtube] Gp1PyNQNz5Q: Downloading mweb player API JSON\n",
      "[youtube] Gp1PyNQNz5Q: Downloading m3u8 information\n",
      "[info] Gp1PyNQNz5Q: Downloading 1 format(s): 137+140\n",
      "[download] Destination: ./downloaded_celebvhq/raw/Gp1PyNQNz5Q.f137.mp4\n",
      "[download] 100% of   30.60MiB in 00:00:04 at 7.11MiB/s     \n",
      "[download] Destination: ./downloaded_celebvhq/raw/Gp1PyNQNz5Q.f140.m4a\n",
      "[download] 100% of    2.22MiB in 00:00:00 at 4.18MiB/s   \n",
      "[Merger] Merging formats into \"./downloaded_celebvhq/raw/Gp1PyNQNz5Q.mp4\"\n",
      "Deleting original file ./downloaded_celebvhq/raw/Gp1PyNQNz5Q.f137.mp4 (pass -k to keep)\n",
      "Deleting original file ./downloaded_celebvhq/raw/Gp1PyNQNz5Q.f140.m4a (pass -k to keep)\n",
      "yt-dlp  -f 'bestvideo[ext=mp4]+bestaudio[ext=m4a]/bestvideo+bestaudio' --skip-unavailable-fragments --merge-output-format mp4 https://www.youtube.com/watch?v=EQ7jqNAPqPk --output ./downloaded_celebvhq/raw/EQ7jqNAPqPk.mp4 --external-downloader aria2c --external-downloader-args \"-x 16 -k 1M\"\n"
     ]
    },
    {
     "name": "stderr",
     "output_type": "stream",
     "text": [
      "WARNING: External Downloader arguments given without specifying name. The arguments will be given to aria2c\n"
     ]
    },
    {
     "name": "stdout",
     "output_type": "stream",
     "text": [
      "[youtube] Extracting URL: https://www.youtube.com/watch?v=EQ7jqNAPqPk\n",
      "[youtube] EQ7jqNAPqPk: Downloading webpage\n",
      "[youtube] EQ7jqNAPqPk: Downloading ios player API JSON\n",
      "[youtube] EQ7jqNAPqPk: Downloading mweb player API JSON\n",
      "[youtube] EQ7jqNAPqPk: Downloading m3u8 information\n",
      "[info] EQ7jqNAPqPk: Downloading 1 format(s): 137+140\n",
      "[download] Destination: ./downloaded_celebvhq/raw/EQ7jqNAPqPk.f137.mp4\n",
      "[download] 100% of   39.35MiB in 00:00:04 at 8.07MiB/s     \n",
      "[download] Destination: ./downloaded_celebvhq/raw/EQ7jqNAPqPk.f140.m4a\n",
      "[download] 100% of    1.80MiB in 00:00:00 at 3.28MiB/s   \n",
      "[Merger] Merging formats into \"./downloaded_celebvhq/raw/EQ7jqNAPqPk.mp4\"\n",
      "Deleting original file ./downloaded_celebvhq/raw/EQ7jqNAPqPk.f140.m4a (pass -k to keep)\n",
      "Deleting original file ./downloaded_celebvhq/raw/EQ7jqNAPqPk.f137.mp4 (pass -k to keep)\n",
      "yt-dlp  -f 'bestvideo[ext=mp4]+bestaudio[ext=m4a]/bestvideo+bestaudio' --skip-unavailable-fragments --merge-output-format mp4 https://www.youtube.com/watch?v=P8809XX1sv8 --output ./downloaded_celebvhq/raw/P8809XX1sv8.mp4 --external-downloader aria2c --external-downloader-args \"-x 16 -k 1M\"\n"
     ]
    },
    {
     "name": "stderr",
     "output_type": "stream",
     "text": [
      "WARNING: External Downloader arguments given without specifying name. The arguments will be given to aria2c\n"
     ]
    },
    {
     "name": "stdout",
     "output_type": "stream",
     "text": [
      "[youtube] Extracting URL: https://www.youtube.com/watch?v=P8809XX1sv8\n",
      "[youtube] P8809XX1sv8: Downloading webpage\n",
      "[youtube] P8809XX1sv8: Downloading ios player API JSON\n",
      "[youtube] P8809XX1sv8: Downloading mweb player API JSON\n",
      "[youtube] P8809XX1sv8: Downloading m3u8 information\n",
      "[info] P8809XX1sv8: Downloading 1 format(s): 137+140\n",
      "[download] Destination: ./downloaded_celebvhq/raw/P8809XX1sv8.f137.mp4\n",
      "[download] 100% of   54.24MiB in 00:00:05 at 9.13MiB/s     \n",
      "[download] Destination: ./downloaded_celebvhq/raw/P8809XX1sv8.f140.m4a\n",
      "[download] 100% of    2.70MiB in 00:00:00 at 4.49MiB/s   \n",
      "[Merger] Merging formats into \"./downloaded_celebvhq/raw/P8809XX1sv8.mp4\"\n",
      "Deleting original file ./downloaded_celebvhq/raw/P8809XX1sv8.f140.m4a (pass -k to keep)\n",
      "Deleting original file ./downloaded_celebvhq/raw/P8809XX1sv8.f137.mp4 (pass -k to keep)\n",
      "yt-dlp  -f 'bestvideo[ext=mp4]+bestaudio[ext=m4a]/bestvideo+bestaudio' --skip-unavailable-fragments --merge-output-format mp4 https://www.youtube.com/watch?v=uSLscJ2cY04 --output ./downloaded_celebvhq/raw/uSLscJ2cY04.mp4 --external-downloader aria2c --external-downloader-args \"-x 16 -k 1M\"\n"
     ]
    },
    {
     "name": "stderr",
     "output_type": "stream",
     "text": [
      "WARNING: External Downloader arguments given without specifying name. The arguments will be given to aria2c\n"
     ]
    },
    {
     "name": "stdout",
     "output_type": "stream",
     "text": [
      "[youtube] Extracting URL: https://www.youtube.com/watch?v=uSLscJ2cY04\n",
      "[youtube] uSLscJ2cY04: Downloading webpage\n",
      "[youtube] uSLscJ2cY04: Downloading ios player API JSON\n",
      "[youtube] uSLscJ2cY04: Downloading mweb player API JSON\n",
      "[youtube] uSLscJ2cY04: Downloading m3u8 information\n",
      "[info] uSLscJ2cY04: Downloading 1 format(s): 616+140\n",
      "[hlsnative] Downloading m3u8 manifest\n",
      "[hlsnative] Total fragments: 37\n",
      "[download] Destination: ./downloaded_celebvhq/raw/uSLscJ2cY04.f616.mp4\n",
      "[download] 100% of   45.01MiB in 00:00:06 at 6.75MiB/s                  \n",
      "[download] Destination: ./downloaded_celebvhq/raw/uSLscJ2cY04.f140.m4a\n",
      "[download] 100% of    2.99MiB in 00:00:00 at 7.35MiB/s   \n",
      "[Merger] Merging formats into \"./downloaded_celebvhq/raw/uSLscJ2cY04.mp4\"\n",
      "Deleting original file ./downloaded_celebvhq/raw/uSLscJ2cY04.f616.mp4 (pass -k to keep)\n",
      "Deleting original file ./downloaded_celebvhq/raw/uSLscJ2cY04.f140.m4a (pass -k to keep)\n",
      "yt-dlp  -f 'bestvideo[ext=mp4]+bestaudio[ext=m4a]/bestvideo+bestaudio' --skip-unavailable-fragments --merge-output-format mp4 https://www.youtube.com/watch?v=Wmo60ltq-TA --output ./downloaded_celebvhq/raw/Wmo60ltq-TA.mp4 --external-downloader aria2c --external-downloader-args \"-x 16 -k 1M\"\n"
     ]
    },
    {
     "name": "stderr",
     "output_type": "stream",
     "text": [
      "WARNING: External Downloader arguments given without specifying name. The arguments will be given to aria2c\n"
     ]
    },
    {
     "name": "stdout",
     "output_type": "stream",
     "text": [
      "[youtube] Extracting URL: https://www.youtube.com/watch?v=Wmo60ltq-TA\n",
      "[youtube] Wmo60ltq-TA: Downloading webpage\n",
      "[youtube] Wmo60ltq-TA: Downloading ios player API JSON\n",
      "[youtube] Wmo60ltq-TA: Downloading mweb player API JSON\n",
      "[youtube] Wmo60ltq-TA: Downloading m3u8 information\n",
      "[info] Wmo60ltq-TA: Downloading 1 format(s): 137+140\n",
      "[download] Destination: ./downloaded_celebvhq/raw/Wmo60ltq-TA.f137.mp4\n",
      "[download] 100% of   34.31MiB in 00:00:06 at 5.37MiB/s     \n",
      "[download] Destination: ./downloaded_celebvhq/raw/Wmo60ltq-TA.f140.m4a\n",
      "[download] 100% of    1.75MiB in 00:00:00 at 7.92MiB/s   \n",
      "[Merger] Merging formats into \"./downloaded_celebvhq/raw/Wmo60ltq-TA.mp4\"\n",
      "Deleting original file ./downloaded_celebvhq/raw/Wmo60ltq-TA.f137.mp4 (pass -k to keep)\n",
      "Deleting original file ./downloaded_celebvhq/raw/Wmo60ltq-TA.f140.m4a (pass -k to keep)\n",
      "yt-dlp  -f 'bestvideo[ext=mp4]+bestaudio[ext=m4a]/bestvideo+bestaudio' --skip-unavailable-fragments --merge-output-format mp4 https://www.youtube.com/watch?v=Wp1ByZOpJBg --output ./downloaded_celebvhq/raw/Wp1ByZOpJBg.mp4 --external-downloader aria2c --external-downloader-args \"-x 16 -k 1M\"\n"
     ]
    },
    {
     "name": "stderr",
     "output_type": "stream",
     "text": [
      "WARNING: External Downloader arguments given without specifying name. The arguments will be given to aria2c\n"
     ]
    },
    {
     "name": "stdout",
     "output_type": "stream",
     "text": [
      "[youtube] Extracting URL: https://www.youtube.com/watch?v=Wp1ByZOpJBg\n",
      "[youtube] Wp1ByZOpJBg: Downloading webpage\n",
      "[youtube] Wp1ByZOpJBg: Downloading ios player API JSON\n",
      "[youtube] Wp1ByZOpJBg: Downloading mweb player API JSON\n",
      "[youtube] Wp1ByZOpJBg: Downloading m3u8 information\n",
      "[info] Wp1ByZOpJBg: Downloading 1 format(s): 137+140\n",
      "[download] Destination: ./downloaded_celebvhq/raw/Wp1ByZOpJBg.f137.mp4\n",
      "[download] 100% of  116.98MiB in 00:00:10 at 10.99MiB/s    \n",
      "[download] Destination: ./downloaded_celebvhq/raw/Wp1ByZOpJBg.f140.m4a\n",
      "[download] 100% of    7.23MiB in 00:00:00 at 8.09MiB/s   \n",
      "[Merger] Merging formats into \"./downloaded_celebvhq/raw/Wp1ByZOpJBg.mp4\"\n",
      "Deleting original file ./downloaded_celebvhq/raw/Wp1ByZOpJBg.f137.mp4 (pass -k to keep)\n",
      "Deleting original file ./downloaded_celebvhq/raw/Wp1ByZOpJBg.f140.m4a (pass -k to keep)\n",
      "yt-dlp  -f 'bestvideo[ext=mp4]+bestaudio[ext=m4a]/bestvideo+bestaudio' --skip-unavailable-fragments --merge-output-format mp4 https://www.youtube.com/watch?v=YeqQ-Iae_VI --output ./downloaded_celebvhq/raw/YeqQ-Iae_VI.mp4 --external-downloader aria2c --external-downloader-args \"-x 16 -k 1M\"\n"
     ]
    },
    {
     "name": "stderr",
     "output_type": "stream",
     "text": [
      "WARNING: External Downloader arguments given without specifying name. The arguments will be given to aria2c\n"
     ]
    },
    {
     "name": "stdout",
     "output_type": "stream",
     "text": [
      "[youtube] Extracting URL: https://www.youtube.com/watch?v=YeqQ-Iae_VI\n",
      "[youtube] YeqQ-Iae_VI: Downloading webpage\n",
      "[youtube] YeqQ-Iae_VI: Downloading ios player API JSON\n",
      "[youtube] YeqQ-Iae_VI: Downloading mweb player API JSON\n",
      "[youtube] YeqQ-Iae_VI: Downloading m3u8 information\n",
      "[info] YeqQ-Iae_VI: Downloading 1 format(s): 137+140\n",
      "[download] Destination: ./downloaded_celebvhq/raw/YeqQ-Iae_VI.f137.mp4\n",
      "[download] 100% of   13.04MiB in 00:00:01 at 9.82MiB/s     \n",
      "[download] Destination: ./downloaded_celebvhq/raw/YeqQ-Iae_VI.f140.m4a\n",
      "[download] 100% of    2.10MiB in 00:00:00 at 9.30MiB/s   \n",
      "[Merger] Merging formats into \"./downloaded_celebvhq/raw/YeqQ-Iae_VI.mp4\"\n",
      "Deleting original file ./downloaded_celebvhq/raw/YeqQ-Iae_VI.f140.m4a (pass -k to keep)\n",
      "Deleting original file ./downloaded_celebvhq/raw/YeqQ-Iae_VI.f137.mp4 (pass -k to keep)\n",
      "yt-dlp  -f 'bestvideo[ext=mp4]+bestaudio[ext=m4a]/bestvideo+bestaudio' --skip-unavailable-fragments --merge-output-format mp4 https://www.youtube.com/watch?v=u6Id2mBsD7o --output ./downloaded_celebvhq/raw/u6Id2mBsD7o.mp4 --external-downloader aria2c --external-downloader-args \"-x 16 -k 1M\"\n"
     ]
    },
    {
     "name": "stderr",
     "output_type": "stream",
     "text": [
      "WARNING: External Downloader arguments given without specifying name. The arguments will be given to aria2c\n"
     ]
    },
    {
     "name": "stdout",
     "output_type": "stream",
     "text": [
      "[youtube] Extracting URL: https://www.youtube.com/watch?v=u6Id2mBsD7o\n",
      "[youtube] u6Id2mBsD7o: Downloading webpage\n",
      "[youtube] u6Id2mBsD7o: Downloading ios player API JSON\n",
      "[youtube] u6Id2mBsD7o: Downloading mweb player API JSON\n",
      "[youtube] u6Id2mBsD7o: Downloading m3u8 information\n",
      "[info] u6Id2mBsD7o: Downloading 1 format(s): 137+140\n",
      "[download] Destination: ./downloaded_celebvhq/raw/u6Id2mBsD7o.f137.mp4\n",
      "[download] 100% of   75.96MiB in 00:00:06 at 10.90MiB/s    \n",
      "[download] Destination: ./downloaded_celebvhq/raw/u6Id2mBsD7o.f140.m4a\n",
      "[download] 100% of    9.02MiB in 00:00:00 at 10.26MiB/s  \n",
      "[Merger] Merging formats into \"./downloaded_celebvhq/raw/u6Id2mBsD7o.mp4\"\n",
      "Deleting original file ./downloaded_celebvhq/raw/u6Id2mBsD7o.f137.mp4 (pass -k to keep)\n",
      "Deleting original file ./downloaded_celebvhq/raw/u6Id2mBsD7o.f140.m4a (pass -k to keep)\n",
      "yt-dlp  -f 'bestvideo[ext=mp4]+bestaudio[ext=m4a]/bestvideo+bestaudio' --skip-unavailable-fragments --merge-output-format mp4 https://www.youtube.com/watch?v=fnaNKO7lxiA --output ./downloaded_celebvhq/raw/fnaNKO7lxiA.mp4 --external-downloader aria2c --external-downloader-args \"-x 16 -k 1M\"\n"
     ]
    },
    {
     "name": "stderr",
     "output_type": "stream",
     "text": [
      "WARNING: External Downloader arguments given without specifying name. The arguments will be given to aria2c\n"
     ]
    },
    {
     "name": "stdout",
     "output_type": "stream",
     "text": [
      "[youtube] Extracting URL: https://www.youtube.com/watch?v=fnaNKO7lxiA\n",
      "[youtube] fnaNKO7lxiA: Downloading webpage\n",
      "[youtube] fnaNKO7lxiA: Downloading ios player API JSON\n",
      "[youtube] fnaNKO7lxiA: Downloading mweb player API JSON\n",
      "[youtube] fnaNKO7lxiA: Downloading m3u8 information\n",
      "[info] fnaNKO7lxiA: Downloading 1 format(s): 137+140\n",
      "[download] Destination: ./downloaded_celebvhq/raw/fnaNKO7lxiA.f137.mp4\n",
      "[download] 100% of   12.48MiB in 00:00:01 at 9.47MiB/s     \n",
      "[download] Destination: ./downloaded_celebvhq/raw/fnaNKO7lxiA.f140.m4a\n",
      "[download] 100% of    1.84MiB in 00:00:00 at 5.18MiB/s   \n",
      "[Merger] Merging formats into \"./downloaded_celebvhq/raw/fnaNKO7lxiA.mp4\"\n",
      "Deleting original file ./downloaded_celebvhq/raw/fnaNKO7lxiA.f140.m4a (pass -k to keep)\n",
      "Deleting original file ./downloaded_celebvhq/raw/fnaNKO7lxiA.f137.mp4 (pass -k to keep)\n",
      "yt-dlp  -f 'bestvideo[ext=mp4]+bestaudio[ext=m4a]/bestvideo+bestaudio' --skip-unavailable-fragments --merge-output-format mp4 https://www.youtube.com/watch?v=mt1R5svwMEc --output ./downloaded_celebvhq/raw/mt1R5svwMEc.mp4 --external-downloader aria2c --external-downloader-args \"-x 16 -k 1M\"\n"
     ]
    },
    {
     "name": "stderr",
     "output_type": "stream",
     "text": [
      "WARNING: External Downloader arguments given without specifying name. The arguments will be given to aria2c\n"
     ]
    },
    {
     "name": "stdout",
     "output_type": "stream",
     "text": [
      "[youtube] Extracting URL: https://www.youtube.com/watch?v=mt1R5svwMEc\n",
      "[youtube] mt1R5svwMEc: Downloading webpage\n",
      "[youtube] mt1R5svwMEc: Downloading ios player API JSON\n",
      "[youtube] mt1R5svwMEc: Downloading mweb player API JSON\n",
      "[youtube] mt1R5svwMEc: Downloading m3u8 information\n",
      "[info] mt1R5svwMEc: Downloading 1 format(s): 137+140\n",
      "[download] Destination: ./downloaded_celebvhq/raw/mt1R5svwMEc.f137.mp4\n",
      "[download] 100% of   49.99MiB in 00:00:06 at 8.14MiB/s     \n",
      "[download] Destination: ./downloaded_celebvhq/raw/mt1R5svwMEc.f140.m4a\n",
      "[download] 100% of    3.37MiB in 00:00:00 at 12.97MiB/s  \n",
      "[Merger] Merging formats into \"./downloaded_celebvhq/raw/mt1R5svwMEc.mp4\"\n",
      "Deleting original file ./downloaded_celebvhq/raw/mt1R5svwMEc.f137.mp4 (pass -k to keep)\n",
      "Deleting original file ./downloaded_celebvhq/raw/mt1R5svwMEc.f140.m4a (pass -k to keep)\n",
      "yt-dlp  -f 'bestvideo[ext=mp4]+bestaudio[ext=m4a]/bestvideo+bestaudio' --skip-unavailable-fragments --merge-output-format mp4 https://www.youtube.com/watch?v=pjwkwpT5jug --output ./downloaded_celebvhq/raw/pjwkwpT5jug.mp4 --external-downloader aria2c --external-downloader-args \"-x 16 -k 1M\"\n"
     ]
    },
    {
     "name": "stderr",
     "output_type": "stream",
     "text": [
      "WARNING: External Downloader arguments given without specifying name. The arguments will be given to aria2c\n"
     ]
    },
    {
     "name": "stdout",
     "output_type": "stream",
     "text": [
      "[youtube] Extracting URL: https://www.youtube.com/watch?v=pjwkwpT5jug\n",
      "[youtube] pjwkwpT5jug: Downloading webpage\n",
      "[youtube] pjwkwpT5jug: Downloading ios player API JSON\n",
      "[youtube] pjwkwpT5jug: Downloading mweb player API JSON\n",
      "[youtube] pjwkwpT5jug: Downloading m3u8 information\n",
      "[youtube] pjwkwpT5jug: Downloading MPD manifest\n",
      "[info] pjwkwpT5jug: Downloading 1 format(s): 137+140\n",
      "[download] Destination: ./downloaded_celebvhq/raw/pjwkwpT5jug.f137.mp4\n",
      "[download] 100% of   41.95MiB in 00:00:04 at 9.77MiB/s     \n",
      "[download] Destination: ./downloaded_celebvhq/raw/pjwkwpT5jug.f140.m4a\n",
      "[download] 100% of    3.41MiB in 00:00:00 at 12.51MiB/s  \n",
      "[Merger] Merging formats into \"./downloaded_celebvhq/raw/pjwkwpT5jug.mp4\"\n",
      "Deleting original file ./downloaded_celebvhq/raw/pjwkwpT5jug.f137.mp4 (pass -k to keep)\n",
      "Deleting original file ./downloaded_celebvhq/raw/pjwkwpT5jug.f140.m4a (pass -k to keep)\n",
      "yt-dlp  -f 'bestvideo[ext=mp4]+bestaudio[ext=m4a]/bestvideo+bestaudio' --skip-unavailable-fragments --merge-output-format mp4 https://www.youtube.com/watch?v=gz17zgwsvEU --output ./downloaded_celebvhq/raw/gz17zgwsvEU.mp4 --external-downloader aria2c --external-downloader-args \"-x 16 -k 1M\"\n"
     ]
    },
    {
     "name": "stderr",
     "output_type": "stream",
     "text": [
      "WARNING: External Downloader arguments given without specifying name. The arguments will be given to aria2c\n"
     ]
    },
    {
     "name": "stdout",
     "output_type": "stream",
     "text": [
      "[youtube] Extracting URL: https://www.youtube.com/watch?v=gz17zgwsvEU\n",
      "[youtube] gz17zgwsvEU: Downloading webpage\n",
      "[youtube] gz17zgwsvEU: Downloading ios player API JSON\n",
      "[youtube] gz17zgwsvEU: Downloading mweb player API JSON\n",
      "[youtube] gz17zgwsvEU: Downloading m3u8 information\n",
      "[info] gz17zgwsvEU: Downloading 1 format(s): 137+140\n",
      "[download] Destination: ./downloaded_celebvhq/raw/gz17zgwsvEU.f137.mp4\n",
      "[download] 100% of   52.19MiB in 00:00:08 at 6.23MiB/s     \n",
      "[download] Destination: ./downloaded_celebvhq/raw/gz17zgwsvEU.f140.m4a\n",
      "[download] 100% of    2.24MiB in 00:00:00 at 9.12MiB/s   \n",
      "[Merger] Merging formats into \"./downloaded_celebvhq/raw/gz17zgwsvEU.mp4\"\n",
      "Deleting original file ./downloaded_celebvhq/raw/gz17zgwsvEU.f137.mp4 (pass -k to keep)\n",
      "Deleting original file ./downloaded_celebvhq/raw/gz17zgwsvEU.f140.m4a (pass -k to keep)\n",
      "yt-dlp  -f 'bestvideo[ext=mp4]+bestaudio[ext=m4a]/bestvideo+bestaudio' --skip-unavailable-fragments --merge-output-format mp4 https://www.youtube.com/watch?v=Ao5gBuc_pz0 --output ./downloaded_celebvhq/raw/Ao5gBuc_pz0.mp4 --external-downloader aria2c --external-downloader-args \"-x 16 -k 1M\"\n"
     ]
    },
    {
     "name": "stderr",
     "output_type": "stream",
     "text": [
      "WARNING: External Downloader arguments given without specifying name. The arguments will be given to aria2c\n"
     ]
    },
    {
     "name": "stdout",
     "output_type": "stream",
     "text": [
      "[youtube] Extracting URL: https://www.youtube.com/watch?v=Ao5gBuc_pz0\n",
      "[youtube] Ao5gBuc_pz0: Downloading webpage\n",
      "[youtube] Ao5gBuc_pz0: Downloading ios player API JSON\n",
      "[youtube] Ao5gBuc_pz0: Downloading mweb player API JSON\n",
      "[youtube] Ao5gBuc_pz0: Downloading m3u8 information\n",
      "[info] Ao5gBuc_pz0: Downloading 1 format(s): 137+140\n",
      "[download] Destination: ./downloaded_celebvhq/raw/Ao5gBuc_pz0.f137.mp4\n",
      "[download] 100% of  122.28MiB in 00:00:16 at 7.22MiB/s     \n",
      "[download] Destination: ./downloaded_celebvhq/raw/Ao5gBuc_pz0.f140.m4a\n",
      "[download] 100% of    6.81MiB in 00:00:02 at 2.81MiB/s   \n",
      "[Merger] Merging formats into \"./downloaded_celebvhq/raw/Ao5gBuc_pz0.mp4\"\n",
      "Deleting original file ./downloaded_celebvhq/raw/Ao5gBuc_pz0.f140.m4a (pass -k to keep)\n",
      "Deleting original file ./downloaded_celebvhq/raw/Ao5gBuc_pz0.f137.mp4 (pass -k to keep)\n",
      "yt-dlp  -f 'bestvideo[ext=mp4]+bestaudio[ext=m4a]/bestvideo+bestaudio' --skip-unavailable-fragments --merge-output-format mp4 https://www.youtube.com/watch?v=dycRPcNrGYE --output ./downloaded_celebvhq/raw/dycRPcNrGYE.mp4 --external-downloader aria2c --external-downloader-args \"-x 16 -k 1M\"\n"
     ]
    },
    {
     "name": "stderr",
     "output_type": "stream",
     "text": [
      "WARNING: External Downloader arguments given without specifying name. The arguments will be given to aria2c\n"
     ]
    },
    {
     "name": "stdout",
     "output_type": "stream",
     "text": [
      "[youtube] Extracting URL: https://www.youtube.com/watch?v=dycRPcNrGYE\n",
      "[youtube] dycRPcNrGYE: Downloading webpage\n",
      "[youtube] dycRPcNrGYE: Downloading ios player API JSON\n",
      "[youtube] dycRPcNrGYE: Downloading mweb player API JSON\n",
      "[youtube] dycRPcNrGYE: Downloading m3u8 information\n",
      "[info] dycRPcNrGYE: Downloading 1 format(s): 137+140\n",
      "[download] Destination: ./downloaded_celebvhq/raw/dycRPcNrGYE.f137.mp4\n",
      "[download] 100% of   81.39MiB in 00:00:15 at 5.11MiB/s     \n",
      "[download] Destination: ./downloaded_celebvhq/raw/dycRPcNrGYE.f140.m4a\n",
      "[download] 100% of    9.95MiB in 00:00:01 at 5.38MiB/s   \n",
      "[Merger] Merging formats into \"./downloaded_celebvhq/raw/dycRPcNrGYE.mp4\"\n",
      "Deleting original file ./downloaded_celebvhq/raw/dycRPcNrGYE.f140.m4a (pass -k to keep)\n",
      "Deleting original file ./downloaded_celebvhq/raw/dycRPcNrGYE.f137.mp4 (pass -k to keep)\n",
      "yt-dlp  -f 'bestvideo[ext=mp4]+bestaudio[ext=m4a]/bestvideo+bestaudio' --skip-unavailable-fragments --merge-output-format mp4 https://www.youtube.com/watch?v=ozlqA7iy3Zo --output ./downloaded_celebvhq/raw/ozlqA7iy3Zo.mp4 --external-downloader aria2c --external-downloader-args \"-x 16 -k 1M\"\n"
     ]
    },
    {
     "name": "stderr",
     "output_type": "stream",
     "text": [
      "WARNING: External Downloader arguments given without specifying name. The arguments will be given to aria2c\n"
     ]
    },
    {
     "name": "stdout",
     "output_type": "stream",
     "text": [
      "[youtube] Extracting URL: https://www.youtube.com/watch?v=ozlqA7iy3Zo\n",
      "[youtube] ozlqA7iy3Zo: Downloading webpage\n",
      "[youtube] ozlqA7iy3Zo: Downloading ios player API JSON\n",
      "[youtube] ozlqA7iy3Zo: Downloading mweb player API JSON\n",
      "[youtube] ozlqA7iy3Zo: Downloading m3u8 information\n",
      "[info] ozlqA7iy3Zo: Downloading 1 format(s): 137+140\n",
      "[download] Destination: ./downloaded_celebvhq/raw/ozlqA7iy3Zo.f137.mp4\n",
      "[download] 100% of   33.73MiB in 00:00:03 at 10.09MiB/s    \n",
      "[download] Destination: ./downloaded_celebvhq/raw/ozlqA7iy3Zo.f140.m4a\n",
      "[download] 100% of    2.45MiB in 00:00:01 at 1.50MiB/s   \n",
      "[Merger] Merging formats into \"./downloaded_celebvhq/raw/ozlqA7iy3Zo.mp4\"\n",
      "Deleting original file ./downloaded_celebvhq/raw/ozlqA7iy3Zo.f140.m4a (pass -k to keep)\n",
      "Deleting original file ./downloaded_celebvhq/raw/ozlqA7iy3Zo.f137.mp4 (pass -k to keep)\n",
      "yt-dlp  -f 'bestvideo[ext=mp4]+bestaudio[ext=m4a]/bestvideo+bestaudio' --skip-unavailable-fragments --merge-output-format mp4 https://www.youtube.com/watch?v=yju9O-Vqnms --output ./downloaded_celebvhq/raw/yju9O-Vqnms.mp4 --external-downloader aria2c --external-downloader-args \"-x 16 -k 1M\"\n"
     ]
    },
    {
     "name": "stderr",
     "output_type": "stream",
     "text": [
      "WARNING: External Downloader arguments given without specifying name. The arguments will be given to aria2c\n"
     ]
    },
    {
     "name": "stdout",
     "output_type": "stream",
     "text": [
      "[youtube] Extracting URL: https://www.youtube.com/watch?v=yju9O-Vqnms\n",
      "[youtube] yju9O-Vqnms: Downloading webpage\n",
      "[youtube] yju9O-Vqnms: Downloading ios player API JSON\n",
      "[youtube] yju9O-Vqnms: Downloading mweb player API JSON\n",
      "[youtube] yju9O-Vqnms: Downloading m3u8 information\n",
      "[info] yju9O-Vqnms: Downloading 1 format(s): 137+140\n",
      "[download] Destination: ./downloaded_celebvhq/raw/yju9O-Vqnms.f137.mp4\n",
      "[download] 100% of   70.38MiB in 00:00:08 at 8.66MiB/s     \n",
      "[download] Destination: ./downloaded_celebvhq/raw/yju9O-Vqnms.f140.m4a\n",
      "[download] 100% of    7.17MiB in 00:00:00 at 11.74MiB/s  \n",
      "[Merger] Merging formats into \"./downloaded_celebvhq/raw/yju9O-Vqnms.mp4\"\n",
      "Deleting original file ./downloaded_celebvhq/raw/yju9O-Vqnms.f140.m4a (pass -k to keep)\n",
      "Deleting original file ./downloaded_celebvhq/raw/yju9O-Vqnms.f137.mp4 (pass -k to keep)\n",
      "yt-dlp  -f 'bestvideo[ext=mp4]+bestaudio[ext=m4a]/bestvideo+bestaudio' --skip-unavailable-fragments --merge-output-format mp4 https://www.youtube.com/watch?v=GNL_cEahvns --output ./downloaded_celebvhq/raw/GNL_cEahvns.mp4 --external-downloader aria2c --external-downloader-args \"-x 16 -k 1M\"\n"
     ]
    },
    {
     "name": "stderr",
     "output_type": "stream",
     "text": [
      "WARNING: External Downloader arguments given without specifying name. The arguments will be given to aria2c\n"
     ]
    },
    {
     "name": "stdout",
     "output_type": "stream",
     "text": [
      "[youtube] Extracting URL: https://www.youtube.com/watch?v=GNL_cEahvns\n",
      "[youtube] GNL_cEahvns: Downloading webpage\n",
      "[youtube] GNL_cEahvns: Downloading ios player API JSON\n",
      "[youtube] GNL_cEahvns: Downloading mweb player API JSON\n",
      "[youtube] GNL_cEahvns: Downloading m3u8 information\n",
      "[info] GNL_cEahvns: Downloading 1 format(s): 137+140\n",
      "[download] Destination: ./downloaded_celebvhq/raw/GNL_cEahvns.f137.mp4\n",
      "[download] 100% of   63.85MiB in 00:00:08 at 7.51MiB/s     \n",
      "[download] Destination: ./downloaded_celebvhq/raw/GNL_cEahvns.f140.m4a\n",
      "[download] 100% of    5.68MiB in 00:00:00 at 15.36MiB/s  \n",
      "[Merger] Merging formats into \"./downloaded_celebvhq/raw/GNL_cEahvns.mp4\"\n",
      "Deleting original file ./downloaded_celebvhq/raw/GNL_cEahvns.f140.m4a (pass -k to keep)\n",
      "Deleting original file ./downloaded_celebvhq/raw/GNL_cEahvns.f137.mp4 (pass -k to keep)\n",
      "yt-dlp  -f 'bestvideo[ext=mp4]+bestaudio[ext=m4a]/bestvideo+bestaudio' --skip-unavailable-fragments --merge-output-format mp4 https://www.youtube.com/watch?v=Pganh5DlygU --output ./downloaded_celebvhq/raw/Pganh5DlygU.mp4 --external-downloader aria2c --external-downloader-args \"-x 16 -k 1M\"\n"
     ]
    },
    {
     "name": "stderr",
     "output_type": "stream",
     "text": [
      "WARNING: External Downloader arguments given without specifying name. The arguments will be given to aria2c\n"
     ]
    },
    {
     "name": "stdout",
     "output_type": "stream",
     "text": [
      "[youtube] Extracting URL: https://www.youtube.com/watch?v=Pganh5DlygU\n",
      "[youtube] Pganh5DlygU: Downloading webpage\n",
      "[youtube] Pganh5DlygU: Downloading ios player API JSON\n",
      "[youtube] Pganh5DlygU: Downloading mweb player API JSON\n",
      "[youtube] Pganh5DlygU: Downloading m3u8 information\n",
      "[info] Pganh5DlygU: Downloading 1 format(s): 137+140\n",
      "[download] Destination: ./downloaded_celebvhq/raw/Pganh5DlygU.f137.mp4\n",
      "[download] 100% of  298.78MiB in 00:00:38 at 7.85MiB/s     \n",
      "[download] Destination: ./downloaded_celebvhq/raw/Pganh5DlygU.f140.m4a\n",
      "[download] 100% of   19.40MiB in 00:00:01 at 10.32MiB/s  \n",
      "[Merger] Merging formats into \"./downloaded_celebvhq/raw/Pganh5DlygU.mp4\"\n",
      "Deleting original file ./downloaded_celebvhq/raw/Pganh5DlygU.f137.mp4 (pass -k to keep)\n",
      "Deleting original file ./downloaded_celebvhq/raw/Pganh5DlygU.f140.m4a (pass -k to keep)\n",
      "yt-dlp  -f 'bestvideo[ext=mp4]+bestaudio[ext=m4a]/bestvideo+bestaudio' --skip-unavailable-fragments --merge-output-format mp4 https://www.youtube.com/watch?v=jdd1py-ilwc --output ./downloaded_celebvhq/raw/jdd1py-ilwc.mp4 --external-downloader aria2c --external-downloader-args \"-x 16 -k 1M\"\n"
     ]
    },
    {
     "name": "stderr",
     "output_type": "stream",
     "text": [
      "WARNING: External Downloader arguments given without specifying name. The arguments will be given to aria2c\n"
     ]
    },
    {
     "name": "stdout",
     "output_type": "stream",
     "text": [
      "[youtube] Extracting URL: https://www.youtube.com/watch?v=jdd1py-ilwc\n",
      "[youtube] jdd1py-ilwc: Downloading webpage\n",
      "[youtube] jdd1py-ilwc: Downloading ios player API JSON\n",
      "[youtube] jdd1py-ilwc: Downloading mweb player API JSON\n",
      "[youtube] jdd1py-ilwc: Downloading m3u8 information\n",
      "[info] jdd1py-ilwc: Downloading 1 format(s): 616+140\n",
      "[hlsnative] Downloading m3u8 manifest\n",
      "[hlsnative] Total fragments: 29\n",
      "[download] Destination: ./downloaded_celebvhq/raw/jdd1py-ilwc.f616.mp4\n",
      "[download] 100% of   33.25MiB in 00:00:07 at 4.23MiB/s                  \n",
      "[download] Destination: ./downloaded_celebvhq/raw/jdd1py-ilwc.f140.m4a\n",
      "[download] 100% of    2.48MiB in 00:00:00 at 3.40MiB/s   \n",
      "[Merger] Merging formats into \"./downloaded_celebvhq/raw/jdd1py-ilwc.mp4\"\n",
      "Deleting original file ./downloaded_celebvhq/raw/jdd1py-ilwc.f616.mp4 (pass -k to keep)\n",
      "Deleting original file ./downloaded_celebvhq/raw/jdd1py-ilwc.f140.m4a (pass -k to keep)\n",
      "yt-dlp  -f 'bestvideo[ext=mp4]+bestaudio[ext=m4a]/bestvideo+bestaudio' --skip-unavailable-fragments --merge-output-format mp4 https://www.youtube.com/watch?v=1_ZRxxUB5JU --output ./downloaded_celebvhq/raw/1_ZRxxUB5JU.mp4 --external-downloader aria2c --external-downloader-args \"-x 16 -k 1M\"\n"
     ]
    },
    {
     "name": "stderr",
     "output_type": "stream",
     "text": [
      "WARNING: External Downloader arguments given without specifying name. The arguments will be given to aria2c\n"
     ]
    },
    {
     "name": "stdout",
     "output_type": "stream",
     "text": [
      "[youtube] Extracting URL: https://www.youtube.com/watch?v=1_ZRxxUB5JU\n",
      "[youtube] 1_ZRxxUB5JU: Downloading webpage\n",
      "[youtube] 1_ZRxxUB5JU: Downloading ios player API JSON\n",
      "[youtube] 1_ZRxxUB5JU: Downloading mweb player API JSON\n",
      "[youtube] 1_ZRxxUB5JU: Downloading m3u8 information\n",
      "[info] 1_ZRxxUB5JU: Downloading 1 format(s): 137+140\n",
      "[download] Destination: ./downloaded_celebvhq/raw/1_ZRxxUB5JU.f137.mp4\n",
      "[download] 100% of   40.83MiB in 00:00:06 at 6.42MiB/s     \n",
      "[download] Destination: ./downloaded_celebvhq/raw/1_ZRxxUB5JU.f140.m4a\n",
      "[download] 100% of    4.86MiB in 00:00:00 at 12.34MiB/s  \n",
      "[Merger] Merging formats into \"./downloaded_celebvhq/raw/1_ZRxxUB5JU.mp4\"\n",
      "Deleting original file ./downloaded_celebvhq/raw/1_ZRxxUB5JU.f137.mp4 (pass -k to keep)\n",
      "Deleting original file ./downloaded_celebvhq/raw/1_ZRxxUB5JU.f140.m4a (pass -k to keep)\n",
      "yt-dlp  -f 'bestvideo[ext=mp4]+bestaudio[ext=m4a]/bestvideo+bestaudio' --skip-unavailable-fragments --merge-output-format mp4 https://www.youtube.com/watch?v=LOeF2d2SdXE --output ./downloaded_celebvhq/raw/LOeF2d2SdXE.mp4 --external-downloader aria2c --external-downloader-args \"-x 16 -k 1M\"\n"
     ]
    },
    {
     "name": "stderr",
     "output_type": "stream",
     "text": [
      "WARNING: External Downloader arguments given without specifying name. The arguments will be given to aria2c\n"
     ]
    },
    {
     "name": "stdout",
     "output_type": "stream",
     "text": [
      "[youtube] Extracting URL: https://www.youtube.com/watch?v=LOeF2d2SdXE\n",
      "[youtube] LOeF2d2SdXE: Downloading webpage\n",
      "[youtube] LOeF2d2SdXE: Downloading ios player API JSON\n",
      "[youtube] LOeF2d2SdXE: Downloading mweb player API JSON\n",
      "[youtube] LOeF2d2SdXE: Downloading m3u8 information\n",
      "[info] LOeF2d2SdXE: Downloading 1 format(s): 137+140\n",
      "[download] Destination: ./downloaded_celebvhq/raw/LOeF2d2SdXE.f137.mp4\n",
      "[download] 100% of   55.26MiB in 00:00:08 at 6.42MiB/s     \n",
      "[download] Destination: ./downloaded_celebvhq/raw/LOeF2d2SdXE.f140.m4a\n",
      "[download] 100% of    2.76MiB in 00:00:00 at 8.82MiB/s   \n",
      "[Merger] Merging formats into \"./downloaded_celebvhq/raw/LOeF2d2SdXE.mp4\"\n",
      "Deleting original file ./downloaded_celebvhq/raw/LOeF2d2SdXE.f137.mp4 (pass -k to keep)\n",
      "Deleting original file ./downloaded_celebvhq/raw/LOeF2d2SdXE.f140.m4a (pass -k to keep)\n",
      "yt-dlp  -f 'bestvideo[ext=mp4]+bestaudio[ext=m4a]/bestvideo+bestaudio' --skip-unavailable-fragments --merge-output-format mp4 https://www.youtube.com/watch?v=dwqYarA5raw --output ./downloaded_celebvhq/raw/dwqYarA5raw.mp4 --external-downloader aria2c --external-downloader-args \"-x 16 -k 1M\"\n"
     ]
    },
    {
     "name": "stderr",
     "output_type": "stream",
     "text": [
      "WARNING: External Downloader arguments given without specifying name. The arguments will be given to aria2c\n"
     ]
    },
    {
     "name": "stdout",
     "output_type": "stream",
     "text": [
      "[youtube] Extracting URL: https://www.youtube.com/watch?v=dwqYarA5raw\n",
      "[youtube] dwqYarA5raw: Downloading webpage\n",
      "[youtube] dwqYarA5raw: Downloading ios player API JSON\n",
      "[youtube] dwqYarA5raw: Downloading mweb player API JSON\n",
      "[youtube] dwqYarA5raw: Downloading m3u8 information\n",
      "[info] dwqYarA5raw: Downloading 1 format(s): 137+140\n",
      "[download] Destination: ./downloaded_celebvhq/raw/dwqYarA5raw.f137.mp4\n",
      "[download] 100% of   25.42MiB in 00:00:01 at 13.19MiB/s    \n",
      "[download] Destination: ./downloaded_celebvhq/raw/dwqYarA5raw.f140.m4a\n",
      "[download] 100% of    3.09MiB in 00:00:00 at 7.47MiB/s   \n",
      "[Merger] Merging formats into \"./downloaded_celebvhq/raw/dwqYarA5raw.mp4\"\n",
      "Deleting original file ./downloaded_celebvhq/raw/dwqYarA5raw.f137.mp4 (pass -k to keep)\n",
      "Deleting original file ./downloaded_celebvhq/raw/dwqYarA5raw.f140.m4a (pass -k to keep)\n",
      "yt-dlp  -f 'bestvideo[ext=mp4]+bestaudio[ext=m4a]/bestvideo+bestaudio' --skip-unavailable-fragments --merge-output-format mp4 https://www.youtube.com/watch?v=uuTeJ6tbyB4 --output ./downloaded_celebvhq/raw/uuTeJ6tbyB4.mp4 --external-downloader aria2c --external-downloader-args \"-x 16 -k 1M\"\n"
     ]
    },
    {
     "name": "stderr",
     "output_type": "stream",
     "text": [
      "WARNING: External Downloader arguments given without specifying name. The arguments will be given to aria2c\n"
     ]
    },
    {
     "name": "stdout",
     "output_type": "stream",
     "text": [
      "[youtube] Extracting URL: https://www.youtube.com/watch?v=uuTeJ6tbyB4\n",
      "[youtube] uuTeJ6tbyB4: Downloading webpage\n",
      "[youtube] uuTeJ6tbyB4: Downloading ios player API JSON\n",
      "[youtube] uuTeJ6tbyB4: Downloading mweb player API JSON\n",
      "[youtube] uuTeJ6tbyB4: Downloading m3u8 information\n",
      "[info] uuTeJ6tbyB4: Downloading 1 format(s): 614+140\n",
      "[hlsnative] Downloading m3u8 manifest\n",
      "[hlsnative] Total fragments: 42\n",
      "[download] Destination: ./downloaded_celebvhq/raw/uuTeJ6tbyB4.f614.mp4\n",
      "[download] 100% of   19.03MiB in 00:00:05 at 3.55MiB/s                  \n",
      "[download] Destination: ./downloaded_celebvhq/raw/uuTeJ6tbyB4.f140.m4a\n",
      "[download] 100% of    3.11MiB in 00:00:00 at 10.65MiB/s    \n",
      "[Merger] Merging formats into \"./downloaded_celebvhq/raw/uuTeJ6tbyB4.mp4\"\n",
      "Deleting original file ./downloaded_celebvhq/raw/uuTeJ6tbyB4.f614.mp4 (pass -k to keep)\n",
      "Deleting original file ./downloaded_celebvhq/raw/uuTeJ6tbyB4.f140.m4a (pass -k to keep)\n",
      "yt-dlp  -f 'bestvideo[ext=mp4]+bestaudio[ext=m4a]/bestvideo+bestaudio' --skip-unavailable-fragments --merge-output-format mp4 https://www.youtube.com/watch?v=uI8IKE4KNe4 --output ./downloaded_celebvhq/raw/uI8IKE4KNe4.mp4 --external-downloader aria2c --external-downloader-args \"-x 16 -k 1M\"\n"
     ]
    },
    {
     "name": "stderr",
     "output_type": "stream",
     "text": [
      "WARNING: External Downloader arguments given without specifying name. The arguments will be given to aria2c\n"
     ]
    },
    {
     "name": "stdout",
     "output_type": "stream",
     "text": [
      "[youtube] Extracting URL: https://www.youtube.com/watch?v=uI8IKE4KNe4\n",
      "[youtube] uI8IKE4KNe4: Downloading webpage\n",
      "[youtube] uI8IKE4KNe4: Downloading ios player API JSON\n",
      "[youtube] uI8IKE4KNe4: Downloading mweb player API JSON\n",
      "[youtube] uI8IKE4KNe4: Downloading m3u8 information\n",
      "[info] uI8IKE4KNe4: Downloading 1 format(s): 137+140\n",
      "[download] Destination: ./downloaded_celebvhq/raw/uI8IKE4KNe4.f137.mp4\n",
      "[download] 100% of   41.36MiB in 00:00:03 at 12.06MiB/s    \n",
      "[download] Destination: ./downloaded_celebvhq/raw/uI8IKE4KNe4.f140.m4a\n",
      "[download] 100% of    2.33MiB in 00:00:00 at 3.66MiB/s   \n",
      "[Merger] Merging formats into \"./downloaded_celebvhq/raw/uI8IKE4KNe4.mp4\"\n",
      "Deleting original file ./downloaded_celebvhq/raw/uI8IKE4KNe4.f140.m4a (pass -k to keep)\n",
      "Deleting original file ./downloaded_celebvhq/raw/uI8IKE4KNe4.f137.mp4 (pass -k to keep)\n",
      "yt-dlp  -f 'bestvideo[ext=mp4]+bestaudio[ext=m4a]/bestvideo+bestaudio' --skip-unavailable-fragments --merge-output-format mp4 https://www.youtube.com/watch?v=Urp9MjHLP0s --output ./downloaded_celebvhq/raw/Urp9MjHLP0s.mp4 --external-downloader aria2c --external-downloader-args \"-x 16 -k 1M\"\n"
     ]
    },
    {
     "name": "stderr",
     "output_type": "stream",
     "text": [
      "WARNING: External Downloader arguments given without specifying name. The arguments will be given to aria2c\n"
     ]
    },
    {
     "name": "stdout",
     "output_type": "stream",
     "text": [
      "[youtube] Extracting URL: https://www.youtube.com/watch?v=Urp9MjHLP0s\n",
      "[youtube] Urp9MjHLP0s: Downloading webpage\n",
      "[youtube] Urp9MjHLP0s: Downloading ios player API JSON\n",
      "[youtube] Urp9MjHLP0s: Downloading mweb player API JSON\n",
      "[youtube] Urp9MjHLP0s: Downloading m3u8 information\n",
      "[info] Urp9MjHLP0s: Downloading 1 format(s): 137+140\n",
      "[download] Destination: ./downloaded_celebvhq/raw/Urp9MjHLP0s.f137.mp4\n",
      "[download] 100% of  121.42MiB in 00:00:19 at 6.26MiB/s     \n",
      "[download] Destination: ./downloaded_celebvhq/raw/Urp9MjHLP0s.f140.m4a\n",
      "[download] 100% of   11.93MiB in 00:00:02 at 4.65MiB/s   \n",
      "[Merger] Merging formats into \"./downloaded_celebvhq/raw/Urp9MjHLP0s.mp4\"\n",
      "Deleting original file ./downloaded_celebvhq/raw/Urp9MjHLP0s.f140.m4a (pass -k to keep)\n",
      "Deleting original file ./downloaded_celebvhq/raw/Urp9MjHLP0s.f137.mp4 (pass -k to keep)\n",
      "yt-dlp  -f 'bestvideo[ext=mp4]+bestaudio[ext=m4a]/bestvideo+bestaudio' --skip-unavailable-fragments --merge-output-format mp4 https://www.youtube.com/watch?v=O56wZem2u3A --output ./downloaded_celebvhq/raw/O56wZem2u3A.mp4 --external-downloader aria2c --external-downloader-args \"-x 16 -k 1M\"\n"
     ]
    },
    {
     "name": "stderr",
     "output_type": "stream",
     "text": [
      "WARNING: External Downloader arguments given without specifying name. The arguments will be given to aria2c\n"
     ]
    },
    {
     "name": "stdout",
     "output_type": "stream",
     "text": [
      "[youtube] Extracting URL: https://www.youtube.com/watch?v=O56wZem2u3A\n",
      "[youtube] O56wZem2u3A: Downloading webpage\n",
      "[youtube] O56wZem2u3A: Downloading ios player API JSON\n",
      "[youtube] O56wZem2u3A: Downloading mweb player API JSON\n",
      "[youtube] O56wZem2u3A: Downloading m3u8 information\n",
      "[info] O56wZem2u3A: Downloading 1 format(s): 137+140\n",
      "[download] Destination: ./downloaded_celebvhq/raw/O56wZem2u3A.f137.mp4\n",
      "[download] 100% of  269.10MiB in 00:00:45 at 5.92MiB/s     \n",
      "[download] Destination: ./downloaded_celebvhq/raw/O56wZem2u3A.f140.m4a\n",
      "[download] 100% of   15.78MiB in 00:00:01 at 12.08MiB/s    \n",
      "[Merger] Merging formats into \"./downloaded_celebvhq/raw/O56wZem2u3A.mp4\"\n",
      "Deleting original file ./downloaded_celebvhq/raw/O56wZem2u3A.f137.mp4 (pass -k to keep)\n",
      "Deleting original file ./downloaded_celebvhq/raw/O56wZem2u3A.f140.m4a (pass -k to keep)\n",
      "yt-dlp  -f 'bestvideo[ext=mp4]+bestaudio[ext=m4a]/bestvideo+bestaudio' --skip-unavailable-fragments --merge-output-format mp4 https://www.youtube.com/watch?v=Op_fgLBxUQE --output ./downloaded_celebvhq/raw/Op_fgLBxUQE.mp4 --external-downloader aria2c --external-downloader-args \"-x 16 -k 1M\"\n"
     ]
    },
    {
     "name": "stderr",
     "output_type": "stream",
     "text": [
      "WARNING: External Downloader arguments given without specifying name. The arguments will be given to aria2c\n"
     ]
    },
    {
     "name": "stdout",
     "output_type": "stream",
     "text": [
      "[youtube] Extracting URL: https://www.youtube.com/watch?v=Op_fgLBxUQE\n",
      "[youtube] Op_fgLBxUQE: Downloading webpage\n",
      "[youtube] Op_fgLBxUQE: Downloading ios player API JSON\n",
      "[youtube] Op_fgLBxUQE: Downloading mweb player API JSON\n",
      "[youtube] Op_fgLBxUQE: Downloading m3u8 information\n",
      "[info] Op_fgLBxUQE: Downloading 1 format(s): 614+140\n",
      "[hlsnative] Downloading m3u8 manifest\n",
      "[hlsnative] Total fragments: 32\n",
      "[download] Destination: ./downloaded_celebvhq/raw/Op_fgLBxUQE.f614.mp4\n",
      "[download]  59.6% of ~   8.25MiB at    1.89MiB/s ETA 00:02 (frag 18/32) "
     ]
    }
   ],
   "source": [
    "\"\"\"\n",
    "Downloader\n",
    "\"\"\"\n",
    "\n",
    "import os\n",
    "import json\n",
    "import cv2\n",
    "\n",
    "\n",
    "def download(video_path, ytb_id, proxy=None):\n",
    "    \"\"\"\n",
    "    ytb_id: youtube_id\n",
    "    save_folder: save video folder\n",
    "    proxy: proxy url, defalut None\n",
    "    \"\"\"\n",
    "    if proxy is not None:\n",
    "        proxy_cmd = \"--proxy {}\".format(proxy)\n",
    "    else:\n",
    "        proxy_cmd = \"\"\n",
    "    if not os.path.exists(video_path):\n",
    "        down_video = \" \".join([\n",
    "            \"yt-dlp\",\n",
    "            proxy_cmd,\n",
    "            '-f', \"'bestvideo[ext=mp4]+bestaudio[ext=m4a]/bestvideo+bestaudio'\",\n",
    "            '--skip-unavailable-fragments',\n",
    "            '--merge-output-format', 'mp4',\n",
    "            \"https://www.youtube.com/watch?v=\" + ytb_id, \"--output\",\n",
    "            video_path, \"--external-downloader\", \"aria2c\",\n",
    "            \"--external-downloader-args\", '\"-x 16 -k 1M\"'\n",
    "        ])\n",
    "        print(down_video)\n",
    "        status = os.system(down_video)\n",
    "        if status != 0:\n",
    "            print(f\"video not found: {ytb_id}\")\n",
    "\n",
    "\n",
    "def process_ffmpeg(raw_vid_path, save_folder, save_vid_name,\n",
    "                   bbox, time):\n",
    "    \"\"\"\n",
    "    raw_vid_path:\n",
    "    save_folder:\n",
    "    save_vid_name:\n",
    "    bbox: format: top, bottom, left, right. the values are normalized to 0~1\n",
    "    time: begin_sec, end_sec\n",
    "    \"\"\"\n",
    "\n",
    "    def secs_to_timestr(secs):\n",
    "        hrs = secs // (60 * 60)\n",
    "        min = (secs - hrs * 3600) // 60 # thanks @LeeDongYeun for finding & fixing this bug\n",
    "        sec = secs % 60\n",
    "        end = (secs - int(secs)) * 100\n",
    "        return \"{:02d}:{:02d}:{:02d}.{:02d}\".format(int(hrs), int(min),\n",
    "                                                    int(sec), int(end))\n",
    "\n",
    "    def expand(bbox, ratio):\n",
    "        top, bottom = max(bbox[0] - ratio, 0), min(bbox[1] + ratio, 1)\n",
    "        left, right = max(bbox[2] - ratio, 0), min(bbox[3] + ratio, 1)\n",
    "\n",
    "        return top, bottom, left, right\n",
    "\n",
    "    def to_square(bbox):\n",
    "        top, bottom, leftx, right = bbox\n",
    "        h = bottom - top\n",
    "        w = right - leftx\n",
    "        c = min(h, w) // 2\n",
    "        c_h = (top + bottom) / 2\n",
    "        c_w = (leftx + right) / 2\n",
    "\n",
    "        top, bottom = c_h - c, c_h + c\n",
    "        leftx, right = c_w - c, c_w + c\n",
    "        return top, bottom, leftx, right\n",
    "\n",
    "    def denorm(bbox, height, width):\n",
    "        top, bottom, left, right = \\\n",
    "            round(bbox[0] * height), \\\n",
    "            round(bbox[1] * height), \\\n",
    "            round(bbox[2] * width), \\\n",
    "            round(bbox[3] * width)\n",
    "\n",
    "        return top, bottom, left, right\n",
    "\n",
    "    out_path = os.path.join(save_folder, save_vid_name)\n",
    "\n",
    "    cap = cv2.VideoCapture(raw_vid_path)\n",
    "    width = int(cap.get(cv2.CAP_PROP_FRAME_WIDTH))\n",
    "    height = int(cap.get(cv2.CAP_PROP_FRAME_HEIGHT))\n",
    "    top, bottom, left, right = to_square(\n",
    "        denorm(expand(bbox, 0.02), height, width))\n",
    "    start_sec, end_sec = time\n",
    "\n",
    "    cmd = f\"ffmpeg -i {raw_vid_path} -vf crop=w={right-left}:h={bottom-top}:x={left}:y={top} -ss {secs_to_timestr(start_sec)} -to {secs_to_timestr(end_sec)} -loglevel error {out_path}\"\n",
    "    os.system(cmd)\n",
    "    return out_path\n",
    "\n",
    "\n",
    "def load_data(file_path):\n",
    "    with open(file_path) as f:\n",
    "        data_dict = json.load(f)\n",
    "\n",
    "    for key, val in data_dict['clips'].items():\n",
    "        save_name = key+\".mp4\"\n",
    "        ytb_id = val['ytb_id']\n",
    "        time = val['duration']['start_sec'], val['duration']['end_sec']\n",
    "\n",
    "        bbox = [val['bbox']['top'], val['bbox']['bottom'],\n",
    "                val['bbox']['left'], val['bbox']['right']]\n",
    "        yield ytb_id, save_name, time, bbox\n",
    "\n",
    "\n",
    "if __name__ == '__main__':\n",
    "    json_path = 'celebvhq_info.json'  # json file path\n",
    "    raw_vid_root = './downloaded_celebvhq/raw/'  # download raw video path\n",
    "    processed_vid_root = './downloaded_celebvhq/processed/'  # processed video path\n",
    "    proxy = None  # proxy url example, set to None if not use\n",
    "\n",
    "    os.makedirs(raw_vid_root, exist_ok=True)\n",
    "    os.makedirs(processed_vid_root, exist_ok=True)\n",
    "\n",
    "    for vid_id, save_vid_name, time, bbox in load_data(json_path):\n",
    "        raw_vid_path = os.path.join(raw_vid_root, vid_id + \".mp4\")\n",
    "        # Downloading is io bounded and processing is cpu bounded.\n",
    "        # It is better to download all videos firstly and then process them via mutiple cpu cores.\n",
    "        download(raw_vid_path, vid_id, proxy)\n",
    "        # process_ffmpeg(raw_vid_path, processed_vid_root, save_vid_name, bbox, time)\n",
    "\n",
    "    # with open('./ytb_id_errored.log', 'r') as f:\n",
    "    #     lines = f.readlines()\n",
    "    # for line in lines:\n",
    "    #     raw_vid_path = os.path.join(raw_vid_root, line + \".mp4\")\n",
    "    #     download(raw_vid_path, line)"
   ]
  }
 ],
 "metadata": {
  "kernelspec": {
   "display_name": "Python 3 (ipykernel)",
   "language": "python",
   "name": "python3"
  },
  "language_info": {
   "codemirror_mode": {
    "name": "ipython",
    "version": 3
   },
   "file_extension": ".py",
   "mimetype": "text/x-python",
   "name": "python",
   "nbconvert_exporter": "python",
   "pygments_lexer": "ipython3",
   "version": "3.11.5"
  }
 },
 "nbformat": 4,
 "nbformat_minor": 5
}
